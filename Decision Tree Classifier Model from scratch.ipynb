{
 "cells": [
  {
   "cell_type": "markdown",
   "id": "bae7ac7a-c2ff-401d-bc86-6c27e539aa52",
   "metadata": {},
   "source": [
    "## DECISION TREE CLASSIFIER "
   ]
  },
  {
   "cell_type": "code",
   "execution_count": 2,
   "id": "406fa7f4-a801-4adc-a3ad-d95b1380af24",
   "metadata": {},
   "outputs": [],
   "source": [
    "import sys\n",
    "assert sys.version_info >= (3, 5)"
   ]
  },
  {
   "cell_type": "code",
   "execution_count": 3,
   "id": "3b3911e5-7fdc-4887-85bb-1cbf7b354e7a",
   "metadata": {},
   "outputs": [],
   "source": [
    "#importing required libraries\n",
    "import sklearn\n",
    "assert sklearn.__version__>= \"0.20\""
   ]
  },
  {
   "cell_type": "code",
   "execution_count": 7,
   "id": "53516da2-6b25-42a9-8de7-adfbe0d19f18",
   "metadata": {},
   "outputs": [],
   "source": [
    "import numpy as np\n",
    "import os\n",
    "import pandas as pd"
   ]
  },
  {
   "cell_type": "code",
   "execution_count": 5,
   "id": "a7e7c79c-8918-4564-a427-dc1fd7d4ed8d",
   "metadata": {},
   "outputs": [],
   "source": [
    "#To make output stable across runs\n",
    "np.random.seed(42)"
   ]
  },
  {
   "cell_type": "code",
   "execution_count": 6,
   "id": "8104e5b0-ca8a-4910-8f69-52186b1b44f5",
   "metadata": {},
   "outputs": [],
   "source": [
    "import matplotlib.pyplot as plt"
   ]
  },
  {
   "cell_type": "markdown",
   "id": "e824cc89-f24f-4afc-b7cc-581d46b9373f",
   "metadata": {},
   "source": [
    "#### Getting the data"
   ]
  },
  {
   "cell_type": "code",
   "execution_count": 10,
   "id": "220f2a48-6552-448c-94b2-9e19a09d4038",
   "metadata": {},
   "outputs": [
    {
     "data": {
      "text/html": [
       "<div>\n",
       "<style scoped>\n",
       "    .dataframe tbody tr th:only-of-type {\n",
       "        vertical-align: middle;\n",
       "    }\n",
       "\n",
       "    .dataframe tbody tr th {\n",
       "        vertical-align: top;\n",
       "    }\n",
       "\n",
       "    .dataframe thead th {\n",
       "        text-align: right;\n",
       "    }\n",
       "</style>\n",
       "<table border=\"1\" class=\"dataframe\">\n",
       "  <thead>\n",
       "    <tr style=\"text-align: right;\">\n",
       "      <th></th>\n",
       "      <th>sepal_length</th>\n",
       "      <th>sepal_width</th>\n",
       "      <th>petsl_length</th>\n",
       "      <th>petal_width</th>\n",
       "      <th>type</th>\n",
       "    </tr>\n",
       "  </thead>\n",
       "  <tbody>\n",
       "    <tr>\n",
       "      <th>0</th>\n",
       "      <td>4.9</td>\n",
       "      <td>3.0</td>\n",
       "      <td>1.4</td>\n",
       "      <td>0.2</td>\n",
       "      <td>Iris-setosa</td>\n",
       "    </tr>\n",
       "    <tr>\n",
       "      <th>1</th>\n",
       "      <td>4.7</td>\n",
       "      <td>3.2</td>\n",
       "      <td>1.3</td>\n",
       "      <td>0.2</td>\n",
       "      <td>Iris-setosa</td>\n",
       "    </tr>\n",
       "    <tr>\n",
       "      <th>2</th>\n",
       "      <td>4.6</td>\n",
       "      <td>3.1</td>\n",
       "      <td>1.5</td>\n",
       "      <td>0.2</td>\n",
       "      <td>Iris-setosa</td>\n",
       "    </tr>\n",
       "    <tr>\n",
       "      <th>3</th>\n",
       "      <td>5.0</td>\n",
       "      <td>3.6</td>\n",
       "      <td>1.4</td>\n",
       "      <td>0.2</td>\n",
       "      <td>Iris-setosa</td>\n",
       "    </tr>\n",
       "    <tr>\n",
       "      <th>4</th>\n",
       "      <td>5.4</td>\n",
       "      <td>3.9</td>\n",
       "      <td>1.7</td>\n",
       "      <td>0.4</td>\n",
       "      <td>Iris-setosa</td>\n",
       "    </tr>\n",
       "    <tr>\n",
       "      <th>5</th>\n",
       "      <td>4.6</td>\n",
       "      <td>3.4</td>\n",
       "      <td>1.4</td>\n",
       "      <td>0.3</td>\n",
       "      <td>Iris-setosa</td>\n",
       "    </tr>\n",
       "    <tr>\n",
       "      <th>6</th>\n",
       "      <td>5.0</td>\n",
       "      <td>3.4</td>\n",
       "      <td>1.5</td>\n",
       "      <td>0.2</td>\n",
       "      <td>Iris-setosa</td>\n",
       "    </tr>\n",
       "    <tr>\n",
       "      <th>7</th>\n",
       "      <td>4.4</td>\n",
       "      <td>2.9</td>\n",
       "      <td>1.4</td>\n",
       "      <td>0.2</td>\n",
       "      <td>Iris-setosa</td>\n",
       "    </tr>\n",
       "    <tr>\n",
       "      <th>8</th>\n",
       "      <td>4.9</td>\n",
       "      <td>3.1</td>\n",
       "      <td>1.5</td>\n",
       "      <td>0.1</td>\n",
       "      <td>Iris-setosa</td>\n",
       "    </tr>\n",
       "    <tr>\n",
       "      <th>9</th>\n",
       "      <td>5.4</td>\n",
       "      <td>3.7</td>\n",
       "      <td>1.5</td>\n",
       "      <td>0.2</td>\n",
       "      <td>Iris-setosa</td>\n",
       "    </tr>\n",
       "  </tbody>\n",
       "</table>\n",
       "</div>"
      ],
      "text/plain": [
       "   sepal_length  sepal_width  petsl_length  petal_width         type\n",
       "0           4.9          3.0           1.4          0.2  Iris-setosa\n",
       "1           4.7          3.2           1.3          0.2  Iris-setosa\n",
       "2           4.6          3.1           1.5          0.2  Iris-setosa\n",
       "3           5.0          3.6           1.4          0.2  Iris-setosa\n",
       "4           5.4          3.9           1.7          0.4  Iris-setosa\n",
       "5           4.6          3.4           1.4          0.3  Iris-setosa\n",
       "6           5.0          3.4           1.5          0.2  Iris-setosa\n",
       "7           4.4          2.9           1.4          0.2  Iris-setosa\n",
       "8           4.9          3.1           1.5          0.1  Iris-setosa\n",
       "9           5.4          3.7           1.5          0.2  Iris-setosa"
      ]
     },
     "execution_count": 10,
     "metadata": {},
     "output_type": "execute_result"
    }
   ],
   "source": [
    "col_names=['sepal_length','sepal_width','petsl_length','petal_width','type']\n",
    "data=pd.read_csv(\"iris.data.csv\",skiprows=1,header=None,names=col_names)\n",
    "data.head(10)"
   ]
  },
  {
   "cell_type": "markdown",
   "id": "a26c3683-0403-4db3-9781-65351892647d",
   "metadata": {},
   "source": [
    "### Node class"
   ]
  },
  {
   "cell_type": "code",
   "execution_count": 50,
   "id": "19fd704c-18b5-414e-b9c0-fd5a021315e8",
   "metadata": {},
   "outputs": [],
   "source": [
    "class Node():\n",
    "    def __init__(self,feature_index=None,threshold=None,left=None,right=None,info_gain=None,value=None):\n",
    "        self.feature_index=feature_index\n",
    "        self.threshold=threshold\n",
    "        self.left=left\n",
    "        self.right=right\n",
    "        self.info_gain=info_gain\n",
    "        self.value=value"
   ]
  },
  {
   "cell_type": "markdown",
   "id": "92a6ac6b-eb23-44f5-92a4-279de164569e",
   "metadata": {},
   "source": [
    "### Decision Tree class"
   ]
  },
  {
   "cell_type": "code",
   "execution_count": 54,
   "id": "8c12d3b9-22cd-4eb5-86c1-72ebbd40f053",
   "metadata": {},
   "outputs": [],
   "source": [
    "class DecisionTreeClassifier():\n",
    "    def __init__(self,min_samples_split=2,max_depth=2):\n",
    "        self.root=None\n",
    "        self.min_samples_split=min_samples_split\n",
    "        self.max_depth=max_depth\n",
    "    def build_tree(self,dataset,curr_depth=0):\n",
    "        X,Y=dataset[:,:-1],dataset[:,-1]\n",
    "        num_samples,num_features=np.shape(X)\n",
    "\n",
    "        #split until stopping conditions are met\n",
    "        if num_samples>=self.min_samples_split and curr_depth<=self.max_depth:\n",
    "            #to find the best split\n",
    "            best_split=self.get_best_split(dataset,num_samples,num_features)\n",
    "            #check if information gain is positive\n",
    "            if best_split[\"info_gain\"]>0:\n",
    "                #recurssion left\n",
    "                left_subtree=self.build_tree(best_split[\"dataset_left\"],curr_depth+1)\n",
    "                #recurssion right\n",
    "                right_subtree=self.build_tree(best_split[\"dataset_right\"],curr_depth+1)\n",
    "                #return decision node\n",
    "                return Node(best_split[\"feature_index\"],best_split[\"threshold\"],\n",
    "                    left_subtree,right_subtree,best_split[\"info_gain\"])\n",
    "\n",
    "        # compute leap node \n",
    "        leaf_value=self.calculate_leaf_value(Y)\n",
    "        #return leaf node\n",
    "        return Node(value=leaf_value)\n",
    "\n",
    "    def get_best_split(self,dataset,num_samples,num_features):\n",
    "        ##function to find the best split\n",
    "    \n",
    "        best_split={}\n",
    "        max_info_gain=-float(\"inf\")\n",
    "    \n",
    "        ##loop over all the features\n",
    "        for feature_index in range(num_features):\n",
    "            feature_values=dataset[:,feature_index]\n",
    "            possible_thresholds=np.unique(feature_values)\n",
    "            ##loop over all the feature values present in the data\n",
    "            for threshold in possible_thresholds:\n",
    "                dataset_left,dataset_right=self.split(dataset,feature_index,threshold)\n",
    "                if len(dataset_left)>0 and len(dataset_right)>0:\n",
    "                    y,left_y,right_y=dataset[:,-1],dataset_left[:,-1],dataset_right[:,-1]\n",
    "                    #compute information gain\n",
    "                    curr_info_gain=self.information_gain(y,left_y,right_y,\"gini\")\n",
    "                    #update the best split if needed\n",
    "                    if curr_info_gain>max_info_gain:\n",
    "                        best_split[\"feature_index\"]=feature_index\n",
    "                        best_split[\"threshold\"]=threshold\n",
    "                        best_split[\"dataset_left\"]=dataset_left\n",
    "                        best_split[\"dataset_right\"]=dataset_right\n",
    "                        best_split[\"info_gain\"]=curr_info_gain\n",
    "                        max_info_gain=curr_info_gain\n",
    "        return best_split\n",
    "    \n",
    "    def split(self,dataset,feature_index,threshold):\n",
    "        ##function to split the data\n",
    "        dataset_left=np.array([row for row in dataset if row[feature_index]<=threshold])\n",
    "        dataset_right=np.array([row for row in dataset if row[feature_index]>threshold])\n",
    "        return dataset_left,dataset_right\n",
    "    def information_gain(self,parent,l_child,r_child,mode=\"entropy\"):\n",
    "        ## function to compute information gain\n",
    "        weight_l=len(l_child)/len(parent)\n",
    "        weight_r=len(r_child)/len(parent)\n",
    "        if mode==\"gini\":\n",
    "            gain=self.gini_index(parent)-(weight_l*self.gini_index(l_child)+weight_r*self.gini_index(r_child))\n",
    "        else:\n",
    "            gain=self.entropy(parent)-(weight_l*self.entropy(l_child)+weight_r*self.entropy(r_child))\n",
    "        return gain\n",
    "\n",
    "    def entropy(self,y):\n",
    "        ## function to compute entropy\n",
    "\n",
    "        class_labels=np.unique(y)\n",
    "        entropy=0\n",
    "        for cls in class_labels:\n",
    "            p_cls=len(y[y==cls])/len(y)\n",
    "            entropy+=-p_cls*np.log2(p_cls)\n",
    "        return entropy\n",
    "\n",
    "    def gini_index(self,y):\n",
    "        ## function to compute gini index\n",
    "\n",
    "        class_labels=np.unique(y)\n",
    "        gini=0\n",
    "        for cls in class_labels:\n",
    "            p_cls=len(y[y==cls])/len(y)\n",
    "            gini+=p_cls**2\n",
    "        return 1-gini\n",
    "\n",
    "    def calculate_leaf_value(self,Y):\n",
    "        ## function to comnpute leaf node\n",
    "\n",
    "        Y=list(Y)\n",
    "        return max(Y,key=Y.count)\n",
    "\n",
    "    def print_tree(self,tree=None,indent=\" \"):\n",
    "        ## function to print the tree\n",
    "\n",
    "        if not tree:\n",
    "            tree=self.root\n",
    "\n",
    "        if tree.value is not None:\n",
    "            print(tree.value)\n",
    "\n",
    "        else:\n",
    "            print(\"X_\"+str(tree.feature_index),\"<=\",tree.threshold,\"?\",tree.info_gain)\n",
    "            print(\"%sleft:\"%(indent),end=\"\")\n",
    "            self.print_tree(tree.left,indent +indent)\n",
    "            print(\"%sright:\"%(indent),end=\"\")\n",
    "            self.print_tree(tree.right,indent+indent)\n",
    "\n",
    "    def fit(self,X,Y):\n",
    "        ## function to train the tree\n",
    "\n",
    "        dataset=np.concatenate((X,Y),axis=1)\n",
    "        self.root=self.build_tree(dataset)\n",
    "\n",
    "    def predict(self,X):\n",
    "        ## function to predict new dataset\n",
    "\n",
    "        predictions=[self.make_prediction(x,self.root) for x in X]\n",
    "        return predictions\n",
    "\n",
    "    def make_prediction(self,x,tree):\n",
    "        ## function to predict a single data point\n",
    "\n",
    "        if tree.value!=None: return tree.value\n",
    "        feature_val=x[tree.feature_index]\n",
    "        if feature_val<=tree.threshold:\n",
    "            return self.make_prediction(x,tree.left)\n",
    "        else:\n",
    "            return self.make_prediction(x,tree.right)"
   ]
  },
  {
   "cell_type": "markdown",
   "id": "f79f2e2c-dbf9-485d-84d0-e61860562c55",
   "metadata": {},
   "source": [
    "### Train test split"
   ]
  },
  {
   "cell_type": "code",
   "execution_count": 55,
   "id": "9b029f53-d858-415e-b86d-f1326174db10",
   "metadata": {},
   "outputs": [],
   "source": [
    "X=data.iloc[:,:-1].values\n",
    "Y=data.iloc[:,-1].values.reshape(-1,1)\n",
    "from sklearn.model_selection import train_test_split\n",
    "X_train,X_test,Y_train,Y_test=train_test_split(X,Y,test_size=.2,random_state=41)"
   ]
  },
  {
   "cell_type": "markdown",
   "id": "80cf5d44-167d-42ff-beca-640d70d90487",
   "metadata": {},
   "source": [
    "### Fit the model"
   ]
  },
  {
   "cell_type": "code",
   "execution_count": 56,
   "id": "02c272e9-ed3c-415a-8466-2ec5ca35db30",
   "metadata": {},
   "outputs": [
    {
     "name": "stdout",
     "output_type": "stream",
     "text": [
      "X_2 <= 1.7 ? 0.33904421497105636\n",
      " left:Iris-setosa\n",
      " right:X_3 <= 1.5 ? 0.40269559500328744\n",
      "  left:X_2 <= 4.9 ? 0.04996712689020377\n",
      "    left:Iris-versicolor\n",
      "    right:Iris-virginica\n",
      "  right:X_2 <= 4.8 ? 0.040912933220625364\n",
      "    left:X_1 <= 2.8 ? 0.5\n",
      "        left:Iris-virginica\n",
      "        right:Iris-versicolor\n",
      "    right:X_3 <= 1.7 ? 0.026938775510204082\n",
      "        left:Iris-virginica\n",
      "        right:Iris-virginica\n"
     ]
    }
   ],
   "source": [
    "classifier=DecisionTreeClassifier(min_samples_split=3,max_depth=3)\n",
    "classifier.fit(X_train,Y_train)\n",
    "classifier.print_tree()"
   ]
  },
  {
   "cell_type": "markdown",
   "id": "50aec182-6aae-481f-93ea-4f031134fdb0",
   "metadata": {},
   "source": [
    "### Test the model"
   ]
  },
  {
   "cell_type": "code",
   "execution_count": 57,
   "id": "8de4a6d3-f482-4107-be30-310974e80cc4",
   "metadata": {},
   "outputs": [
    {
     "data": {
      "text/plain": [
       "0.8666666666666667"
      ]
     },
     "execution_count": 57,
     "metadata": {},
     "output_type": "execute_result"
    }
   ],
   "source": [
    "Y_pred=classifier.predict(X_test)\n",
    "from sklearn.metrics import accuracy_score\n",
    "accuracy_score(Y_test,Y_pred)"
   ]
  },
  {
   "cell_type": "code",
   "execution_count": null,
   "id": "2c91baa8-4788-439e-8672-ce29ea990c58",
   "metadata": {},
   "outputs": [],
   "source": []
  },
  {
   "cell_type": "code",
   "execution_count": null,
   "id": "6ee7c03c-98cd-4f04-8f87-5f046081eaf5",
   "metadata": {},
   "outputs": [],
   "source": []
  }
 ],
 "metadata": {
  "kernelspec": {
   "display_name": "Python [conda env:base] *",
   "language": "python",
   "name": "conda-base-py"
  },
  "language_info": {
   "codemirror_mode": {
    "name": "ipython",
    "version": 3
   },
   "file_extension": ".py",
   "mimetype": "text/x-python",
   "name": "python",
   "nbconvert_exporter": "python",
   "pygments_lexer": "ipython3",
   "version": "3.12.7"
  }
 },
 "nbformat": 4,
 "nbformat_minor": 5
}
