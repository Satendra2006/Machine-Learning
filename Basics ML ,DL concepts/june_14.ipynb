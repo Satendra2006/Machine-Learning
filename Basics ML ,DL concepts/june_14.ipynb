{
 "cells": [
  {
   "cell_type": "markdown",
   "id": "27c980a6-20b9-4957-9138-e297ba59c884",
   "metadata": {},
   "source": [
    "## FUNCTION: Reusability of code"
   ]
  },
  {
   "cell_type": "code",
   "execution_count": 1,
   "id": "171dacaf-1aeb-4816-9819-a34da9a41dbc",
   "metadata": {},
   "outputs": [],
   "source": [
    "def name_of_college(name):\n",
    "    print('hello {}'.format(name))"
   ]
  },
  {
   "cell_type": "code",
   "execution_count": 2,
   "id": "a167637f-1584-47fa-a3ec-a8e321886080",
   "metadata": {},
   "outputs": [
    {
     "name": "stdout",
     "output_type": "stream",
     "text": [
      "hello siliconite\n"
     ]
    }
   ],
   "source": [
    "name='siliconite'\n",
    "name_of_college(name)"
   ]
  },
  {
   "cell_type": "markdown",
   "id": "141d1665-6bc8-4b02-988b-3c3e7963f900",
   "metadata": {},
   "source": [
    "#### 1.WAF to add two number sum method."
   ]
  },
  {
   "cell_type": "code",
   "execution_count": 3,
   "id": "40585f5f-5321-4a1b-b227-57ef2dc63edb",
   "metadata": {},
   "outputs": [
    {
     "ename": "TypeError",
     "evalue": "'int' object is not iterable",
     "output_type": "error",
     "traceback": [
      "\u001b[1;31m---------------------------------------------------------------------------\u001b[0m",
      "\u001b[1;31mTypeError\u001b[0m                                 Traceback (most recent call last)",
      "Cell \u001b[1;32mIn[3], line 1\u001b[0m\n\u001b[1;32m----> 1\u001b[0m \u001b[38;5;28msum\u001b[39m(\u001b[38;5;241m2\u001b[39m,\u001b[38;5;241m3\u001b[39m)\n",
      "\u001b[1;31mTypeError\u001b[0m: 'int' object is not iterable"
     ]
    }
   ],
   "source": [
    "sum(2,3)"
   ]
  },
  {
   "cell_type": "code",
   "execution_count": null,
   "id": "dfc2b2be-b5a7-45b3-a7d8-a4ef92010a98",
   "metadata": {},
   "outputs": [],
   "source": [
    "sum((2,3))"
   ]
  },
  {
   "cell_type": "code",
   "execution_count": 4,
   "id": "4c585260-d4f8-4635-8b50-31d4a500daf3",
   "metadata": {},
   "outputs": [],
   "source": [
    "def add_number(a,b):\n",
    "    print(sum((a,b)))"
   ]
  },
  {
   "cell_type": "code",
   "execution_count": 5,
   "id": "2f660510-6704-48a2-ae52-c71240ac35c9",
   "metadata": {},
   "outputs": [
    {
     "name": "stdout",
     "output_type": "stream",
     "text": [
      "6\n"
     ]
    }
   ],
   "source": [
    "add_number(2,4)"
   ]
  },
  {
   "cell_type": "code",
   "execution_count": 6,
   "id": "ba416e60-b0fc-4625-b211-788aa81e68a0",
   "metadata": {},
   "outputs": [],
   "source": [
    "def add_number(a,b):\n",
    "    return(sum((a,b)))"
   ]
  },
  {
   "cell_type": "code",
   "execution_count": 7,
   "id": "860ead60-3ff7-4dee-b3f3-84d8a2f52815",
   "metadata": {},
   "outputs": [],
   "source": [
    "a=add_number(2,4)"
   ]
  },
  {
   "cell_type": "code",
   "execution_count": 8,
   "id": "a2b8c175-aa81-4eca-b7d6-5b1a5a3548e7",
   "metadata": {},
   "outputs": [
    {
     "data": {
      "text/plain": [
       "6"
      ]
     },
     "execution_count": 8,
     "metadata": {},
     "output_type": "execute_result"
    }
   ],
   "source": [
    "a"
   ]
  },
  {
   "cell_type": "markdown",
   "id": "c3cb8da7-5286-45f6-a2cf-a91656d62f59",
   "metadata": {},
   "source": [
    "#### WAF to determnine a number is even or not."
   ]
  },
  {
   "cell_type": "code",
   "execution_count": 10,
   "id": "a95f17cb-376c-4a35-b35e-2c3118f6ee85",
   "metadata": {},
   "outputs": [],
   "source": [
    "def even(number):\n",
    "    if number%2==0:\n",
    "        print(number,\"is even\")\n",
    "    else:\n",
    "        print(number,\"is odd\")"
   ]
  },
  {
   "cell_type": "code",
   "execution_count": 11,
   "id": "cc7e78d9-ca6c-4c19-9412-3733c74f5c84",
   "metadata": {},
   "outputs": [
    {
     "name": "stdout",
     "output_type": "stream",
     "text": [
      "5 is odd\n"
     ]
    }
   ],
   "source": [
    "even(5)"
   ]
  },
  {
   "cell_type": "markdown",
   "id": "d383e200-4995-43c2-a683-5be7ed4301bf",
   "metadata": {},
   "source": [
    "#### 2. WAF to determinig a list of number is even or odd, it should return TRUE if even else false."
   ]
  },
  {
   "cell_type": "code",
   "execution_count": 12,
   "id": "a380567b-bd76-40fd-a28e-74174a1cdd9f",
   "metadata": {},
   "outputs": [],
   "source": [
    "def check_num(mylist):\n",
    "    for a in mylist:\n",
    "        if a%2==0:\n",
    "            return True\n",
    "        else:\n",
    "            return False"
   ]
  },
  {
   "cell_type": "code",
   "execution_count": 13,
   "id": "7caa9f38-673f-4b92-96e2-232c82a6818d",
   "metadata": {},
   "outputs": [
    {
     "data": {
      "text/plain": [
       "True"
      ]
     },
     "execution_count": 13,
     "metadata": {},
     "output_type": "execute_result"
    }
   ],
   "source": [
    "check_num([2,4])"
   ]
  },
  {
   "cell_type": "code",
   "execution_count": 14,
   "id": "22eb3805-cdae-45bf-a2b3-5d49eafaf0f1",
   "metadata": {},
   "outputs": [
    {
     "data": {
      "text/plain": [
       "False"
      ]
     },
     "execution_count": 14,
     "metadata": {},
     "output_type": "execute_result"
    }
   ],
   "source": [
    "check_num([1,2])"
   ]
  },
  {
   "cell_type": "code",
   "execution_count": 16,
   "id": "0bb1fdc4-2353-4553-8f30-cd1351640b32",
   "metadata": {},
   "outputs": [],
   "source": [
    "def check_num(a):\n",
    "    if a%2==0:\n",
    "        return True\n",
    "    else:\n",
    "        return False"
   ]
  },
  {
   "cell_type": "code",
   "execution_count": 17,
   "id": "febc4fd6-6b32-47a9-98e9-41c6a3b509cf",
   "metadata": {},
   "outputs": [
    {
     "name": "stdout",
     "output_type": "stream",
     "text": [
      "False\n",
      "True\n",
      "False\n"
     ]
    }
   ],
   "source": [
    "for a in [1,2,3]:\n",
    "    print(check_num(a))"
   ]
  },
  {
   "cell_type": "code",
   "execution_count": 20,
   "id": "b4e38f93-f7a4-47b5-8546-6141c926d092",
   "metadata": {},
   "outputs": [],
   "source": [
    "def add_number(a,b):\n",
    "    return (sum((a,b)))"
   ]
  },
  {
   "cell_type": "code",
   "execution_count": 21,
   "id": "e2e0b020-b5e0-41bc-9cf0-dfc320a75ad8",
   "metadata": {},
   "outputs": [
    {
     "ename": "TypeError",
     "evalue": "add_number() takes 2 positional arguments but 4 were given",
     "output_type": "error",
     "traceback": [
      "\u001b[1;31m---------------------------------------------------------------------------\u001b[0m",
      "\u001b[1;31mTypeError\u001b[0m                                 Traceback (most recent call last)",
      "Cell \u001b[1;32mIn[21], line 1\u001b[0m\n\u001b[1;32m----> 1\u001b[0m add_number(\u001b[38;5;241m3\u001b[39m,\u001b[38;5;241m4\u001b[39m,\u001b[38;5;241m1\u001b[39m,\u001b[38;5;241m2\u001b[39m)\n",
      "\u001b[1;31mTypeError\u001b[0m: add_number() takes 2 positional arguments but 4 were given"
     ]
    }
   ],
   "source": [
    "add_number(3,4,1,2)"
   ]
  },
  {
   "cell_type": "markdown",
   "id": "9264e582-4ad3-413b-abdb-2e01e12d1433",
   "metadata": {},
   "source": [
    "## *args-multiple parameters"
   ]
  },
  {
   "cell_type": "code",
   "execution_count": 22,
   "id": "2103352d-ab88-439d-b3ce-78f92eece172",
   "metadata": {},
   "outputs": [],
   "source": [
    "def add_numbers(*args):\n",
    "    return (sum((args)))\n",
    "    "
   ]
  },
  {
   "cell_type": "code",
   "execution_count": 23,
   "id": "ffff5ae7-d976-41a6-ae4e-e01a3fa433fd",
   "metadata": {},
   "outputs": [
    {
     "data": {
      "text/plain": [
       "10"
      ]
     },
     "execution_count": 23,
     "metadata": {},
     "output_type": "execute_result"
    }
   ],
   "source": [
    "add_numbers(1,2,3,4)"
   ]
  },
  {
   "cell_type": "code",
   "execution_count": 24,
   "id": "4b177dd4-3094-42b1-8baf-71d6d5aafc2a",
   "metadata": {},
   "outputs": [
    {
     "data": {
      "text/plain": [
       "3"
      ]
     },
     "execution_count": 24,
     "metadata": {},
     "output_type": "execute_result"
    }
   ],
   "source": [
    "add_numbers(1,2)"
   ]
  },
  {
   "cell_type": "code",
   "execution_count": 25,
   "id": "b8dd7e14-7185-46aa-b9c3-551fb1ada9bd",
   "metadata": {},
   "outputs": [
    {
     "data": {
      "text/plain": [
       "66"
      ]
     },
     "execution_count": 25,
     "metadata": {},
     "output_type": "execute_result"
    }
   ],
   "source": [
    "add_numbers(1,23,3,4,5,6,7,8,9)"
   ]
  },
  {
   "cell_type": "markdown",
   "id": "892b00af-0d32-4027-999e-c3222a1122ac",
   "metadata": {},
   "source": [
    "#### 4.WAF to determine sqaure of list of numbers."
   ]
  },
  {
   "cell_type": "code",
   "execution_count": 48,
   "id": "aad5ebed-5f7f-448a-b563-70d0478a325f",
   "metadata": {},
   "outputs": [],
   "source": [
    "def square_num(num):\n",
    "    return(num**2)"
   ]
  },
  {
   "cell_type": "code",
   "execution_count": 27,
   "id": "925dc667-f218-4636-8dd0-fb152d289706",
   "metadata": {},
   "outputs": [
    {
     "name": "stdout",
     "output_type": "stream",
     "text": [
      "1\n",
      "4\n",
      "9\n"
     ]
    }
   ],
   "source": [
    "for a in [1,2,3]:\n",
    "    print(square_num(a))"
   ]
  },
  {
   "cell_type": "code",
   "execution_count": 28,
   "id": "d63e8d00-000c-4f61-9c32-2c44e362c97c",
   "metadata": {},
   "outputs": [
    {
     "data": {
      "text/plain": [
       "[1, 4, 9, 16, 25, 36]"
      ]
     },
     "execution_count": 28,
     "metadata": {},
     "output_type": "execute_result"
    }
   ],
   "source": [
    "list(map(square_num,[1,2,3,4,5,6]))"
   ]
  },
  {
   "cell_type": "code",
   "execution_count": 31,
   "id": "c108061d-a654-4c5b-bb5c-9fc13376873a",
   "metadata": {},
   "outputs": [
    {
     "data": {
      "text/plain": [
       "(4, 9, 16, 25, 36)"
      ]
     },
     "execution_count": 31,
     "metadata": {},
     "output_type": "execute_result"
    }
   ],
   "source": [
    "tuple(map(square_num,[2,3,4,5,6]))"
   ]
  },
  {
   "cell_type": "markdown",
   "id": "d5e5074c-638d-40b8-b80d-a4bc374b50d2",
   "metadata": {},
   "source": [
    "## MAP funtion: It maps the inputd to the defined funtion, as shown above"
   ]
  },
  {
   "cell_type": "markdown",
   "id": "110eaf4e-5ba3-4121-9f1c-788cfc6c9f17",
   "metadata": {},
   "source": [
    "### Filter Function:"
   ]
  },
  {
   "cell_type": "markdown",
   "id": "59387104-8776-43f6-b59c-9fc5c6396018",
   "metadata": {},
   "source": [
    "#### WAF to grab on;y the even number from a list of 10 natural numbers."
   ]
  },
  {
   "cell_type": "code",
   "execution_count": 67,
   "id": "bd3e9bdb-ddb7-4e2f-90f3-8dc60ee522fd",
   "metadata": {},
   "outputs": [],
   "source": [
    "def check_even_num(a):\n",
    "    if a%2==0:\n",
    "        return a"
   ]
  },
  {
   "cell_type": "code",
   "execution_count": 33,
   "id": "236c8c2a-7171-4025-870e-ff76434eb454",
   "metadata": {},
   "outputs": [
    {
     "name": "stdout",
     "output_type": "stream",
     "text": [
      "None\n",
      "2\n",
      "None\n",
      "4\n",
      "None\n",
      "6\n",
      "None\n",
      "8\n",
      "None\n",
      "10\n"
     ]
    }
   ],
   "source": [
    "for a in range(1,11):\n",
    "    print(check_even_num(a))"
   ]
  },
  {
   "cell_type": "code",
   "execution_count": 34,
   "id": "ab2fceab-289b-4cdd-bcd1-a17b323d823a",
   "metadata": {},
   "outputs": [
    {
     "data": {
      "text/plain": [
       "<filter at 0x137fd5d0f70>"
      ]
     },
     "execution_count": 34,
     "metadata": {},
     "output_type": "execute_result"
    }
   ],
   "source": [
    "filter(check_even_num,range(1,11))"
   ]
  },
  {
   "cell_type": "code",
   "execution_count": 35,
   "id": "e5fda95b-a9af-4014-a9bb-141ac7d8b373",
   "metadata": {},
   "outputs": [
    {
     "data": {
      "text/plain": [
       "[2, 4, 6, 8, 10]"
      ]
     },
     "execution_count": 35,
     "metadata": {},
     "output_type": "execute_result"
    }
   ],
   "source": [
    "list(filter(check_even_num,range(1,11)))"
   ]
  },
  {
   "cell_type": "code",
   "execution_count": 37,
   "id": "bc27fb9b-0721-4d11-baaa-61cd71b1ff7e",
   "metadata": {},
   "outputs": [],
   "source": [
    "def check_even_num(a):\n",
    "    if a%2==0:\n",
    "        print(a)"
   ]
  },
  {
   "cell_type": "code",
   "execution_count": 39,
   "id": "fe5a2398-094d-4ed8-baf4-a10704a79676",
   "metadata": {},
   "outputs": [
    {
     "name": "stdout",
     "output_type": "stream",
     "text": [
      "2\n",
      "4\n",
      "6\n",
      "8\n",
      "10\n"
     ]
    }
   ],
   "source": [
    "for a in range(1,11):\n",
    "    check_even_num(a)"
   ]
  },
  {
   "cell_type": "code",
   "execution_count": 42,
   "id": "6972603f-c6ab-4f94-959a-27224544a9e9",
   "metadata": {},
   "outputs": [
    {
     "name": "stdout",
     "output_type": "stream",
     "text": [
      "2\n",
      "4\n",
      "6\n",
      "8\n",
      "10\n"
     ]
    },
    {
     "data": {
      "text/plain": [
       "[]"
      ]
     },
     "execution_count": 42,
     "metadata": {},
     "output_type": "execute_result"
    }
   ],
   "source": [
    "list(filter(check_even_num,range(1,11)))"
   ]
  },
  {
   "cell_type": "markdown",
   "id": "e6e20ecd-4de2-4dc0-996d-6c72e1ba1a96",
   "metadata": {},
   "source": [
    "## LAMBDA expression."
   ]
  },
  {
   "cell_type": "markdown",
   "id": "a982e49a-db5f-41c3-8a38-8b3fd6b693a4",
   "metadata": {},
   "source": [
    "#### WAF to find a square of a number."
   ]
  },
  {
   "cell_type": "code",
   "execution_count": 43,
   "id": "74b260ff-221f-4c99-ad2f-ce264f561031",
   "metadata": {},
   "outputs": [],
   "source": [
    "def square_num(num):\n",
    "    return(num**2)"
   ]
  },
  {
   "cell_type": "code",
   "execution_count": 45,
   "id": "15ede057-52c7-4baa-a085-8a3d55fec952",
   "metadata": {},
   "outputs": [
    {
     "data": {
      "text/plain": [
       "4"
      ]
     },
     "execution_count": 45,
     "metadata": {},
     "output_type": "execute_result"
    }
   ],
   "source": [
    "square_num(2)"
   ]
  },
  {
   "cell_type": "code",
   "execution_count": 49,
   "id": "4db3fea2-4f88-42d0-96c3-1fb8197993b6",
   "metadata": {},
   "outputs": [],
   "source": [
    "def square_num1(num):return (num**2)"
   ]
  },
  {
   "cell_type": "code",
   "execution_count": 51,
   "id": "b849f329-92d8-4ced-a408-98ea5a96a313",
   "metadata": {},
   "outputs": [
    {
     "data": {
      "text/plain": [
       "25"
      ]
     },
     "execution_count": 51,
     "metadata": {},
     "output_type": "execute_result"
    }
   ],
   "source": [
    "square_num1(5)"
   ]
  },
  {
   "cell_type": "code",
   "execution_count": 52,
   "id": "0728e938-5260-404d-bd2f-bbd489f64d4b",
   "metadata": {},
   "outputs": [],
   "source": [
    "### Lambda expression:\n",
    "sq=lambda num:num**2"
   ]
  },
  {
   "cell_type": "code",
   "execution_count": 53,
   "id": "c40720d8-8bf6-430e-a176-b37546fa9822",
   "metadata": {},
   "outputs": [
    {
     "data": {
      "text/plain": [
       "9"
      ]
     },
     "execution_count": 53,
     "metadata": {},
     "output_type": "execute_result"
    }
   ],
   "source": [
    "sq(3)"
   ]
  },
  {
   "cell_type": "markdown",
   "id": "654e6869-83aa-4f57-83bb-25def5e2701f",
   "metadata": {},
   "source": [
    "#### Write a lambda expression to find square of list of numbers."
   ]
  },
  {
   "cell_type": "code",
   "execution_count": 54,
   "id": "eb05dd1e-e193-4a04-8b7f-271e16cc6551",
   "metadata": {},
   "outputs": [
    {
     "data": {
      "text/plain": [
       "[1, 4, 9, 16]"
      ]
     },
     "execution_count": 54,
     "metadata": {},
     "output_type": "execute_result"
    }
   ],
   "source": [
    "#### map(functionname,numbers)\n",
    "list(map(lambda num:num**2,[1,2,3,4]))"
   ]
  },
  {
   "cell_type": "code",
   "execution_count": 56,
   "id": "b2b1952b-557a-470c-b1ff-a52626baa75b",
   "metadata": {},
   "outputs": [
    {
     "data": {
      "text/plain": [
       "[1, 4, 9, 16]"
      ]
     },
     "execution_count": 56,
     "metadata": {},
     "output_type": "execute_result"
    }
   ],
   "source": [
    "list(map(sq,[1,2,3,4]))"
   ]
  },
  {
   "cell_type": "markdown",
   "id": "0cd4e050-9e14-4116-abf2-51754ba28422",
   "metadata": {},
   "source": [
    "#### Write a lambda expression to find even number from a list of numbers:"
   ]
  },
  {
   "cell_type": "code",
   "execution_count": 57,
   "id": "36154d68-4663-4681-b5b5-c63e8ff23f9f",
   "metadata": {},
   "outputs": [],
   "source": [
    "def check_num(a):\n",
    "    if a%2==0:\n",
    "        return a"
   ]
  },
  {
   "cell_type": "code",
   "execution_count": 58,
   "id": "62ecb665-6b65-4ed7-bfa3-14b399fb17ee",
   "metadata": {},
   "outputs": [
    {
     "data": {
      "text/plain": [
       "4"
      ]
     },
     "execution_count": 58,
     "metadata": {},
     "output_type": "execute_result"
    }
   ],
   "source": [
    "check_num(4)"
   ]
  },
  {
   "cell_type": "code",
   "execution_count": 59,
   "id": "108c9fbe-0e0a-4d89-a1be-ecfced101d5a",
   "metadata": {},
   "outputs": [],
   "source": [
    "def check_num(a):\n",
    "        return a%2==0"
   ]
  },
  {
   "cell_type": "code",
   "execution_count": 60,
   "id": "fb3e84ce-6259-4414-91bd-d431ce6ce36c",
   "metadata": {},
   "outputs": [
    {
     "data": {
      "text/plain": [
       "True"
      ]
     },
     "execution_count": 60,
     "metadata": {},
     "output_type": "execute_result"
    }
   ],
   "source": [
    "check_num(4)"
   ]
  },
  {
   "cell_type": "code",
   "execution_count": 62,
   "id": "5922a6d6-1e93-4578-a700-4b86c8944ab5",
   "metadata": {},
   "outputs": [
    {
     "data": {
      "text/plain": [
       "[2, 4, 6]"
      ]
     },
     "execution_count": 62,
     "metadata": {},
     "output_type": "execute_result"
    }
   ],
   "source": [
    "list(filter(lambda num:num%2==0,[1,2,3,4,5,6]))"
   ]
  },
  {
   "cell_type": "code",
   "execution_count": null,
   "id": "83abab6a-4b57-441d-bd13-e3f5fb176504",
   "metadata": {},
   "outputs": [],
   "source": []
  }
 ],
 "metadata": {
  "kernelspec": {
   "display_name": "Python [conda env:base] *",
   "language": "python",
   "name": "conda-base-py"
  },
  "language_info": {
   "codemirror_mode": {
    "name": "ipython",
    "version": 3
   },
   "file_extension": ".py",
   "mimetype": "text/x-python",
   "name": "python",
   "nbconvert_exporter": "python",
   "pygments_lexer": "ipython3",
   "version": "3.12.7"
  }
 },
 "nbformat": 4,
 "nbformat_minor": 5
}
