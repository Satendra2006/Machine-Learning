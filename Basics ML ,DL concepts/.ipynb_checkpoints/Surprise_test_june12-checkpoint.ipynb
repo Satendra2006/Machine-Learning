{
 "cells": [
  {
   "cell_type": "markdown",
   "id": "20cd0d10-5228-4f28-8897-5c25e1e8c512",
   "metadata": {},
   "source": [
    "# ASSIGNMENT:-1"
   ]
  },
  {
   "cell_type": "markdown",
   "id": "0a4211bd-59a2-443e-a10a-2dc94ce9a84b",
   "metadata": {},
   "source": [
    "## 1.Given list=[1,[2,3],[4,[5,6]]], extract the number 6 using indexing only."
   ]
  },
  {
   "cell_type": "code",
   "execution_count": 1,
   "id": "d4896e2f-90e7-4803-80d1-3b7eb132754f",
   "metadata": {},
   "outputs": [],
   "source": [
    "list=[1,[2,3],[4,[5,6]]]"
   ]
  },
  {
   "cell_type": "code",
   "execution_count": 2,
   "id": "ebbf23d2-6ef4-47a0-afe0-8f2bd1fe89d1",
   "metadata": {},
   "outputs": [
    {
     "data": {
      "text/plain": [
       "6"
      ]
     },
     "execution_count": 2,
     "metadata": {},
     "output_type": "execute_result"
    }
   ],
   "source": [
    "list[2][1][1]"
   ]
  },
  {
   "cell_type": "markdown",
   "id": "783a9f17-7e71-4c02-81fd-80dcbaa2d876",
   "metadata": {},
   "source": [
    "## 2.list1=[10,20,30]--Convert this list into a string:\"10-20-30\" using only string/list methods."
   ]
  },
  {
   "cell_type": "code",
   "execution_count": 3,
   "id": "c7a25676-4e06-4e26-b583-27db47bdf526",
   "metadata": {},
   "outputs": [],
   "source": [
    "list1=[10,20,30]"
   ]
  },
  {
   "cell_type": "code",
   "execution_count": 17,
   "id": "f6d01f87-ac1d-4ae6-a7d9-acaba7891071",
   "metadata": {},
   "outputs": [],
   "source": [
    "temp_list=[]"
   ]
  },
  {
   "cell_type": "code",
   "execution_count": 18,
   "id": "13dd40b3-f3e2-4b34-b27d-8703cdb78d9e",
   "metadata": {},
   "outputs": [],
   "source": [
    "for item in list1:\n",
    "    temp_list.append(str(item))"
   ]
  },
  {
   "cell_type": "code",
   "execution_count": 19,
   "id": "6547ce15-1cc2-43bc-bcfe-e3a5d5b5db88",
   "metadata": {},
   "outputs": [],
   "source": [
    "result=\"-\".join(temp_list)"
   ]
  },
  {
   "cell_type": "code",
   "execution_count": 31,
   "id": "b54666be-0c84-4949-b0f7-c49f51b9dcc9",
   "metadata": {},
   "outputs": [
    {
     "name": "stdout",
     "output_type": "stream",
     "text": [
      "\"10-20-30\"\n"
     ]
    }
   ],
   "source": [
    "print('\"{}\"'.format(result))"
   ]
  },
  {
   "cell_type": "markdown",
   "id": "69352e34-c321-47f2-addc-2fa15d516539",
   "metadata": {},
   "source": [
    "## 3.list2=[5,10,15,20]--Remove the second element and return the resulting list in reverse order."
   ]
  },
  {
   "cell_type": "code",
   "execution_count": 32,
   "id": "1acaa1d3-1780-4a98-b2a6-6191a0cef754",
   "metadata": {},
   "outputs": [
    {
     "data": {
      "text/plain": [
       "10"
      ]
     },
     "execution_count": 32,
     "metadata": {},
     "output_type": "execute_result"
    }
   ],
   "source": [
    "list2=[5,10,15,20]\n",
    "list2.pop(1)"
   ]
  },
  {
   "cell_type": "code",
   "execution_count": 33,
   "id": "608e6dd3-45ad-4d9a-8987-fa3c2568ea77",
   "metadata": {},
   "outputs": [
    {
     "data": {
      "text/plain": [
       "[5, 15, 20]"
      ]
     },
     "execution_count": 33,
     "metadata": {},
     "output_type": "execute_result"
    }
   ],
   "source": [
    "list2"
   ]
  },
  {
   "cell_type": "code",
   "execution_count": 34,
   "id": "13fc1e01-1989-4f59-823e-f4ac608ca925",
   "metadata": {},
   "outputs": [
    {
     "name": "stdout",
     "output_type": "stream",
     "text": [
      "[20, 15, 5]\n"
     ]
    }
   ],
   "source": [
    "print(list2[::-1])"
   ]
  },
  {
   "cell_type": "markdown",
   "id": "c8ff2429-3449-444c-9480-43b4ab8df8f4",
   "metadata": {},
   "source": [
    "## 4. list3=[3,1,3,1,4,9]-- Sort the list in descending order without modifying the original."
   ]
  },
  {
   "cell_type": "code",
   "execution_count": 46,
   "id": "92401c36-0ed8-4e86-806a-9fcdb23ca6dd",
   "metadata": {},
   "outputs": [
    {
     "name": "stdout",
     "output_type": "stream",
     "text": [
      "[9, 4, 3, 3, 1, 1]\n"
     ]
    }
   ],
   "source": [
    "list3=[3,1,3,1,4,9]\n",
    "temp_list=list3\n",
    "temp_list.sort(reverse=True)\n",
    "print(temp_list)"
   ]
  },
  {
   "cell_type": "markdown",
   "id": "598e5481-0bbd-4fdb-b06b-8da2405f677b",
   "metadata": {},
   "source": [
    "## 5.Given t=(1,2,[3,4]), modify the list inside the tuple to [7,8]. (Expain why this works despite tuples being immutable.)"
   ]
  },
  {
   "cell_type": "code",
   "execution_count": 52,
   "id": "d412a053-a0fd-40b0-9e59-86bb7663b98d",
   "metadata": {},
   "outputs": [
    {
     "name": "stdout",
     "output_type": "stream",
     "text": [
      "(1, 2, [7, 8])\n"
     ]
    }
   ],
   "source": [
    "t=(1,2,[3,4])\n",
    "t[2][0]=7\n",
    "t[2][1]=8\n",
    "print(t)"
   ]
  },
  {
   "cell_type": "markdown",
   "id": "52460164-a522-4fe4-9783-a5d79472f8e0",
   "metadata": {},
   "source": [
    "### This works because we changed the elements of the list inside the tuple whereas if try change the value of the tuple it wil not work, as shown below."
   ]
  },
  {
   "cell_type": "code",
   "execution_count": 50,
   "id": "3a274234-5ac3-4c5e-bc0a-d0d0dcea3644",
   "metadata": {},
   "outputs": [
    {
     "ename": "TypeError",
     "evalue": "'tuple' object does not support item assignment",
     "output_type": "error",
     "traceback": [
      "\u001b[1;31m---------------------------------------------------------------------------\u001b[0m",
      "\u001b[1;31mTypeError\u001b[0m                                 Traceback (most recent call last)",
      "Cell \u001b[1;32mIn[50], line 1\u001b[0m\n\u001b[1;32m----> 1\u001b[0m t[\u001b[38;5;241m2\u001b[39m]\u001b[38;5;241m=\u001b[39m[\u001b[38;5;241m7\u001b[39m,\u001b[38;5;241m8\u001b[39m]\n",
      "\u001b[1;31mTypeError\u001b[0m: 'tuple' object does not support item assignment"
     ]
    }
   ],
   "source": [
    "t[2]=[7,8]"
   ]
  },
  {
   "cell_type": "markdown",
   "id": "faf5dd2e-141a-4283-a942-5c9bc18c94e7",
   "metadata": {},
   "source": [
    "## 6. Convert the tuple t=(1,2,3,4,5) into a dictionary where key=index, value=item."
   ]
  },
  {
   "cell_type": "code",
   "execution_count": 59,
   "id": "0cdc1499-d32d-4926-98cd-e7a78dc85189",
   "metadata": {},
   "outputs": [
    {
     "name": "stdout",
     "output_type": "stream",
     "text": [
      "{0: 1, 1: 2, 2: 3, 3: 4, 4: 5}\n"
     ]
    }
   ],
   "source": [
    "t=(1,2,3,4,5)\n",
    "d=dict()\n",
    "for i in range(len(t)):\n",
    "    d[i]=t[i]\n",
    "print(d)"
   ]
  },
  {
   "cell_type": "markdown",
   "id": "10b77b19-5909-4460-bd2e-b416ba5f3eea",
   "metadata": {},
   "source": [
    "## 7.Use unpacking to extract the first,second and the from: t=(10,20,30,40)"
   ]
  },
  {
   "cell_type": "code",
   "execution_count": 61,
   "id": "025f30e2-9658-48a4-b3ef-3248b5697c06",
   "metadata": {},
   "outputs": [
    {
     "name": "stdout",
     "output_type": "stream",
     "text": [
      "10\n",
      "20\n",
      "30\n",
      "40\n"
     ]
    }
   ],
   "source": [
    "t=(10,20,30,40)\n",
    "for i in range(len(t)):\n",
    "    x=t[i]\n",
    "    print(x)"
   ]
  },
  {
   "cell_type": "markdown",
   "id": "2d4d38ea-d399-486c-a8b7-5a89e913873c",
   "metadata": {},
   "source": [
    "## 8.Given nested tup=(1,(2,(3,(4,)))), extract 4 using multiple levels of indexing."
   ]
  },
  {
   "cell_type": "code",
   "execution_count": 65,
   "id": "15d6b40b-1c4b-4ff0-8135-8caa6d92163f",
   "metadata": {},
   "outputs": [
    {
     "name": "stdout",
     "output_type": "stream",
     "text": [
      "4\n"
     ]
    }
   ],
   "source": [
    "tup=(1,(2,(3,(4,))))\n",
    "print(tup[1][1][1][0])"
   ]
  },
  {
   "cell_type": "markdown",
   "id": "a272acef-2690-416a-9012-62197221bc23",
   "metadata": {},
   "source": [
    "## 9.From tup=((1,2),(3,4),(5,6)), flatter it into a single tuple:(1,2,3,4,5,6)."
   ]
  },
  {
   "cell_type": "code",
   "execution_count": 86,
   "id": "5d2e9cae-095e-4be2-a4ff-37e94c56caf8",
   "metadata": {},
   "outputs": [
    {
     "name": "stdout",
     "output_type": "stream",
     "text": [
      "(1, 2, 3, 4, 5, 6)\n"
     ]
    }
   ],
   "source": [
    "tup=((1,2),(3,4),(5,6))\n",
    "x1,x2,x3=tup\n",
    "result=x1+x2+x3\n",
    "print(result)"
   ]
  },
  {
   "cell_type": "markdown",
   "id": "f83694db-bebe-4815-b9e2-a5205c5174ae",
   "metadata": {},
   "source": [
    "## 10.Given s=\"abracadabra\", remove all occurrences of the character 'a' without using loops."
   ]
  },
  {
   "cell_type": "code",
   "execution_count": 90,
   "id": "20982014-b737-4516-a7b2-d2312ae46d6c",
   "metadata": {},
   "outputs": [
    {
     "name": "stdout",
     "output_type": "stream",
     "text": [
      "brcdbr\n"
     ]
    }
   ],
   "source": [
    "s=\"abracadabra\"\n",
    "print(s.replace(\"a\",\"\"))"
   ]
  },
  {
   "cell_type": "markdown",
   "id": "602e70dd-caa4-4d89-95e1-4ac3e7a10885",
   "metadata": {},
   "source": [
    "## 11.Reverse the words in the string \"The quick brown fox\" using only string methods."
   ]
  },
  {
   "cell_type": "code",
   "execution_count": 96,
   "id": "0563f976-af7a-4141-a7eb-cf183eda951e",
   "metadata": {},
   "outputs": [
    {
     "name": "stdout",
     "output_type": "stream",
     "text": [
      "fox brown quick The\n"
     ]
    }
   ],
   "source": [
    "s=\"The quick brown fox\"\n",
    "result=\" \".join(s.split()[::-1])\n",
    "print(result)"
   ]
  },
  {
   "cell_type": "markdown",
   "id": "491c0846-8720-48cd-bd50-c174ddb9719b",
   "metadata": {},
   "source": [
    "## 12. convert \"Python Is FUN\" into \"python is fun\" using a single line of chained string methods."
   ]
  },
  {
   "cell_type": "code",
   "execution_count": 98,
   "id": "09fd9060-ad2c-4910-9127-fa6a0f43820a",
   "metadata": {},
   "outputs": [
    {
     "name": "stdout",
     "output_type": "stream",
     "text": [
      "python is fun\n"
     ]
    }
   ],
   "source": [
    "s=\"Python Is FUN\"\n",
    "s=s.lower()\n",
    "print(s)"
   ]
  },
  {
   "cell_type": "markdown",
   "id": "be0c56bc-970f-4072-b665-d197b9ecb063",
   "metadata": {},
   "source": [
    "## 13. Count how many vowels are in \"Intelligence\" using only count method (no loop)."
   ]
  },
  {
   "cell_type": "code",
   "execution_count": 102,
   "id": "894bb110-6dec-4442-b6d6-92e56e21f324",
   "metadata": {},
   "outputs": [
    {
     "name": "stdout",
     "output_type": "stream",
     "text": [
      "The vowels count is 5\n"
     ]
    }
   ],
   "source": [
    "s=\"Intelligence\"\n",
    "s2=s.lower()\n",
    "count=s2.count('a')+s2.count('e')+s2.count('i')+s2.count('o')+s2.count('u')\n",
    "print(\"The vowels count is\",count)"
   ]
  },
  {
   "cell_type": "markdown",
   "id": "72f5bacc-71ae-4d98-87c3-a583319d5f67",
   "metadata": {},
   "source": [
    "## 14. Given s=\"level\", check if its a palindrome without using reversed() or loops."
   ]
  },
  {
   "cell_type": "code",
   "execution_count": 103,
   "id": "049a47a0-929e-45ad-90b6-fcb40191f694",
   "metadata": {},
   "outputs": [
    {
     "name": "stdout",
     "output_type": "stream",
     "text": [
      "level is a palindrome\n"
     ]
    }
   ],
   "source": [
    "s=\"level\"\n",
    "if s==s[::-1]:\n",
    "    print(s,\"is a palindrome\")\n",
    "else:\n",
    "    print(s,\"is not a palindrome\")"
   ]
  },
  {
   "cell_type": "markdown",
   "id": "8ece5972-6514-4d85-889c-0409e907aa50",
   "metadata": {},
   "source": [
    "## 15. Given d={'a':1,'b':2,'c':3}, swap keys and values using only dictionary methods."
   ]
  },
  {
   "cell_type": "code",
   "execution_count": 105,
   "id": "071ec619-03c3-4354-a69e-1d8cc979e4d4",
   "metadata": {},
   "outputs": [
    {
     "name": "stdout",
     "output_type": "stream",
     "text": [
      "{1: ['a'], 2: ['b'], 3: ['c']}\n"
     ]
    }
   ],
   "source": [
    "d={'a':1,'b':2,'c':3}\n",
    "result={}\n",
    "for key,value in d.items():\n",
    "    result.setdefault(value,[]).append(key)\n",
    "print(result)"
   ]
  },
  {
   "cell_type": "markdown",
   "id": "58561151-0db5-45b0-aceb-2bba39668ce7",
   "metadata": {},
   "source": [
    "## 16. Merge these two dicts into one: d1={'x':1,'y':2} , d2={'y':3,'z':4}-- ensuring overlapping keys take value from d2."
   ]
  },
  {
   "cell_type": "code",
   "execution_count": 106,
   "id": "7387b40d-5626-4481-9889-cbe133406450",
   "metadata": {},
   "outputs": [
    {
     "name": "stdout",
     "output_type": "stream",
     "text": [
      "{'x': 1, 'y': 3, 'z': 4}\n"
     ]
    }
   ],
   "source": [
    "d1={'x':1,'y':2}\n",
    "d2={'y':3,'z':4}\n",
    "result=d1.copy()\n",
    "result.update(d2)\n",
    "print(result)"
   ]
  },
  {
   "cell_type": "markdown",
   "id": "03c105e9-8bd3-4e1b-bb4a-6e0e1f6fc401",
   "metadata": {},
   "source": [
    "## 17.From d={'x':[1,2],'y':[3,4]}, change all list values to their sum."
   ]
  },
  {
   "cell_type": "code",
   "execution_count": 108,
   "id": "30d1b194-3ac4-4baa-ae99-620ad79ab375",
   "metadata": {},
   "outputs": [
    {
     "name": "stdout",
     "output_type": "stream",
     "text": [
      "{'x': 3, 'y': 7}\n"
     ]
    }
   ],
   "source": [
    "d={'x':[1,2],'y':[3,4]}\n",
    "for key in d:\n",
    "    d[key]=sum(d[key])\n",
    "print(d)"
   ]
  },
  {
   "cell_type": "markdown",
   "id": "cff0537c-7840-4247-9c45-8af23d020ffb",
   "metadata": {},
   "source": [
    "## 18.From d={'x':10,'y':20,'z':30},remove the key with the highest value."
   ]
  },
  {
   "cell_type": "code",
   "execution_count": 112,
   "id": "bed6a281-c4bf-4f97-a856-379e3b09d61e",
   "metadata": {},
   "outputs": [
    {
     "name": "stdout",
     "output_type": "stream",
     "text": [
      "{'x': 10, 'y': 20}\n"
     ]
    }
   ],
   "source": [
    "d={'x':10,'y':20,'z':30}\n",
    "key=max(d)\n",
    "d.pop(key)\n",
    "print(d)"
   ]
  },
  {
   "cell_type": "markdown",
   "id": "9288179a-748a-45a7-83b7-dbdfe0d5711f",
   "metadata": {},
   "source": [
    "## 19. given list=['a=1','b=2','c=3'], convert it into a dictionary."
   ]
  },
  {
   "cell_type": "code",
   "execution_count": 114,
   "id": "26c27afe-81e8-429c-a7a7-d35bf56f8d05",
   "metadata": {},
   "outputs": [
    {
     "name": "stdout",
     "output_type": "stream",
     "text": [
      "{'a': 1, 'b': 2, 'c': 3}\n"
     ]
    }
   ],
   "source": [
    "list=['a=1','b=2','c=3']\n",
    "d={}\n",
    "for item in list:\n",
    "    key,value=item.split('=')\n",
    "    d[key]=int(value)\n",
    "print(d)"
   ]
  },
  {
   "cell_type": "markdown",
   "id": "d6f2de72-2673-4723-89c7-640bf82ffce2",
   "metadata": {},
   "source": [
    "## 20. Convert the dictionary {'a':[1,2],'b':[3,4]} into a list of tuples like: [('a',1),('a',2),('b',3),('b',4)]."
   ]
  },
  {
   "cell_type": "code",
   "execution_count": 115,
   "id": "6af60b5d-c433-46fd-8960-cef63938f4e3",
   "metadata": {},
   "outputs": [
    {
     "name": "stdout",
     "output_type": "stream",
     "text": [
      "[('a', 1), ('a', 2), ('b', 3), ('b', 4)]\n"
     ]
    }
   ],
   "source": [
    "d={'a':[1,2],'b':[3,4]}\n",
    "result=[]\n",
    "for key in d:\n",
    "    for val in d[key]:\n",
    "        result.append((key,val))\n",
    "print(result)"
   ]
  },
  {
   "cell_type": "code",
   "execution_count": null,
   "id": "36f53671-a2be-41c4-81d1-c79e8f877912",
   "metadata": {},
   "outputs": [],
   "source": []
  }
 ],
 "metadata": {
  "kernelspec": {
   "display_name": "Python [conda env:base] *",
   "language": "python",
   "name": "conda-base-py"
  },
  "language_info": {
   "codemirror_mode": {
    "name": "ipython",
    "version": 3
   },
   "file_extension": ".py",
   "mimetype": "text/x-python",
   "name": "python",
   "nbconvert_exporter": "python",
   "pygments_lexer": "ipython3",
   "version": "3.12.7"
  }
 },
 "nbformat": 4,
 "nbformat_minor": 5
}
