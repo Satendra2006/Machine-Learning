{
 "cells": [
  {
   "cell_type": "markdown",
   "id": "bdaae814-eae9-4676-b840-e681a4df09ea",
   "metadata": {},
   "source": [
    "# ASSIGNMENT-2"
   ]
  },
  {
   "cell_type": "markdown",
   "id": "f5f7238d-289a-450d-9b97-92f50a386047",
   "metadata": {},
   "source": [
    "## Problem-1:\n",
    "### Write a Python program to find the sum of squares of even numbers in a list using a loop and if condition."
   ]
  },
  {
   "cell_type": "code",
   "execution_count": 10,
   "id": "ad8451aa-be57-44d3-8235-c9035c62f1ed",
   "metadata": {},
   "outputs": [
    {
     "name": "stdout",
     "output_type": "stream",
     "text": [
      "The sum of squares of even numbers is: 56\n"
     ]
    }
   ],
   "source": [
    "mylist=[1,2,3,4,5,6]\n",
    "x=0\n",
    "for i in mylist:\n",
    "    if i%2==0:\n",
    "        x+=(i**2)\n",
    "print(\"The sum of squares of even numbers is:\",x)"
   ]
  },
  {
   "cell_type": "markdown",
   "id": "9206de3c-ac28-4166-9c01-7dcee5379e9e",
   "metadata": {},
   "source": [
    "# Problem-2"
   ]
  },
  {
   "cell_type": "markdown",
   "id": "a2fa936a-33b3-4e44-a1fc-0934d069e380",
   "metadata": {},
   "source": [
    "## Define a function get_grade(score) that returns a grade:\n",
    "## A for 90+\n",
    "## B for 80-89\n",
    "## C for 70-79\n",
    "## D for 60-69\n",
    "## F otherwise"
   ]
  },
  {
   "cell_type": "code",
   "execution_count": 22,
   "id": "f190ef28-305f-4876-9a4b-18401440f26c",
   "metadata": {},
   "outputs": [
    {
     "name": "stdout",
     "output_type": "stream",
     "text": [
      "['A', 'B', 'D', 'F', 'C']\n"
     ]
    }
   ],
   "source": [
    "def get_grade(score):\n",
    "    grades=[]\n",
    "    for i in score:\n",
    "        if i>90:\n",
    "            grades.append(\"A\")\n",
    "        elif i>80 and i<=89:\n",
    "            grades.append(\"B\")\n",
    "        elif i>70 and i<=79:\n",
    "            grades.append(\"C\")\n",
    "        elif i>60 and i<=69:\n",
    "            grades.append(\"D\")\n",
    "        else:\n",
    "            grades.append(\"F\")\n",
    "    return grades\n",
    "score=[95,82,67,58,73]\n",
    "print(get_grade(score))"
   ]
  },
  {
   "cell_type": "markdown",
   "id": "9838c8e6-f963-445b-b55e-f241651f07e1",
   "metadata": {},
   "source": [
    "## Problem-3\n",
    "### Write a program to extract all the prime numbers from a given list using filter() and a lambda function."
   ]
  },
  {
   "cell_type": "code",
   "execution_count": 23,
   "id": "d1c1d208-e165-4be3-b15b-dfe4edbeb47f",
   "metadata": {},
   "outputs": [
    {
     "name": "stdout",
     "output_type": "stream",
     "text": [
      "The list prime numbers is: [2, 3, 5, 7]\n"
     ]
    }
   ],
   "source": [
    "mylist=[2,3,4,5,6,7,8,9,10]\n",
    "is_prime=lambda x: x>1 and all(x%i!=0 for i in range(2,int(x**0.5)+1))\n",
    "prime=list(filter(is_prime, mylist))\n",
    "print(\"The list prime numbers is:\",prime)"
   ]
  },
  {
   "cell_type": "markdown",
   "id": "92966e08-3497-4eed-bba7-77557692054a",
   "metadata": {},
   "source": [
    "## Problem-4"
   ]
  },
  {
   "cell_type": "markdown",
   "id": "46bc091c-a60c-45b2-9824-f6535249c0ae",
   "metadata": {},
   "source": [
    "### Write a Python program to convert a list of temperatures from Celsius to Fahrenheit uding the formula: F=C*9/5+32\n",
    "### Use map() and a lambda function."
   ]
  },
  {
   "cell_type": "code",
   "execution_count": 26,
   "id": "ec65b9a2-5c43-49a9-80d6-fa95b64d09d4",
   "metadata": {},
   "outputs": [
    {
     "name": "stdout",
     "output_type": "stream",
     "text": [
      "[32.0, 50.0, 68.0, 86.0, 104.0]\n"
     ]
    }
   ],
   "source": [
    "temp=[0,10,20,30,40]\n",
    "convert=lambda f: f*9/5+32\n",
    "fah=map(convert,temp)\n",
    "print(list(fah))"
   ]
  },
  {
   "cell_type": "markdown",
   "id": "a236038a-7a44-4543-aaf4-b9cc960d094b",
   "metadata": {},
   "source": [
    "## Problem-5\n",
    "### Write a program that takes a string and returns a list of all non-vowel characters using list comprehension."
   ]
  },
  {
   "cell_type": "code",
   "execution_count": 55,
   "id": "e29c0b69-0fcb-4f5c-a82f-7406e909acd3",
   "metadata": {},
   "outputs": [
    {
     "name": "stdin",
     "output_type": "stream",
     "text": [
      "Enter a string Python programming\n"
     ]
    },
    {
     "name": "stdout",
     "output_type": "stream",
     "text": [
      "['P', 'y', 't', 'h', 'n', ' ', 'p', 'r', 'g', 'r', 'm', 'm', 'n', 'g']\n"
     ]
    }
   ],
   "source": [
    "mystr=str(input(\"Enter a string\"))\n",
    "vowels=['a','A','e','E','i','I','o','O','u','U']\n",
    "nonvowel=[x for x in mystr if x not in vowels]\n",
    "print(nonvowel)"
   ]
  },
  {
   "cell_type": "markdown",
   "id": "dcfa3a44-080d-42b0-abba-07dfac9815ee",
   "metadata": {},
   "source": [
    "## Problem-6\n",
    "### Write a function that accepts a sentence and returns a list of word lenghts using map()."
   ]
  },
  {
   "cell_type": "code",
   "execution_count": 48,
   "id": "fcc7abd6-a3a8-4367-8738-fcc75572ea0e",
   "metadata": {},
   "outputs": [
    {
     "name": "stdin",
     "output_type": "stream",
     "text": [
      "Enter a string Pyhton is powerful\n"
     ]
    },
    {
     "name": "stdout",
     "output_type": "stream",
     "text": [
      "[6, 2, 8]\n"
     ]
    }
   ],
   "source": [
    "mystr=str(input(\"Enter a string\"))\n",
    "def length(mystr):\n",
    "    words=mystr.split()\n",
    "    length=list(map(len,words))\n",
    "    return length\n",
    "print(length(mystr))"
   ]
  },
  {
   "cell_type": "markdown",
   "id": "f8f2bce2-63ea-4aa4-aa67-d37327577d7e",
   "metadata": {},
   "source": [
    "## Problem-7\n",
    "### from a list of strings, filter only the palindromes using filter() and lambda."
   ]
  },
  {
   "cell_type": "code",
   "execution_count": 54,
   "id": "4791b20f-afe3-45d1-aa5f-96220b1b4c06",
   "metadata": {},
   "outputs": [
    {
     "name": "stdin",
     "output_type": "stream",
     "text": [
      "Enter a string madam racecar apple hello noon\n"
     ]
    },
    {
     "name": "stdout",
     "output_type": "stream",
     "text": [
      "['madam', 'racecar', 'noon']\n"
     ]
    }
   ],
   "source": [
    "mystr=str(input(\"Enter a string\"))\n",
    "is_pal=lambda x: x==x[::-1]\n",
    "pal=filter(is_pal,mystr.split())\n",
    "print(list(pal))"
   ]
  },
  {
   "cell_type": "markdown",
   "id": "cc8858f9-e581-437a-bada-2fbbea20e6de",
   "metadata": {},
   "source": [
    "## Problem-8\n",
    "### Write a list comprehension to return the square of all odd numbers from a list."
   ]
  },
  {
   "cell_type": "code",
   "execution_count": 56,
   "id": "a4b479a2-e42b-4714-8073-fdc880a4ca1d",
   "metadata": {},
   "outputs": [
    {
     "name": "stdout",
     "output_type": "stream",
     "text": [
      "[1, 9, 25]\n"
     ]
    }
   ],
   "source": [
    "numbers=[1,2,3,4,5,6]\n",
    "square=[x**2 for x in numbers if x%2!=0]\n",
    "print(square)"
   ]
  },
  {
   "cell_type": "markdown",
   "id": "7b9640fb-0f0d-48b0-8730-2ed560868568",
   "metadata": {},
   "source": [
    "## Problem-9:\n",
    "### Create a function calculate(a,b,op) that performs:\n",
    "#### ->Addition if op=='+'\n",
    "#### ->Subtraction if op=='-'\n",
    "#### ->Multiplication if op=='*'\n",
    "#### ->Division if op=='/'"
   ]
  },
  {
   "cell_type": "code",
   "execution_count": 59,
   "id": "c0152403-064f-479f-a4bb-65532d4e7a3c",
   "metadata": {},
   "outputs": [
    {
     "name": "stdin",
     "output_type": "stream",
     "text": [
      "Enter the first operand: 10\n",
      "Enter the second operand: 5\n",
      "Enter the operator: \n",
      "->Addition if op=='+' \n",
      "->Subtraction if op=='-' \n",
      "->Multiplication if op=='*' \n",
      "->Division if op=='/'\n",
      " *\n"
     ]
    },
    {
     "name": "stdout",
     "output_type": "stream",
     "text": [
      "The result is: 50\n"
     ]
    }
   ],
   "source": [
    "def calculate(a,b,op):\n",
    "    if op=='+':\n",
    "        return a+b\n",
    "    elif op=='-':\n",
    "        return a-b\n",
    "    elif op=='*':\n",
    "        return a*b\n",
    "    elif op=='/':\n",
    "        return a/b\n",
    "a=int(input(\"Enter the first operand:\"))\n",
    "b=int(input(\"Enter the second operand:\"))\n",
    "op=str(input(\"Enter the operator: \\n->Addition if op=='+' \\n->Subtraction if op=='-' \\n->Multiplication if op=='*' \\n->Division if op=='/'\\n\"))\n",
    "print(\"The result is:\",calculate(a,b,op))"
   ]
  },
  {
   "cell_type": "markdown",
   "id": "936e32f0-0dd7-45ae-9a2c-a606af50f4a0",
   "metadata": {},
   "source": [
    "## Problem-10:\n",
    "### Given a list with duplicate elements, write a program to remove duplicates and return a sorted list of squares of the unique elements using list comprehension."
   ]
  },
  {
   "cell_type": "code",
   "execution_count": 92,
   "id": "80510e99-0ec3-42b2-ab8c-0a9afc801a84",
   "metadata": {},
   "outputs": [
    {
     "name": "stdout",
     "output_type": "stream",
     "text": [
      "[1, 4, 9, 16]\n"
     ]
    }
   ],
   "source": [
    "mylist=[4,2,2,3,4,1]\n",
    "unique=[]\n",
    "[unique.append(x) for x in mylist if x not in unique]\n",
    "print(sorted([x**2 for x in unique]))\n",
    "\n"
   ]
  },
  {
   "cell_type": "code",
   "execution_count": null,
   "id": "86e36b74-e448-44ef-a753-ff805dfb35c1",
   "metadata": {},
   "outputs": [],
   "source": []
  }
 ],
 "metadata": {
  "kernelspec": {
   "display_name": "Python [conda env:base] *",
   "language": "python",
   "name": "conda-base-py"
  },
  "language_info": {
   "codemirror_mode": {
    "name": "ipython",
    "version": 3
   },
   "file_extension": ".py",
   "mimetype": "text/x-python",
   "name": "python",
   "nbconvert_exporter": "python",
   "pygments_lexer": "ipython3",
   "version": "3.12.7"
  }
 },
 "nbformat": 4,
 "nbformat_minor": 5
}
