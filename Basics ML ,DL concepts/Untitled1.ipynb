{
 "cells": [
  {
   "cell_type": "markdown",
   "id": "3b0a5d5d-4e75-45d0-b123-9a3537433fc1",
   "metadata": {},
   "source": [
    "# ASSIGNMENT-3"
   ]
  },
  {
   "cell_type": "markdown",
   "id": "d29cae1f-d0bd-4b0e-9b4c-e7a9d1976bcf",
   "metadata": {},
   "source": [
    "## 1.Create a class ATM with attributes: balance and methods: deposit,withdraw and show_balance. Add validation so that withdrawal fails if the balance is insufficient and implement a transaction history feature."
   ]
  },
  {
   "cell_type": "code",
   "execution_count": 1,
   "id": "e47af5af-9176-4b8a-9c78-5f3c23f7cd12",
   "metadata": {},
   "outputs": [],
   "source": [
    "class ATM():\n",
    "    def __init__(self,balance):\n",
    "        self.balance=balance\n",
    "        self.history=[]\n",
    "    def deposit(self,amount):\n",
    "        if amount>0:\n",
    "            self.balance+=amount\n",
    "            self.history.append(\"Deposited:{}\".format(amount))\n",
    "            print(\"Deposited:{}\".format(amount))\n",
    "        else:\n",
    "            print(\"Deposited amount must be positive.\")\n",
    "    def withdraw(self,amount):\n",
    "        if amount>self.balance:\n",
    "            print(\"insufficient balanace.Withdrawal failed\")\n",
    "            self.history.append(\"Failed withdrawal attempt:{}\".format(amount))\n",
    "        elif amount<=0:\n",
    "            print(\"Withdrawal amount must be positive.\")\n",
    "        else:\n",
    "            self.balance-=amount\n",
    "            self.history.append(\"Withdrew:{}\".format(amount))\n",
    "    def show_balance(self):\n",
    "        print(\"Current balance:{}\".format(self.balance))\n",
    "    def show_history(self):\n",
    "        print(\"Transaction History:\")\n",
    "        for transaction in self.history:\n",
    "            print(transaction)"
   ]
  },
  {
   "cell_type": "code",
   "execution_count": 2,
   "id": "cd8df9c0-ab26-44bc-a728-a147933447f2",
   "metadata": {},
   "outputs": [],
   "source": [
    "a=ATM(15000)"
   ]
  },
  {
   "cell_type": "code",
   "execution_count": 3,
   "id": "9e2a1e88-52a9-4c8c-9077-59bb50137352",
   "metadata": {},
   "outputs": [
    {
     "data": {
      "text/plain": [
       "15000"
      ]
     },
     "execution_count": 3,
     "metadata": {},
     "output_type": "execute_result"
    }
   ],
   "source": [
    "a.balance"
   ]
  },
  {
   "cell_type": "code",
   "execution_count": 4,
   "id": "e8ea0c4b-cfd2-4000-ae64-8ea338334c14",
   "metadata": {},
   "outputs": [
    {
     "name": "stdout",
     "output_type": "stream",
     "text": [
      "Deposited:1000\n"
     ]
    }
   ],
   "source": [
    "a.deposit(1000)"
   ]
  },
  {
   "cell_type": "code",
   "execution_count": 5,
   "id": "13be1c0c-08d2-44c4-97d3-93a8f5640c2b",
   "metadata": {},
   "outputs": [
    {
     "data": {
      "text/plain": [
       "<bound method ATM.show_balance of <__main__.ATM object at 0x0000015F3D3B0530>>"
      ]
     },
     "execution_count": 5,
     "metadata": {},
     "output_type": "execute_result"
    }
   ],
   "source": [
    "a.show_balance"
   ]
  },
  {
   "cell_type": "code",
   "execution_count": 6,
   "id": "4144b3c0-3e22-4479-9461-dca13f4e1407",
   "metadata": {},
   "outputs": [
    {
     "name": "stdout",
     "output_type": "stream",
     "text": [
      "Current balance:16000\n"
     ]
    }
   ],
   "source": [
    "a.show_balance()"
   ]
  },
  {
   "cell_type": "code",
   "execution_count": 8,
   "id": "4bf635e9-1ac3-4610-8458-86de58b3eed2",
   "metadata": {},
   "outputs": [],
   "source": [
    "a.withdraw(500)"
   ]
  },
  {
   "cell_type": "code",
   "execution_count": 9,
   "id": "ac459b01-6fcb-4a8e-9ad3-3029443be784",
   "metadata": {},
   "outputs": [
    {
     "name": "stdout",
     "output_type": "stream",
     "text": [
      "Transaction History:\n",
      "Deposited:1000\n",
      "Withdrew:500\n",
      "Withdrew:500\n"
     ]
    }
   ],
   "source": [
    "a.show_history()"
   ]
  },
  {
   "cell_type": "code",
   "execution_count": 10,
   "id": "c9c79713-6d20-426c-b21d-55edb698eb6d",
   "metadata": {},
   "outputs": [
    {
     "name": "stdout",
     "output_type": "stream",
     "text": [
      "Current balance:15000\n"
     ]
    }
   ],
   "source": [
    "a.show_balance()"
   ]
  },
  {
   "cell_type": "markdown",
   "id": "52dae302-8940-4baa-9e44-e0d267921ec6",
   "metadata": {},
   "source": [
    "## 2.Write a class Shapeoperations with methods like area_circle,area_square,etc.Write another method get_area(shape,*args) that dynamically calls the corresponding method based on the value of shape."
   ]
  },
  {
   "cell_type": "code",
   "execution_count": 16,
   "id": "00f159ed-a1f8-493f-b0d8-1d67c205b37d",
   "metadata": {},
   "outputs": [],
   "source": [
    "class ShapeOperations():\n",
    "    def __init__(self):\n",
    "        self.pi=3.14\n",
    "    def area_circle(self,radius):\n",
    "        return self.pi*radius**2\n",
    "    def area_square(self,side):\n",
    "        return side**2\n",
    "    def area_rectangle(self,length,width):\n",
    "        return length*breadth\n",
    "    def get_area(self,shape,*args):\n",
    "        method_name='area_{}'.format(shape)\n",
    "        method=getattr(self,method_name,None)\n",
    "        if method:\n",
    "            return method(*args)\n",
    "        else:\n",
    "            print(\"No method to calculate area of {}\".format(shape))"
   ]
  },
  {
   "cell_type": "code",
   "execution_count": 18,
   "id": "c44e0296-84a6-49b9-83a3-78311e2561b9",
   "metadata": {},
   "outputs": [],
   "source": [
    "x=ShapeOperations()"
   ]
  },
  {
   "cell_type": "code",
   "execution_count": 19,
   "id": "ba803a64-aacd-4df1-8433-2c4064c13bbb",
   "metadata": {},
   "outputs": [
    {
     "data": {
      "text/plain": [
       "3.14"
      ]
     },
     "execution_count": 19,
     "metadata": {},
     "output_type": "execute_result"
    }
   ],
   "source": [
    "x.pi"
   ]
  },
  {
   "cell_type": "code",
   "execution_count": 20,
   "id": "229d9673-6bbb-45d6-9cf1-d4277935fcdf",
   "metadata": {},
   "outputs": [
    {
     "data": {
      "text/plain": [
       "28.26"
      ]
     },
     "execution_count": 20,
     "metadata": {},
     "output_type": "execute_result"
    }
   ],
   "source": [
    "x.area_circle(3)"
   ]
  },
  {
   "cell_type": "code",
   "execution_count": 23,
   "id": "c1e317d1-80ba-41ae-bb30-ab5a8042355a",
   "metadata": {},
   "outputs": [
    {
     "data": {
      "text/plain": [
       "4"
      ]
     },
     "execution_count": 23,
     "metadata": {},
     "output_type": "execute_result"
    }
   ],
   "source": [
    "x.get_area('square',2)"
   ]
  },
  {
   "cell_type": "code",
   "execution_count": 24,
   "id": "87f3d21d-bcc0-4002-b8f1-aeb558d77e21",
   "metadata": {},
   "outputs": [
    {
     "data": {
      "text/plain": [
       "28.26"
      ]
     },
     "execution_count": 24,
     "metadata": {},
     "output_type": "execute_result"
    }
   ],
   "source": [
    "x.get_area('circle',3)"
   ]
  },
  {
   "cell_type": "code",
   "execution_count": null,
   "id": "046f6ae4-91e1-41a8-a97a-4e5b2ee1e81a",
   "metadata": {},
   "outputs": [],
   "source": []
  }
 ],
 "metadata": {
  "kernelspec": {
   "display_name": "Python [conda env:base] *",
   "language": "python",
   "name": "conda-base-py"
  },
  "language_info": {
   "codemirror_mode": {
    "name": "ipython",
    "version": 3
   },
   "file_extension": ".py",
   "mimetype": "text/x-python",
   "name": "python",
   "nbconvert_exporter": "python",
   "pygments_lexer": "ipython3",
   "version": "3.12.7"
  }
 },
 "nbformat": 4,
 "nbformat_minor": 5
}
