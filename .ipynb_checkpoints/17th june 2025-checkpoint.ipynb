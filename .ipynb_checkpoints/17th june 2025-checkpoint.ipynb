{
 "cells": [
  {
   "cell_type": "code",
   "execution_count": 1,
   "id": "26a09a3d-ff75-41dc-a7f8-1511ff374ca3",
   "metadata": {},
   "outputs": [],
   "source": [
    "class SiliconClass():\n",
    "    college='Silicon University'\n",
    "    def __init__(self,name123,number):\n",
    "        self.studentname=name123\n",
    "        self.sic=number\n",
    "    def display(self):\n",
    "        print(\"Myself {} with {} from {}\".format(self.studentname,self.sic,self.college))"
   ]
  },
  {
   "cell_type": "markdown",
   "id": "186213b5-8b2b-4012-927c-fcf164d3fd3e",
   "metadata": {},
   "source": [
    "## INHERITANCE"
   ]
  },
  {
   "cell_type": "code",
   "execution_count": 2,
   "id": "5f10cda3-49d2-4d36-91ac-fa15525259a7",
   "metadata": {},
   "outputs": [],
   "source": [
    "class StudentClass(SiliconClass):\n",
    "    pass"
   ]
  },
  {
   "cell_type": "code",
   "execution_count": 3,
   "id": "b25e20ff-9c3b-4fe4-b750-a22a455837e6",
   "metadata": {},
   "outputs": [
    {
     "ename": "TypeError",
     "evalue": "SiliconClass.__init__() missing 2 required positional arguments: 'name123' and 'number'",
     "output_type": "error",
     "traceback": [
      "\u001b[1;31m---------------------------------------------------------------------------\u001b[0m",
      "\u001b[1;31mTypeError\u001b[0m                                 Traceback (most recent call last)",
      "Cell \u001b[1;32mIn[3], line 1\u001b[0m\n\u001b[1;32m----> 1\u001b[0m a\u001b[38;5;241m=\u001b[39mStudentClass()\n",
      "\u001b[1;31mTypeError\u001b[0m: SiliconClass.__init__() missing 2 required positional arguments: 'name123' and 'number'"
     ]
    }
   ],
   "source": [
    "a=StudentClass()"
   ]
  },
  {
   "cell_type": "code",
   "execution_count": 4,
   "id": "203f7d65-fbb3-497d-91bf-8de4b9854e8e",
   "metadata": {},
   "outputs": [],
   "source": [
    "a=StudentClass('Ram',223)"
   ]
  },
  {
   "cell_type": "code",
   "execution_count": 5,
   "id": "5b795daf-26ce-43f2-b5ed-6937099de544",
   "metadata": {},
   "outputs": [
    {
     "name": "stdout",
     "output_type": "stream",
     "text": [
      "Myself Ram with 223 from Silicon University\n"
     ]
    }
   ],
   "source": [
    "a.display()"
   ]
  },
  {
   "cell_type": "code",
   "execution_count": 6,
   "id": "33d47996-ea74-4aba-a87f-d5ce61087fe7",
   "metadata": {},
   "outputs": [
    {
     "data": {
      "text/plain": [
       "'Ram'"
      ]
     },
     "execution_count": 6,
     "metadata": {},
     "output_type": "execute_result"
    }
   ],
   "source": [
    "a.studentname"
   ]
  },
  {
   "cell_type": "code",
   "execution_count": 18,
   "id": "33b32d47-1b58-4abe-b9a6-1cc6eddba8fe",
   "metadata": {},
   "outputs": [],
   "source": [
    "class EmployeeClass(SiliconClass):  ## METHOD OVERIDDEN\n",
    "    def __init__(self,yr):\n",
    "        self.year=yr"
   ]
  },
  {
   "cell_type": "code",
   "execution_count": 12,
   "id": "1aa23aac-bd0d-42d6-8250-3b802e999b49",
   "metadata": {},
   "outputs": [],
   "source": [
    "b=EmployeeClass(2000)"
   ]
  },
  {
   "cell_type": "code",
   "execution_count": 13,
   "id": "02120828-608a-4028-8b88-028a455598b6",
   "metadata": {},
   "outputs": [
    {
     "data": {
      "text/plain": [
       "'Silicon University'"
      ]
     },
     "execution_count": 13,
     "metadata": {},
     "output_type": "execute_result"
    }
   ],
   "source": [
    "b.college"
   ]
  },
  {
   "cell_type": "code",
   "execution_count": 14,
   "id": "16943963-fb7f-459f-8f4b-16f3cdf43f47",
   "metadata": {},
   "outputs": [
    {
     "data": {
      "text/plain": [
       "2000"
      ]
     },
     "execution_count": 14,
     "metadata": {},
     "output_type": "execute_result"
    }
   ],
   "source": [
    "b.year"
   ]
  },
  {
   "cell_type": "code",
   "execution_count": 17,
   "id": "b2e67f06-db2e-4998-a1c2-b722b1a63c48",
   "metadata": {},
   "outputs": [
    {
     "ename": "AttributeError",
     "evalue": "'EmployeeClass' object has no attribute 'studentname'",
     "output_type": "error",
     "traceback": [
      "\u001b[1;31m---------------------------------------------------------------------------\u001b[0m",
      "\u001b[1;31mAttributeError\u001b[0m                            Traceback (most recent call last)",
      "Cell \u001b[1;32mIn[17], line 1\u001b[0m\n\u001b[1;32m----> 1\u001b[0m b\u001b[38;5;241m.\u001b[39mdisplay()\n",
      "Cell \u001b[1;32mIn[1], line 7\u001b[0m, in \u001b[0;36mSiliconClass.display\u001b[1;34m(self)\u001b[0m\n\u001b[0;32m      6\u001b[0m \u001b[38;5;28;01mdef\u001b[39;00m \u001b[38;5;21mdisplay\u001b[39m(\u001b[38;5;28mself\u001b[39m):\n\u001b[1;32m----> 7\u001b[0m     \u001b[38;5;28mprint\u001b[39m(\u001b[38;5;124m\"\u001b[39m\u001b[38;5;124mMyself \u001b[39m\u001b[38;5;132;01m{}\u001b[39;00m\u001b[38;5;124m with \u001b[39m\u001b[38;5;132;01m{}\u001b[39;00m\u001b[38;5;124m from \u001b[39m\u001b[38;5;132;01m{}\u001b[39;00m\u001b[38;5;124m\"\u001b[39m\u001b[38;5;241m.\u001b[39mformat(\u001b[38;5;28mself\u001b[39m\u001b[38;5;241m.\u001b[39mstudentname,\u001b[38;5;28mself\u001b[39m\u001b[38;5;241m.\u001b[39msic,\u001b[38;5;28mself\u001b[39m\u001b[38;5;241m.\u001b[39mcollege))\n",
      "\u001b[1;31mAttributeError\u001b[0m: 'EmployeeClass' object has no attribute 'studentname'"
     ]
    }
   ],
   "source": [
    "b.display()"
   ]
  },
  {
   "cell_type": "markdown",
   "id": "e387c333-8337-49c9-9554-da6b41cacb09",
   "metadata": {},
   "source": [
    "### Objective is to use init() of the parent class"
   ]
  },
  {
   "cell_type": "markdown",
   "id": "fafaaae8-6a04-48cd-ac7a-b29e0705cabf",
   "metadata": {},
   "source": [
    "### 1)Using self and init()"
   ]
  },
  {
   "cell_type": "code",
   "execution_count": 26,
   "id": "66b811f7-04dd-42a6-beee-b60c75b8e21b",
   "metadata": {},
   "outputs": [],
   "source": [
    "# PARENT CLASS\n",
    "class SiliconClass():\n",
    "    college='Silicon University'\n",
    "    def __init__(self,name123,number):\n",
    "        self.studentname=name123\n",
    "        self.sic=number\n",
    "    def display(self):\n",
    "        print(\"Myself {} with {} from {}\".format(self.studentname,self.sic,self.college))"
   ]
  },
  {
   "cell_type": "code",
   "execution_count": 35,
   "id": "012a616f-c66f-4c03-aec3-0e5e246c4bd1",
   "metadata": {},
   "outputs": [],
   "source": [
    "# CHILD CLASS\n",
    "class EmployeeClass(SiliconClass):  ## METHOD OVERIDDEN\n",
    "    def __init__(self,name123,number,yr):\n",
    "        SiliconClass.__init__(self,name123,number)\n",
    "        self.year=yr"
   ]
  },
  {
   "cell_type": "code",
   "execution_count": 36,
   "id": "1b2019d9-ce54-47e3-ba66-2bef3f5095db",
   "metadata": {},
   "outputs": [],
   "source": [
    "a=EmployeeClass(\"Ram\",224,2025)"
   ]
  },
  {
   "cell_type": "code",
   "execution_count": 37,
   "id": "e1f26d35-97cc-4b1f-a9bf-db1e85206035",
   "metadata": {},
   "outputs": [
    {
     "data": {
      "text/plain": [
       "'Silicon University'"
      ]
     },
     "execution_count": 37,
     "metadata": {},
     "output_type": "execute_result"
    }
   ],
   "source": [
    "a.college"
   ]
  },
  {
   "cell_type": "code",
   "execution_count": 39,
   "id": "91b1520a-71b2-457a-9513-1ee6a7d7be73",
   "metadata": {},
   "outputs": [
    {
     "name": "stdout",
     "output_type": "stream",
     "text": [
      "Myself Ram with 224 from Silicon University\n"
     ]
    }
   ],
   "source": [
    "a.display()"
   ]
  },
  {
   "cell_type": "code",
   "execution_count": 40,
   "id": "ec945fc3-9ef2-46e3-923b-0631b6b134f0",
   "metadata": {},
   "outputs": [
    {
     "data": {
      "text/plain": [
       "224"
      ]
     },
     "execution_count": 40,
     "metadata": {},
     "output_type": "execute_result"
    }
   ],
   "source": [
    "a.sic"
   ]
  },
  {
   "cell_type": "code",
   "execution_count": 41,
   "id": "ea9dffa6-d0e8-49e2-8473-4634469116ec",
   "metadata": {},
   "outputs": [
    {
     "data": {
      "text/plain": [
       "'Ram'"
      ]
     },
     "execution_count": 41,
     "metadata": {},
     "output_type": "execute_result"
    }
   ],
   "source": [
    "a.studentname"
   ]
  },
  {
   "cell_type": "markdown",
   "id": "6bbdc7ed-e4e5-46ef-808e-44e183a86346",
   "metadata": {},
   "source": [
    "### 2) Using super()"
   ]
  },
  {
   "cell_type": "code",
   "execution_count": 42,
   "id": "839652bb-4b40-4509-9127-2059cc7617b9",
   "metadata": {},
   "outputs": [],
   "source": [
    "# CHILD CLASS\n",
    "class EmployeeClass(SiliconClass):  ## METHOD OVERIDDEN\n",
    "    def __init__(self,name123,number,yr):\n",
    "        super().__init__(name123,number)\n",
    "        self.year=yr"
   ]
  },
  {
   "cell_type": "code",
   "execution_count": 43,
   "id": "d8263f19-b045-4293-a4da-0bd92c400823",
   "metadata": {},
   "outputs": [],
   "source": [
    "b=EmployeeClass(\"Shyam\",225,2025)"
   ]
  },
  {
   "cell_type": "code",
   "execution_count": 44,
   "id": "4ab8d714-f004-4692-b886-25161b4ea7ea",
   "metadata": {},
   "outputs": [
    {
     "data": {
      "text/plain": [
       "'Silicon University'"
      ]
     },
     "execution_count": 44,
     "metadata": {},
     "output_type": "execute_result"
    }
   ],
   "source": [
    "b.college"
   ]
  },
  {
   "cell_type": "code",
   "execution_count": 45,
   "id": "46d61da0-d7df-449d-b51f-cce4a728dad0",
   "metadata": {},
   "outputs": [
    {
     "name": "stdout",
     "output_type": "stream",
     "text": [
      "Myself Shyam with 225 from Silicon University\n"
     ]
    }
   ],
   "source": [
    "b.display()"
   ]
  },
  {
   "cell_type": "code",
   "execution_count": null,
   "id": "dd9e12df-0263-4581-a414-de3d1411be0b",
   "metadata": {},
   "outputs": [],
   "source": []
  },
  {
   "cell_type": "code",
   "execution_count": null,
   "id": "4297c044-2d20-4bba-8474-fda6b034fbe7",
   "metadata": {},
   "outputs": [],
   "source": []
  },
  {
   "cell_type": "code",
   "execution_count": null,
   "id": "5e5f3ca4-1b3f-4294-a4a4-d6328bac742b",
   "metadata": {},
   "outputs": [],
   "source": []
  },
  {
   "cell_type": "code",
   "execution_count": null,
   "id": "45e7988d-e67e-424d-bc1d-22e3c9658d91",
   "metadata": {},
   "outputs": [],
   "source": []
  },
  {
   "cell_type": "code",
   "execution_count": null,
   "id": "78e0391a-e66e-4d3b-b870-33c00f8039f9",
   "metadata": {},
   "outputs": [],
   "source": []
  },
  {
   "cell_type": "code",
   "execution_count": null,
   "id": "7e01fe0e-69f9-4f5d-9a5a-42fa65cdc841",
   "metadata": {},
   "outputs": [],
   "source": []
  },
  {
   "cell_type": "code",
   "execution_count": null,
   "id": "aa7d88ee-35c2-4f5a-8a37-54e3df664af7",
   "metadata": {},
   "outputs": [],
   "source": []
  },
  {
   "cell_type": "code",
   "execution_count": null,
   "id": "4d4dbfc4-ecdd-4f14-b5fd-a9bc28c951c6",
   "metadata": {},
   "outputs": [],
   "source": []
  },
  {
   "cell_type": "code",
   "execution_count": null,
   "id": "3c438012-3144-425e-bfa4-fc18a47facd7",
   "metadata": {},
   "outputs": [],
   "source": []
  }
 ],
 "metadata": {
  "kernelspec": {
   "display_name": "Python [conda env:base] *",
   "language": "python",
   "name": "conda-base-py"
  },
  "language_info": {
   "codemirror_mode": {
    "name": "ipython",
    "version": 3
   },
   "file_extension": ".py",
   "mimetype": "text/x-python",
   "name": "python",
   "nbconvert_exporter": "python",
   "pygments_lexer": "ipython3",
   "version": "3.12.7"
  }
 },
 "nbformat": 4,
 "nbformat_minor": 5
}
