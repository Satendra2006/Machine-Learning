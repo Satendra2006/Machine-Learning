{
 "cells": [
  {
   "cell_type": "code",
   "execution_count": 1,
   "id": "61896614-f4a5-4f49-8e65-97eff818bef2",
   "metadata": {},
   "outputs": [
    {
     "name": "stdout",
     "output_type": "stream",
     "text": [
      "1\n",
      "2\n",
      "3\n",
      "4\n"
     ]
    }
   ],
   "source": [
    "L=[1,2,3,4]\n",
    "for a in L:\n",
    "    print(a)"
   ]
  },
  {
   "cell_type": "code",
   "execution_count": 5,
   "id": "233f8752-47c1-4187-8055-72f142df053e",
   "metadata": {},
   "outputs": [
    {
     "name": "stdout",
     "output_type": "stream",
     "text": [
      "1\n",
      "2\n",
      "3\n",
      "4\n",
      "4\n",
      "5\n",
      "6\n"
     ]
    }
   ],
   "source": [
    "L=[(1,2),(3,4),(4,5,6)]\n",
    "for a in L:\n",
    "    for b in a:\n",
    "        print(b)"
   ]
  },
  {
   "cell_type": "code",
   "execution_count": 6,
   "id": "bda52982-4e5c-4eb6-8277-6cc22bb40624",
   "metadata": {},
   "outputs": [
    {
     "name": "stdout",
     "output_type": "stream",
     "text": [
      "[1, 2, 3, 4, 4, 5, 6]\n"
     ]
    }
   ],
   "source": [
    "L1=[]\n",
    "for a in L:\n",
    "    for b in a:\n",
    "        L1.append(b)\n",
    "print(L1)"
   ]
  },
  {
   "cell_type": "code",
   "execution_count": 7,
   "id": "4cd68b16-db40-4e50-bb56-97cfabbf71ad",
   "metadata": {},
   "outputs": [
    {
     "data": {
      "text/plain": [
       "[(1, 2), (3, 4), (4, 5, 6)]"
      ]
     },
     "execution_count": 7,
     "metadata": {},
     "output_type": "execute_result"
    }
   ],
   "source": [
    "L"
   ]
  },
  {
   "cell_type": "code",
   "execution_count": 8,
   "id": "8300dc08-19f1-4c7e-9e56-432105fe6de9",
   "metadata": {},
   "outputs": [],
   "source": [
    "L=[(1,2),(3,4),(5,6)]"
   ]
  },
  {
   "cell_type": "code",
   "execution_count": 9,
   "id": "4bfe4da0-4067-40fb-82e1-f9242e53fb72",
   "metadata": {},
   "outputs": [
    {
     "name": "stdout",
     "output_type": "stream",
     "text": [
      "(1, 2)\n",
      "(3, 4)\n",
      "(5, 6)\n"
     ]
    }
   ],
   "source": [
    "for a in L:\n",
    "    print(a)"
   ]
  },
  {
   "cell_type": "code",
   "execution_count": 10,
   "id": "c3505e20-0359-4d1b-a014-a3ae2bb745ab",
   "metadata": {},
   "outputs": [
    {
     "name": "stdout",
     "output_type": "stream",
     "text": [
      "1\n",
      "3\n",
      "5\n"
     ]
    }
   ],
   "source": [
    "for a,b in L:\n",
    "    print(a)"
   ]
  },
  {
   "cell_type": "code",
   "execution_count": 11,
   "id": "9676adfe-ecd0-4251-9629-a66f41367ff5",
   "metadata": {},
   "outputs": [
    {
     "name": "stdout",
     "output_type": "stream",
     "text": [
      "2\n",
      "4\n",
      "6\n"
     ]
    }
   ],
   "source": [
    "for a,b in L:\n",
    "    print(b)"
   ]
  },
  {
   "cell_type": "code",
   "execution_count": 12,
   "id": "2450b7a2-e13f-4413-b224-1d1825c8720d",
   "metadata": {},
   "outputs": [],
   "source": [
    "L=[(1,2),(3,4,5)]"
   ]
  },
  {
   "cell_type": "code",
   "execution_count": 13,
   "id": "afec655c-4056-4db4-937f-d48865c214a9",
   "metadata": {},
   "outputs": [
    {
     "name": "stdout",
     "output_type": "stream",
     "text": [
      "1\n"
     ]
    },
    {
     "ename": "ValueError",
     "evalue": "too many values to unpack (expected 2)",
     "output_type": "error",
     "traceback": [
      "\u001b[1;31m---------------------------------------------------------------------------\u001b[0m",
      "\u001b[1;31mValueError\u001b[0m                                Traceback (most recent call last)",
      "Cell \u001b[1;32mIn[13], line 1\u001b[0m\n\u001b[1;32m----> 1\u001b[0m \u001b[38;5;28;01mfor\u001b[39;00m a,b \u001b[38;5;129;01min\u001b[39;00m L:\n\u001b[0;32m      2\u001b[0m     \u001b[38;5;28mprint\u001b[39m(a)\n",
      "\u001b[1;31mValueError\u001b[0m: too many values to unpack (expected 2)"
     ]
    }
   ],
   "source": [
    "for a,b in L:\n",
    "    print(a)"
   ]
  },
  {
   "cell_type": "code",
   "execution_count": 14,
   "id": "de55c78e-cd12-4cb0-9a76-2e07f1db04bc",
   "metadata": {},
   "outputs": [
    {
     "name": "stdout",
     "output_type": "stream",
     "text": [
      "1\n",
      "3\n"
     ]
    }
   ],
   "source": [
    "for a in L:\n",
    "    print(a[0])"
   ]
  },
  {
   "cell_type": "markdown",
   "id": "9c786417-450a-4d6d-9ca1-988ca1d880ba",
   "metadata": {},
   "source": [
    "### WAP to separate individual tuple from the list and store it in a tuple."
   ]
  },
  {
   "cell_type": "code",
   "execution_count": 17,
   "id": "16cc47dc-b12a-4c3e-9260-815025235f9a",
   "metadata": {},
   "outputs": [
    {
     "name": "stdout",
     "output_type": "stream",
     "text": [
      "(1, 2, 3, 4)\n"
     ]
    }
   ],
   "source": [
    "L=[(1,2),(3,4)]\n",
    "T1=()\n",
    "for a in L:\n",
    "    T1=T1+a\n",
    "print(T1)"
   ]
  },
  {
   "cell_type": "code",
   "execution_count": 26,
   "id": "207cd070-a363-4b00-82bc-09743129b615",
   "metadata": {},
   "outputs": [
    {
     "name": "stdout",
     "output_type": "stream",
     "text": [
      "(1, 2, 3, 4)\n"
     ]
    }
   ],
   "source": [
    "L=[(1,2),(3,4)]\n",
    "L1=[]\n",
    "for a in L:\n",
    "    L1.extend(a)\n",
    "print(tuple(L1))"
   ]
  },
  {
   "cell_type": "code",
   "execution_count": 24,
   "id": "31bb233b-937b-4a42-9de9-4e7d00c49faa",
   "metadata": {},
   "outputs": [
    {
     "name": "stdout",
     "output_type": "stream",
     "text": [
      "(1, 2, 3, 4)\n"
     ]
    }
   ],
   "source": [
    "L=[(1,2),(3,4)]\n",
    "L1=[]\n",
    "for a in L:\n",
    "    for b in a:\n",
    "        L1.append(b)\n",
    "print(tuple(L1))"
   ]
  },
  {
   "cell_type": "code",
   "execution_count": 25,
   "id": "69d1457e-4aa5-409c-b824-6664f9c5edc0",
   "metadata": {},
   "outputs": [
    {
     "name": "stdout",
     "output_type": "stream",
     "text": [
      "(1, 2, 3, 4)\n"
     ]
    }
   ],
   "source": [
    "L=[(1,2),(3,4)]\n",
    "T1=()\n",
    "for a in L:\n",
    "    for b in a:\n",
    "        T1+=(b,)\n",
    "print(T1)"
   ]
  },
  {
   "cell_type": "markdown",
   "id": "7170a4a2-5c22-4040-8c25-c526777c0599",
   "metadata": {},
   "source": [
    "## Iterate through dictionary."
   ]
  },
  {
   "cell_type": "code",
   "execution_count": 27,
   "id": "3376b989-c6e2-445c-8afb-b7b629ffba19",
   "metadata": {},
   "outputs": [],
   "source": [
    "D={'k1':2,'k2':'Silicon'}"
   ]
  },
  {
   "cell_type": "code",
   "execution_count": 28,
   "id": "08a3c6e8-69fb-4c34-baf9-19ddafee993b",
   "metadata": {},
   "outputs": [
    {
     "name": "stdout",
     "output_type": "stream",
     "text": [
      "k1\n",
      "k2\n"
     ]
    }
   ],
   "source": [
    "for a in D:\n",
    "    print(a)"
   ]
  },
  {
   "cell_type": "code",
   "execution_count": 29,
   "id": "a4624503-9ef3-4981-a5f2-4da2e821400a",
   "metadata": {},
   "outputs": [
    {
     "name": "stdout",
     "output_type": "stream",
     "text": [
      "('k1', 2)\n",
      "('k2', 'Silicon')\n"
     ]
    }
   ],
   "source": [
    "for a in D.items():\n",
    "    print(a)"
   ]
  },
  {
   "cell_type": "code",
   "execution_count": 30,
   "id": "403fa6cd-0050-4075-aba4-23e0eefa21e7",
   "metadata": {},
   "outputs": [
    {
     "name": "stdout",
     "output_type": "stream",
     "text": [
      "2\n",
      "Silicon\n"
     ]
    }
   ],
   "source": [
    "for a,b in D.items():\n",
    "    print(b)"
   ]
  },
  {
   "cell_type": "code",
   "execution_count": 31,
   "id": "3e3a83e6-35b5-40c3-88f6-e933d9ed1860",
   "metadata": {},
   "outputs": [
    {
     "name": "stdout",
     "output_type": "stream",
     "text": [
      "k1\n",
      "k2\n"
     ]
    }
   ],
   "source": [
    "for a in D.keys():\n",
    "    print(a)"
   ]
  },
  {
   "cell_type": "code",
   "execution_count": 32,
   "id": "f8f26392-54de-44ab-8eed-9c8d5703f760",
   "metadata": {},
   "outputs": [
    {
     "name": "stdout",
     "output_type": "stream",
     "text": [
      "2\n",
      "Silicon\n"
     ]
    }
   ],
   "source": [
    "for b in D.values():\n",
    "    print(b)"
   ]
  },
  {
   "cell_type": "markdown",
   "id": "d3b977b7-1103-484b-b2c2-a2168359d994",
   "metadata": {},
   "source": [
    "#### 3 important key words which are quite helpful for LOOPS:\n",
    "### 1. PASS\n",
    "### 2. BREAK\n",
    "### 3. CONTINUE"
   ]
  },
  {
   "cell_type": "code",
   "execution_count": 34,
   "id": "67794755-6a53-46c3-a75d-b4ac0b65c0c0",
   "metadata": {},
   "outputs": [
    {
     "name": "stdout",
     "output_type": "stream",
     "text": [
      "The character i found\n",
      "Not Found\n",
      "Not Found\n",
      "Not Found\n",
      "The character i found\n",
      "Not Found\n",
      "Not Found\n",
      "Not Found\n",
      "Not Found\n"
     ]
    }
   ],
   "source": [
    "#### 1.PASS\n",
    "a='institute'\n",
    "for b in a:\n",
    "    if b=='i':\n",
    "        print('The character i found')\n",
    "    else:\n",
    "        print('Not Found')"
   ]
  },
  {
   "cell_type": "code",
   "execution_count": 38,
   "id": "457cea11-a11c-44d2-87ba-ca7420c2091d",
   "metadata": {},
   "outputs": [
    {
     "name": "stdout",
     "output_type": "stream",
     "text": [
      "The character i found\n",
      "The character i found\n"
     ]
    }
   ],
   "source": [
    "a='institute'\n",
    "for b in a:\n",
    "    if b=='i':\n",
    "        print('The character i found')\n",
    "    else:\n",
    "        pass ##Do nothing for the timing"
   ]
  },
  {
   "cell_type": "code",
   "execution_count": 40,
   "id": "4d99add7-c24a-4e9d-ae1e-f5793757366a",
   "metadata": {},
   "outputs": [
    {
     "name": "stdout",
     "output_type": "stream",
     "text": [
      "i\n",
      "n\n",
      "s\n",
      "t\n",
      "i\n",
      "t\n",
      "The character u found\n"
     ]
    }
   ],
   "source": [
    "#### 2.BREAK\n",
    "a='institute'\n",
    "for b in a:\n",
    "    if b=='u':\n",
    "        print('The character u found')\n",
    "        break ### BREAK statement breaks/terminates the loop when the condition is satisfied.\n",
    "    else:\n",
    "        print(b)"
   ]
  },
  {
   "cell_type": "code",
   "execution_count": 41,
   "id": "81aa0029-58b2-4552-9e13-e397dd8c416a",
   "metadata": {},
   "outputs": [
    {
     "name": "stdout",
     "output_type": "stream",
     "text": [
      "i\n",
      "n\n",
      "s\n",
      "t\n",
      "i\n",
      "t\n",
      "t\n",
      "e\n"
     ]
    }
   ],
   "source": [
    "#### 3.CONTINUE\n",
    "a='institute'\n",
    "for b in a:\n",
    "    if b=='u':\n",
    "        continue ### CONTINUE statement continues the loop even if the condition is satisfied.\n",
    "    else:\n",
    "        print(b)"
   ]
  },
  {
   "cell_type": "markdown",
   "id": "391b5949-0e26-4255-8950-93c042003545",
   "metadata": {},
   "source": [
    "### RANGE"
   ]
  },
  {
   "cell_type": "code",
   "execution_count": 42,
   "id": "905185cd-343a-4590-8e22-23dd4a7bbe9f",
   "metadata": {},
   "outputs": [
    {
     "data": {
      "text/plain": [
       "[0, 1, 2, 3, 4, 5, 6, 7, 8, 9]"
      ]
     },
     "execution_count": 42,
     "metadata": {},
     "output_type": "execute_result"
    }
   ],
   "source": [
    "list(range(10))"
   ]
  },
  {
   "cell_type": "code",
   "execution_count": 43,
   "id": "216c0c8d-150c-40aa-863b-224c40c9e044",
   "metadata": {},
   "outputs": [
    {
     "data": {
      "text/plain": [
       "[1, 2, 3, 4, 5, 6, 7, 8, 9]"
      ]
     },
     "execution_count": 43,
     "metadata": {},
     "output_type": "execute_result"
    }
   ],
   "source": [
    "list(range(1,10))"
   ]
  },
  {
   "cell_type": "code",
   "execution_count": 44,
   "id": "ca3d2078-a9cb-42d6-ac1b-97b8059dc904",
   "metadata": {},
   "outputs": [
    {
     "data": {
      "text/plain": [
       "[1, 3, 5, 7, 9]"
      ]
     },
     "execution_count": 44,
     "metadata": {},
     "output_type": "execute_result"
    }
   ],
   "source": [
    "list(range(1,10,2))"
   ]
  },
  {
   "cell_type": "code",
   "execution_count": 45,
   "id": "0f22cdc7-2c68-4cd8-8ff0-5c764063d7fc",
   "metadata": {},
   "outputs": [
    {
     "data": {
      "text/plain": [
       "[0, 2, 4, 6, 8]"
      ]
     },
     "execution_count": 45,
     "metadata": {},
     "output_type": "execute_result"
    }
   ],
   "source": [
    "list(range(0,10,2))"
   ]
  },
  {
   "cell_type": "code",
   "execution_count": 46,
   "id": "b8c50b07-0457-45c3-a979-24f238d8bca6",
   "metadata": {},
   "outputs": [
    {
     "name": "stdout",
     "output_type": "stream",
     "text": [
      "0\n",
      "2\n",
      "4\n",
      "6\n",
      "8\n"
     ]
    }
   ],
   "source": [
    "for a in range(0,10,2):\n",
    "    print(a)"
   ]
  },
  {
   "cell_type": "code",
   "execution_count": 47,
   "id": "4c038080-f3aa-4c30-a1bd-afd7623ff6fd",
   "metadata": {},
   "outputs": [
    {
     "data": {
      "text/plain": [
       "range(0, 10)"
      ]
     },
     "execution_count": 47,
     "metadata": {},
     "output_type": "execute_result"
    }
   ],
   "source": [
    "range(0,10)"
   ]
  },
  {
   "cell_type": "markdown",
   "id": "53a69b54-4957-4538-bdea-d8fd83949c8c",
   "metadata": {},
   "source": [
    "#### WAP to extract each character from the string 'silicon' and get the output as list of characters."
   ]
  },
  {
   "cell_type": "code",
   "execution_count": 49,
   "id": "a1f0e12f-8893-42b7-b0e6-f1931d457880",
   "metadata": {},
   "outputs": [
    {
     "name": "stdout",
     "output_type": "stream",
     "text": [
      "['S', 'i', 'l', 'i', 'c', 'o', 'n']\n"
     ]
    }
   ],
   "source": [
    "mystring='Silicon'\n",
    "mylist=[]\n",
    "for a in mystring:\n",
    "    mylist.append(a)\n",
    "print(mylist)"
   ]
  },
  {
   "cell_type": "markdown",
   "id": "7eb9045a-1d8a-4c71-8bc6-f6a55e92ad38",
   "metadata": {},
   "source": [
    "## LIST COMPREHENSHION\n",
    "#### It is a unique way of quickly creating/forming a list using python.\n",
    "#### when to use: when u find urself a for loop along with a append method to create a list."
   ]
  },
  {
   "cell_type": "code",
   "execution_count": 50,
   "id": "4f8f28b5-e76e-4faf-b36c-703e1ce871cd",
   "metadata": {},
   "outputs": [
    {
     "data": {
      "text/plain": [
       "['S', 'i', 'l', 'i', 'c', 'o', 'n']"
      ]
     },
     "execution_count": 50,
     "metadata": {},
     "output_type": "execute_result"
    }
   ],
   "source": [
    "mylist"
   ]
  },
  {
   "cell_type": "code",
   "execution_count": 52,
   "id": "84f956f0-3ccf-4c30-adb4-c66028f4af0f",
   "metadata": {},
   "outputs": [
    {
     "name": "stdout",
     "output_type": "stream",
     "text": [
      "['s', 'i', 'l', 'i', 'c', 'o', 'n']\n"
     ]
    }
   ],
   "source": [
    "mylist1=[a for a in 'silicon']\n",
    "print(mylist1)"
   ]
  },
  {
   "cell_type": "markdown",
   "id": "fc2639ad-8241-4cd2-ae9d-bcac5cf7d9e6",
   "metadata": {},
   "source": [
    "#### WAP to get a list of sqaure number of 10 natural numbers"
   ]
  },
  {
   "cell_type": "code",
   "execution_count": 56,
   "id": "38ba31ef-0772-456d-aa8c-812c16bb94c5",
   "metadata": {},
   "outputs": [
    {
     "name": "stdout",
     "output_type": "stream",
     "text": [
      "[1, 4, 9, 16, 25, 36, 49, 64, 81, 100]\n"
     ]
    }
   ],
   "source": [
    "L=[a*a for a in (range(1,11))]\n",
    "print(L)"
   ]
  },
  {
   "cell_type": "code",
   "execution_count": 57,
   "id": "3bc55805-ab5c-4877-ae31-4cabb9b93d67",
   "metadata": {},
   "outputs": [
    {
     "name": "stdout",
     "output_type": "stream",
     "text": [
      "[1, 4, 9, 16, 25, 36, 49, 64, 81, 100]\n"
     ]
    }
   ],
   "source": [
    "mylist2=[]\n",
    "for a in range(1,11):\n",
    "    mylist2.append(a*a)\n",
    "print(mylist2)"
   ]
  },
  {
   "cell_type": "code",
   "execution_count": null,
   "id": "e99b0763-a9f7-4e56-bf1d-444f00077899",
   "metadata": {},
   "outputs": [],
   "source": []
  },
  {
   "cell_type": "code",
   "execution_count": 58,
   "id": "f62aaaae-b3ff-452a-a92e-74e3e88e13eb",
   "metadata": {},
   "outputs": [
    {
     "name": "stdout",
     "output_type": "stream",
     "text": [
      "[4, 5, 8, 10, 12, 15]\n"
     ]
    }
   ],
   "source": [
    "L1=[1,2,3]\n",
    "L2=[4,5]\n",
    "L=[]\n",
    "for a in L1:\n",
    "    for b in L2:\n",
    "        L.append(a*b)\n",
    "print(L)"
   ]
  },
  {
   "cell_type": "code",
   "execution_count": 61,
   "id": "f6bbdfe2-dedc-406c-9882-43fa0503375c",
   "metadata": {},
   "outputs": [
    {
     "name": "stdout",
     "output_type": "stream",
     "text": [
      "[4, 5, 8, 10, 12, 15]\n"
     ]
    }
   ],
   "source": [
    "L1=[1,2,3]\n",
    "L2=[4,5]\n",
    "L=[a*b for a in L1 for b in L2]\n",
    "print(L)"
   ]
  },
  {
   "cell_type": "markdown",
   "id": "a924a025-8698-45d0-a5d4-f599f3069d16",
   "metadata": {},
   "source": [
    "#### WAP to enter a list of number i.e., [4,5,6,7,8] and return a list of even numbers."
   ]
  },
  {
   "cell_type": "code",
   "execution_count": 62,
   "id": "074edaa5-2a8d-4519-9381-99bdaa634b99",
   "metadata": {},
   "outputs": [
    {
     "name": "stdout",
     "output_type": "stream",
     "text": [
      "[4, 6, 8]\n"
     ]
    }
   ],
   "source": [
    "mylist=[4,5,6,7,8]\n",
    "L=[]\n",
    "for a in mylist:\n",
    "    if a%2==0:\n",
    "        L.append(a)\n",
    "print(L)"
   ]
  },
  {
   "cell_type": "code",
   "execution_count": 63,
   "id": "0705842b-6811-4724-9b52-2d5a4bee9fde",
   "metadata": {},
   "outputs": [
    {
     "name": "stdout",
     "output_type": "stream",
     "text": [
      "[4, 6, 8]\n"
     ]
    }
   ],
   "source": [
    "mylist=[4,5,6,7,8]\n",
    "L=[a for a in mylist if a%2==0]\n",
    "print(L)"
   ]
  },
  {
   "cell_type": "code",
   "execution_count": 66,
   "id": "001d7c04-14e0-459e-8e33-66113d61ae29",
   "metadata": {},
   "outputs": [
    {
     "name": "stdout",
     "output_type": "stream",
     "text": [
      "[(0, 4), (2, 6), (4, 8)]\n"
     ]
    }
   ],
   "source": [
    "mylist=[4,5,6,7,8]\n",
    "L=[(mylist.index(a),a) for a in mylist if a%2==0]\n",
    "print(L)"
   ]
  },
  {
   "cell_type": "code",
   "execution_count": null,
   "id": "d794388b-8ac3-4570-9297-e9d989850db3",
   "metadata": {},
   "outputs": [],
   "source": []
  }
 ],
 "metadata": {
  "kernelspec": {
   "display_name": "Python [conda env:base] *",
   "language": "python",
   "name": "conda-base-py"
  },
  "language_info": {
   "codemirror_mode": {
    "name": "ipython",
    "version": 3
   },
   "file_extension": ".py",
   "mimetype": "text/x-python",
   "name": "python",
   "nbconvert_exporter": "python",
   "pygments_lexer": "ipython3",
   "version": "3.12.7"
  }
 },
 "nbformat": 4,
 "nbformat_minor": 5
}
