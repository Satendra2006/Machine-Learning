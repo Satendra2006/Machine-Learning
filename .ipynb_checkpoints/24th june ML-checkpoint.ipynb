{
 "cells": [
  {
   "cell_type": "markdown",
   "id": "13355361-285d-4d3c-8147-5bdc037aa237",
   "metadata": {},
   "source": [
    "# Step-A:DATA PREPROCESSING"
   ]
  },
  {
   "cell_type": "markdown",
   "id": "0ad5de12-8e20-4e55-ac10-c2ae83a9f800",
   "metadata": {},
   "source": [
    "#### Step-1: import the libraries"
   ]
  },
  {
   "cell_type": "code",
   "execution_count": 1,
   "id": "a7642a9e-5543-4ba0-a870-08e6c8b51344",
   "metadata": {},
   "outputs": [],
   "source": [
    "import numpy as np\n",
    "import pandas as pd\n",
    "import matplotlib.pyplot as plt"
   ]
  },
  {
   "cell_type": "code",
   "execution_count": 2,
   "id": "b37b56be-4c06-4d92-a174-8be6d97b414a",
   "metadata": {},
   "outputs": [],
   "source": [
    "#### Step-2: Import the data"
   ]
  },
  {
   "cell_type": "code",
   "execution_count": 3,
   "id": "442e7de8-921b-469a-bc51-8d88f28d679a",
   "metadata": {},
   "outputs": [],
   "source": [
    "dataset=pd.read_csv('vehicle.data')"
   ]
  },
  {
   "cell_type": "code",
   "execution_count": 4,
   "id": "146fec29-870d-4209-a6d4-06b7ace1023a",
   "metadata": {},
   "outputs": [
    {
     "data": {
      "text/html": [
       "<div>\n",
       "<style scoped>\n",
       "    .dataframe tbody tr th:only-of-type {\n",
       "        vertical-align: middle;\n",
       "    }\n",
       "\n",
       "    .dataframe tbody tr th {\n",
       "        vertical-align: top;\n",
       "    }\n",
       "\n",
       "    .dataframe thead th {\n",
       "        text-align: right;\n",
       "    }\n",
       "</style>\n",
       "<table border=\"1\" class=\"dataframe\">\n",
       "  <thead>\n",
       "    <tr style=\"text-align: right;\">\n",
       "      <th></th>\n",
       "      <th>vhigh</th>\n",
       "      <th>vhigh.1</th>\n",
       "      <th>2</th>\n",
       "      <th>2.1</th>\n",
       "      <th>small</th>\n",
       "      <th>low</th>\n",
       "      <th>unacc</th>\n",
       "    </tr>\n",
       "  </thead>\n",
       "  <tbody>\n",
       "    <tr>\n",
       "      <th>0</th>\n",
       "      <td>vhigh</td>\n",
       "      <td>vhigh</td>\n",
       "      <td>2</td>\n",
       "      <td>2</td>\n",
       "      <td>small</td>\n",
       "      <td>med</td>\n",
       "      <td>unacc</td>\n",
       "    </tr>\n",
       "    <tr>\n",
       "      <th>1</th>\n",
       "      <td>vhigh</td>\n",
       "      <td>vhigh</td>\n",
       "      <td>2</td>\n",
       "      <td>2</td>\n",
       "      <td>small</td>\n",
       "      <td>high</td>\n",
       "      <td>unacc</td>\n",
       "    </tr>\n",
       "    <tr>\n",
       "      <th>2</th>\n",
       "      <td>vhigh</td>\n",
       "      <td>vhigh</td>\n",
       "      <td>2</td>\n",
       "      <td>2</td>\n",
       "      <td>med</td>\n",
       "      <td>low</td>\n",
       "      <td>unacc</td>\n",
       "    </tr>\n",
       "    <tr>\n",
       "      <th>3</th>\n",
       "      <td>vhigh</td>\n",
       "      <td>vhigh</td>\n",
       "      <td>2</td>\n",
       "      <td>2</td>\n",
       "      <td>med</td>\n",
       "      <td>med</td>\n",
       "      <td>unacc</td>\n",
       "    </tr>\n",
       "    <tr>\n",
       "      <th>4</th>\n",
       "      <td>vhigh</td>\n",
       "      <td>vhigh</td>\n",
       "      <td>2</td>\n",
       "      <td>2</td>\n",
       "      <td>med</td>\n",
       "      <td>high</td>\n",
       "      <td>unacc</td>\n",
       "    </tr>\n",
       "  </tbody>\n",
       "</table>\n",
       "</div>"
      ],
      "text/plain": [
       "   vhigh vhigh.1  2 2.1  small   low  unacc\n",
       "0  vhigh   vhigh  2   2  small   med  unacc\n",
       "1  vhigh   vhigh  2   2  small  high  unacc\n",
       "2  vhigh   vhigh  2   2    med   low  unacc\n",
       "3  vhigh   vhigh  2   2    med   med  unacc\n",
       "4  vhigh   vhigh  2   2    med  high  unacc"
      ]
     },
     "execution_count": 4,
     "metadata": {},
     "output_type": "execute_result"
    }
   ],
   "source": [
    "dataset.head()"
   ]
  },
  {
   "cell_type": "markdown",
   "id": "e86f90c5-cbb1-415e-88b1-b5186613591f",
   "metadata": {},
   "source": [
    "#### Step-3: Split the data into X and Y"
   ]
  },
  {
   "cell_type": "code",
   "execution_count": 7,
   "id": "d20b88d5-b229-4b01-81b8-fd81531fc9b3",
   "metadata": {},
   "outputs": [],
   "source": [
    "X=dataset.iloc[:,:-1].values\n",
    "Y=dataset.iloc[:,-1].values"
   ]
  },
  {
   "cell_type": "code",
   "execution_count": 8,
   "id": "e99aa150-eb36-4252-b92c-130569f3e3eb",
   "metadata": {},
   "outputs": [
    {
     "data": {
      "text/plain": [
       "array([['vhigh', 'vhigh', '2', '2', 'small', 'med'],\n",
       "       ['vhigh', 'vhigh', '2', '2', 'small', 'high'],\n",
       "       ['vhigh', 'vhigh', '2', '2', 'med', 'low'],\n",
       "       ...,\n",
       "       ['low', 'low', '5more', 'more', 'big', 'low'],\n",
       "       ['low', 'low', '5more', 'more', 'big', 'med'],\n",
       "       ['low', 'low', '5more', 'more', 'big', 'high']], dtype=object)"
      ]
     },
     "execution_count": 8,
     "metadata": {},
     "output_type": "execute_result"
    }
   ],
   "source": [
    "X"
   ]
  },
  {
   "cell_type": "code",
   "execution_count": 9,
   "id": "ffdb359a-286f-492c-a864-772745359c06",
   "metadata": {},
   "outputs": [
    {
     "data": {
      "text/plain": [
       "array(['unacc', 'unacc', 'unacc', ..., 'unacc', 'good', 'vgood'],\n",
       "      dtype=object)"
      ]
     },
     "execution_count": 9,
     "metadata": {},
     "output_type": "execute_result"
    }
   ],
   "source": [
    "Y"
   ]
  },
  {
   "cell_type": "markdown",
   "id": "ee7f219a-c178-4d92-97ff-c4ab77c977b5",
   "metadata": {},
   "source": [
    "#### Step-4: Conversion from categorical data present in X"
   ]
  },
  {
   "cell_type": "markdown",
   "id": "ca57a12a-9e5b-4277-b1c3-1d613dbe0cf9",
   "metadata": {},
   "source": [
    "#### 1] class OrdinalEncoder"
   ]
  },
  {
   "cell_type": "code",
   "execution_count": 10,
   "id": "93f28c51-10d3-42db-9f6e-1bf2f3fd1ca3",
   "metadata": {},
   "outputs": [],
   "source": [
    "from sklearn.preprocessing import OrdinalEncoder"
   ]
  },
  {
   "cell_type": "code",
   "execution_count": 11,
   "id": "8c55df08-9e4c-4578-b3de-2367c77ff668",
   "metadata": {},
   "outputs": [],
   "source": [
    "OE=OrdinalEncoder()"
   ]
  },
  {
   "cell_type": "code",
   "execution_count": 12,
   "id": "ca3e5841-22c2-4319-b309-671c10922ac2",
   "metadata": {},
   "outputs": [
    {
     "data": {
      "text/plain": [
       "array([[3., 3., 0., 0., 2., 2.],\n",
       "       [3., 3., 0., 0., 2., 0.],\n",
       "       [3., 3., 0., 0., 1., 1.],\n",
       "       ...,\n",
       "       [1., 1., 3., 2., 0., 1.],\n",
       "       [1., 1., 3., 2., 0., 2.],\n",
       "       [1., 1., 3., 2., 0., 0.]])"
      ]
     },
     "execution_count": 12,
     "metadata": {},
     "output_type": "execute_result"
    }
   ],
   "source": [
    "X=np.array(OE.fit_transform(X))\n",
    "X"
   ]
  },
  {
   "cell_type": "markdown",
   "id": "e5cd90a1-efe8-445d-a8d5-6f369defcfc3",
   "metadata": {},
   "source": [
    "#### Step-5: Conversion of categorical data in Y"
   ]
  },
  {
   "cell_type": "code",
   "execution_count": 14,
   "id": "031fe50b-6bde-473a-93e0-50b897a1fae5",
   "metadata": {},
   "outputs": [
    {
     "name": "stdout",
     "output_type": "stream",
     "text": [
      "['unacc' 'unacc' 'unacc' ... 'unacc' 'good' 'vgood']\n",
      "[2 2 2 ... 2 1 3]\n"
     ]
    }
   ],
   "source": [
    "from sklearn.preprocessing import LabelEncoder\n",
    "LE=LabelEncoder()\n",
    "print(Y)\n",
    "Y=np.array(LE.fit_transform(Y))\n",
    "print(Y)"
   ]
  },
  {
   "cell_type": "markdown",
   "id": "3f5b3402-48a0-48ab-bb5c-ee7cef3638bd",
   "metadata": {},
   "source": [
    "## Step-B: Building the classification model"
   ]
  },
  {
   "cell_type": "markdown",
   "id": "689e96d0-569d-469a-9278-60bb2dd91250",
   "metadata": {},
   "source": [
    "#### step-1: Split data into training and testing"
   ]
  },
  {
   "cell_type": "code",
   "execution_count": 15,
   "id": "ed67a789-4095-45fe-9a98-4c309b3a4f00",
   "metadata": {},
   "outputs": [],
   "source": [
    "from sklearn.model_selection import train_test_split\n",
    "xtrain,xtest,ytrain,ytest=train_test_split(X,Y,test_size=0.2)"
   ]
  },
  {
   "cell_type": "markdown",
   "id": "2a84b211-bc4c-4b90-98a1-d1504154749f",
   "metadata": {},
   "source": [
    "#### Step-2: Building Classifiers"
   ]
  },
  {
   "cell_type": "markdown",
   "id": "b6a6290d-1c6b-46e7-a70b-917510affaee",
   "metadata": {},
   "source": [
    "#### i)K Nearest Neighbours(KNN)"
   ]
  },
  {
   "cell_type": "code",
   "execution_count": 16,
   "id": "47365152-780c-45da-8bc2-42c0a2343810",
   "metadata": {},
   "outputs": [],
   "source": [
    "from sklearn.neighbors import KNeighborsClassifier\n",
    "KNN=KNeighborsClassifier(n_neighbors=7)\n",
    "#### Training the KNN classifier\n",
    "KNN.fit(xtrain,ytrain)\n",
    "## testing the KNN Classifier\n",
    "Ypred_KNN=KNN.predict(xtest)\n",
    "## Some metric to test the classifier\n",
    "from sklearn.metrics import confusion_matrix,accuracy_score,precision_score,recall_score,f1_score"
   ]
  },
  {
   "cell_type": "markdown",
   "id": "aee47b67-dc88-48c0-bedc-c67b829abd38",
   "metadata": {},
   "source": [
    "#### ii)Naive Bayes Algorithm"
   ]
  },
  {
   "cell_type": "code",
   "execution_count": 18,
   "id": "804540ba-0597-45cd-acd0-3fef710a1d3d",
   "metadata": {},
   "outputs": [],
   "source": [
    "from sklearn.naive_bayes import GaussianNB\n",
    "NB=GaussianNB()\n",
    "### Training the NB classifier\n",
    "NB.fit(xtrain,ytrain)\n",
    "### testing the NB classifier\n",
    "Ypred_NB=NB.predict(xtest)"
   ]
  },
  {
   "cell_type": "markdown",
   "id": "6228c2c4-8021-4e37-aadd-25ddc169aa7c",
   "metadata": {},
   "source": [
    "#### iii) Decision Tree"
   ]
  },
  {
   "cell_type": "code",
   "execution_count": 19,
   "id": "1da1906a-ca53-4a09-836c-6429a8ea999f",
   "metadata": {},
   "outputs": [],
   "source": [
    "from sklearn.tree import DecisionTreeClassifier\n",
    "DT=DecisionTreeClassifier(criterion='entropy',max_depth=4)\n",
    "### Training the DT classifier\n",
    "DT.fit(xtrain,ytrain)\n",
    "### testing the DT classifier\n",
    "Ypred_DT=DT.predict(xtest)"
   ]
  },
  {
   "cell_type": "markdown",
   "id": "8e6e0b2b-db36-4c1a-93e1-43c3c0d8b95d",
   "metadata": {},
   "source": [
    "#### iv) random Forest Tree classifier"
   ]
  },
  {
   "cell_type": "code",
   "execution_count": 20,
   "id": "0e51ab2e-53dc-47e1-b6ab-1f247e073036",
   "metadata": {},
   "outputs": [],
   "source": [
    "from sklearn.ensemble import RandomForestClassifier\n",
    "rf=RandomForestClassifier(n_estimators=1000,criterion='entropy')\n",
    "### Training the RFT classifier\n",
    "rf.fit(xtrain,ytrain)\n",
    "### testing the RFT classifier\n",
    "Ypred_rf=rf.predict(xtest)"
   ]
  },
  {
   "cell_type": "code",
   "execution_count": 25,
   "id": "3f814d39-5e1e-4298-80c0-85f7413f43e7",
   "metadata": {},
   "outputs": [
    {
     "name": "stdout",
     "output_type": "stream",
     "text": [
      "KNN Metrics for the model\n",
      "*************************\n",
      "Confusion Matrix:[[ 65   0  10   0]\n",
      " [  5   7   0   0]\n",
      " [  1   0 247   0]\n",
      " [  0   0   0  11]]\n",
      "Accuracy Score:0.953757225433526\n",
      "Precision Score:[0.91549296 1.         0.96108949 1.        ]\n",
      "Recall Score:[0.86666667 0.58333333 0.99596774 1.        ]\n",
      "F1 Score:[0.89041096 0.73684211 0.97821782 1.        ]\n",
      "Naive Bayes Metrics for the mode,average=None,zero_division=0l\n",
      "*********************************\n",
      "Confusion Matrix:[[ 10   0  30  35]\n",
      " [  2   0   5   5]\n",
      " [  4   0 211  33]\n",
      " [  0   0   0  11]]\n",
      "Accuracy Score:0.6705202312138728\n",
      "Precision Score:[0.625      0.         0.85772358 0.13095238]\n",
      "Recall Score:[0.13333333 0.         0.85080645 1.        ]\n",
      "F1 Score:[0.21978022 0.         0.85425101 0.23157895]\n",
      "Decision Tree Metrics for the mode,average=None,zero_division=0l\n",
      "***********************************\n",
      "Confusion Matrix:[[ 68   0   7   0]\n",
      " [ 12   0   0   0]\n",
      " [ 27   0 221   0]\n",
      " [ 11   0   0   0]]\n",
      "Accuracy Score:0.8352601156069365\n",
      "Precision Score:[0.57627119 0.         0.96929825 0.        ]\n",
      "Recall Score:[0.90666667 0.         0.89112903 0.        ]\n",
      "F1 Score:[0.70466321 0.         0.92857143 0.        ]\n",
      "Random Forest Tree Metrics for the model\n",
      "****************************************\n",
      "Confusion Matrix:[[ 74   1   0   0]\n",
      " [  1  11   0   0]\n",
      " [  2   0 246   0]\n",
      " [  0   0   0  11]]\n",
      "Accuracy Score:0.9884393063583815\n",
      "Precision Score:[0.96103896 0.91666667 1.         1.        ]\n",
      "Recall Score:[0.98666667 0.91666667 0.99193548 1.        ]\n",
      "F1 Score:[0.97368421 0.91666667 0.99595142 1.        ]\n"
     ]
    }
   ],
   "source": [
    "print(\"KNN Metrics for the model\")\n",
    "print(\"*************************\")\n",
    "print(\"Confusion Matrix:{}\".format(confusion_matrix(ytest,Ypred_KNN)))\n",
    "print(\"Accuracy Score:{}\".format(accuracy_score(ytest,Ypred_KNN)))\n",
    "print(\"Precision Score:{}\".format(precision_score(ytest,Ypred_KNN,average=None,zero_division=0)))\n",
    "print(\"Recall Score:{}\".format(recall_score(ytest,Ypred_KNN,average=None,zero_division=0)))\n",
    "print(\"F1 Score:{}\".format(f1_score(ytest,Ypred_KNN,average=None,zero_division=0)))\n",
    "print(\"Naive Bayes Metrics for the mode,average=None,zero_division=0l\")\n",
    "print(\"*********************************\")\n",
    "print(\"Confusion Matrix:{}\".format(confusion_matrix(ytest,Ypred_NB)))\n",
    "print(\"Accuracy Score:{}\".format(accuracy_score(ytest,Ypred_NB)))\n",
    "print(\"Precision Score:{}\".format(precision_score(ytest,Ypred_NB,average=None,zero_division=0)))\n",
    "print(\"Recall Score:{}\".format(recall_score(ytest,Ypred_NB,average=None,zero_division=0)))\n",
    "print(\"F1 Score:{}\".format(f1_score(ytest,Ypred_NB,average=None,zero_division=0)))\n",
    "print(\"Decision Tree Metrics for the mode,average=None,zero_division=0l\")\n",
    "print(\"***********************************\")\n",
    "print(\"Confusion Matrix:{}\".format(confusion_matrix(ytest,Ypred_DT)))\n",
    "print(\"Accuracy Score:{}\".format(accuracy_score(ytest,Ypred_DT)))\n",
    "print(\"Precision Score:{}\".format(precision_score(ytest,Ypred_DT,average=None,zero_division=0)))\n",
    "print(\"Recall Score:{}\".format(recall_score(ytest,Ypred_DT,average=None,zero_division=0)))\n",
    "print(\"F1 Score:{}\".format(f1_score(ytest,Ypred_DT,average=None,zero_division=0)))\n",
    "print(\"Random Forest Tree Metrics for the model\")\n",
    "print(\"****************************************\")\n",
    "print(\"Confusion Matrix:{}\".format(confusion_matrix(ytest,Ypred_rf)))\n",
    "print(\"Accuracy Score:{}\".format(accuracy_score(ytest,Ypred_rf)))\n",
    "print(\"Precision Score:{}\".format(precision_score(ytest,Ypred_rf,average=None,zero_division=0)))\n",
    "print(\"Recall Score:{}\".format(recall_score(ytest,Ypred_rf,average=None,zero_division=0)))\n",
    "print(\"F1 Score:{}\".format(f1_score(ytest,Ypred_rf,average=None,zero_division=0)))"
   ]
  },
  {
   "cell_type": "code",
   "execution_count": null,
   "id": "802ffe22-124e-4b0d-990b-64b3c4e74658",
   "metadata": {},
   "outputs": [],
   "source": []
  }
 ],
 "metadata": {
  "kernelspec": {
   "display_name": "Python [conda env:base] *",
   "language": "python",
   "name": "conda-base-py"
  },
  "language_info": {
   "codemirror_mode": {
    "name": "ipython",
    "version": 3
   },
   "file_extension": ".py",
   "mimetype": "text/x-python",
   "name": "python",
   "nbconvert_exporter": "python",
   "pygments_lexer": "ipython3",
   "version": "3.12.7"
  }
 },
 "nbformat": 4,
 "nbformat_minor": 5
}
