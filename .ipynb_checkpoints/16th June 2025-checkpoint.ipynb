{
 "cells": [
  {
   "cell_type": "markdown",
   "id": "959fa58a-1e29-4921-8ff3-cfbe522d413c",
   "metadata": {},
   "source": [
    "## OOPS:Object Oriented programming"
   ]
  },
  {
   "cell_type": "code",
   "execution_count": 1,
   "id": "f05adf8c-dea7-4b0e-a11f-99b7b92fe310",
   "metadata": {},
   "outputs": [],
   "source": [
    "mylist=[1,2,3,4]"
   ]
  },
  {
   "cell_type": "code",
   "execution_count": 2,
   "id": "0481d6d9-1387-4139-a72c-0e5cb511ed9b",
   "metadata": {},
   "outputs": [
    {
     "data": {
      "text/plain": [
       "list"
      ]
     },
     "execution_count": 2,
     "metadata": {},
     "output_type": "execute_result"
    }
   ],
   "source": [
    "type(mylist)"
   ]
  },
  {
   "cell_type": "markdown",
   "id": "34c5964c-909e-4714-b328-fb916fd2c4a0",
   "metadata": {},
   "source": [
    "### OOPS allows to create own objects that have methods and attributes:"
   ]
  },
  {
   "cell_type": "markdown",
   "id": "e3430dfc-8c97-461b-a992-144e83920203",
   "metadata": {},
   "source": [
    "#### how to create an object \n",
    "#### class StudentName(): (Camel casing where starting of each word is uppercase)\n",
    "####      def __init__(self,name1):  (it takes only one arguement i.e., name and self connect instance of the class 'b' with arguement 'name')\n",
    "####           self.name=name1\n",
    "#### b=StudentName('ram') (1>An object 'b' is created of type StudentName 2>Initialisation of object 'b' will take place)"
   ]
  },
  {
   "cell_type": "code",
   "execution_count": 3,
   "id": "aea87c96-6d8d-4804-a725-844828deab48",
   "metadata": {},
   "outputs": [],
   "source": [
    "class Student():\n",
    "    def __init__(self,name123):\n",
    "        self.studentname=name123"
   ]
  },
  {
   "cell_type": "code",
   "execution_count": 5,
   "id": "6d2fed2c-e5a2-44f9-a3d2-25024138dec6",
   "metadata": {},
   "outputs": [],
   "source": [
    "a=Student('Ram')"
   ]
  },
  {
   "cell_type": "code",
   "execution_count": 6,
   "id": "92171711-2ec5-4037-8dc8-38e37a398532",
   "metadata": {},
   "outputs": [
    {
     "data": {
      "text/plain": [
       "'Ram'"
      ]
     },
     "execution_count": 6,
     "metadata": {},
     "output_type": "execute_result"
    }
   ],
   "source": [
    "a.studentname"
   ]
  },
  {
   "cell_type": "code",
   "execution_count": 7,
   "id": "ebf57c2c-11bb-4ea8-8bb4-f861676a3eff",
   "metadata": {},
   "outputs": [
    {
     "data": {
      "text/plain": [
       "__main__.Student"
      ]
     },
     "execution_count": 7,
     "metadata": {},
     "output_type": "execute_result"
    }
   ],
   "source": [
    "type(a)"
   ]
  },
  {
   "cell_type": "code",
   "execution_count": 11,
   "id": "565a796c-c4bd-499e-8fcc-87498ee998d2",
   "metadata": {},
   "outputs": [],
   "source": [
    "class Student():\n",
    "    def __init__(self,name123,number):\n",
    "        self.studentname=name123\n",
    "        self.sic=number"
   ]
  },
  {
   "cell_type": "code",
   "execution_count": 12,
   "id": "f2d7aa17-7339-44cd-bdbd-47df80cc3d77",
   "metadata": {},
   "outputs": [],
   "source": [
    "b=Student('RAM',222)"
   ]
  },
  {
   "cell_type": "code",
   "execution_count": 13,
   "id": "659a5583-f878-4e30-adb2-aa3343aece7c",
   "metadata": {},
   "outputs": [
    {
     "data": {
      "text/plain": [
       "222"
      ]
     },
     "execution_count": 13,
     "metadata": {},
     "output_type": "execute_result"
    }
   ],
   "source": [
    "b.sic"
   ]
  },
  {
   "cell_type": "code",
   "execution_count": 14,
   "id": "b7221003-2b5a-4a8f-aace-6f03b197ebe7",
   "metadata": {},
   "outputs": [],
   "source": [
    "c=Student('Shyam',223)"
   ]
  },
  {
   "cell_type": "code",
   "execution_count": 15,
   "id": "07ea824a-b5c6-44ad-8821-cdc7b11d5bdd",
   "metadata": {},
   "outputs": [
    {
     "data": {
      "text/plain": [
       "'Shyam'"
      ]
     },
     "execution_count": 15,
     "metadata": {},
     "output_type": "execute_result"
    }
   ],
   "source": [
    "c.studentname"
   ]
  },
  {
   "cell_type": "code",
   "execution_count": 16,
   "id": "ca98e2ee-cce0-4e8e-84cc-2560be77265d",
   "metadata": {},
   "outputs": [],
   "source": [
    "class Student():\n",
    "    college='Silicon University'\n",
    "    def __init__(self,name123,number):\n",
    "        self.studentname=name123\n",
    "        self.sic=number"
   ]
  },
  {
   "cell_type": "code",
   "execution_count": 17,
   "id": "e58a6cc7-a234-480c-b3bf-9b7bfd50851d",
   "metadata": {},
   "outputs": [],
   "source": [
    "d=Student('Sattu',225)"
   ]
  },
  {
   "cell_type": "code",
   "execution_count": 18,
   "id": "86eebe6f-be23-49c7-a913-50ad3450d9be",
   "metadata": {},
   "outputs": [
    {
     "data": {
      "text/plain": [
       "'Silicon University'"
      ]
     },
     "execution_count": 18,
     "metadata": {},
     "output_type": "execute_result"
    }
   ],
   "source": [
    "d.college"
   ]
  },
  {
   "cell_type": "markdown",
   "id": "d6a8a62c-100b-44cf-8981-78f0253b81a9",
   "metadata": {},
   "source": [
    "### From the above example, what are my class variable and what are my instance variable:\n",
    "#### From the above example,college is the class variable and studentname and sic are the instance variable."
   ]
  },
  {
   "cell_type": "code",
   "execution_count": 19,
   "id": "6b89ab9c-ec1c-42a7-85f1-ba914613787b",
   "metadata": {},
   "outputs": [
    {
     "data": {
      "text/plain": [
       "'Silicon University'"
      ]
     },
     "execution_count": 19,
     "metadata": {},
     "output_type": "execute_result"
    }
   ],
   "source": [
    "Student.college"
   ]
  },
  {
   "cell_type": "code",
   "execution_count": 20,
   "id": "e114f469-5170-4d99-ae87-807e5020e570",
   "metadata": {},
   "outputs": [
    {
     "ename": "AttributeError",
     "evalue": "type object 'Student' has no attribute 'sic'",
     "output_type": "error",
     "traceback": [
      "\u001b[1;31m---------------------------------------------------------------------------\u001b[0m",
      "\u001b[1;31mAttributeError\u001b[0m                            Traceback (most recent call last)",
      "Cell \u001b[1;32mIn[20], line 1\u001b[0m\n\u001b[1;32m----> 1\u001b[0m Student\u001b[38;5;241m.\u001b[39msic\n",
      "\u001b[1;31mAttributeError\u001b[0m: type object 'Student' has no attribute 'sic'"
     ]
    }
   ],
   "source": [
    "Student.sic"
   ]
  },
  {
   "cell_type": "code",
   "execution_count": 22,
   "id": "1ab7f19b-0021-4427-8be4-b0c7f7a1638b",
   "metadata": {},
   "outputs": [
    {
     "data": {
      "text/plain": [
       "<function Student.mro()>"
      ]
     },
     "execution_count": 22,
     "metadata": {},
     "output_type": "execute_result"
    }
   ],
   "source": [
    "Student.mro"
   ]
  },
  {
   "cell_type": "code",
   "execution_count": 34,
   "id": "796b7878-22e7-46aa-b596-618ac2d70340",
   "metadata": {},
   "outputs": [],
   "source": [
    "class Student():\n",
    "    college='Silicon University'\n",
    "    def __init__(self,name123,number):\n",
    "        self.studentname=name123\n",
    "        self.sic=number\n",
    "        self.regdno=number\n",
    "    def display(self):\n",
    "        print(\"Myself {} with {} from {}\".format(self.studentname,self.sic,self.college))"
   ]
  },
  {
   "cell_type": "code",
   "execution_count": 35,
   "id": "af345e5f-7a51-4b4e-9f20-2ac7f4ef2cef",
   "metadata": {},
   "outputs": [],
   "source": [
    "xyz=Student('Ram',2256)"
   ]
  },
  {
   "cell_type": "code",
   "execution_count": 37,
   "id": "8fb636a4-ab65-4cb5-ad52-45bdf9cdd760",
   "metadata": {},
   "outputs": [
    {
     "name": "stdout",
     "output_type": "stream",
     "text": [
      "Myself Ram with 2256 from Silicon University\n"
     ]
    }
   ],
   "source": [
    "xyz.display()"
   ]
  },
  {
   "cell_type": "code",
   "execution_count": 38,
   "id": "fe4b00f7-53f3-49e9-9977-b64a4fbdf90e",
   "metadata": {},
   "outputs": [
    {
     "data": {
      "text/plain": [
       "2256"
      ]
     },
     "execution_count": 38,
     "metadata": {},
     "output_type": "execute_result"
    }
   ],
   "source": [
    "xyz.regdno"
   ]
  },
  {
   "cell_type": "markdown",
   "id": "b7299a82-ac6a-47fa-b1f2-32fb561257fc",
   "metadata": {},
   "source": [
    "#### Define a class called as 'Circle' which have attribute as radius. Further also add a method called as display, which will print the circle's radius, circumferene and area"
   ]
  },
  {
   "cell_type": "code",
   "execution_count": 43,
   "id": "996c340f-b56f-453f-b669-725cc4af2640",
   "metadata": {},
   "outputs": [],
   "source": [
    "class Circle():\n",
    "    def __init__(self,r):\n",
    "        self.radius=r\n",
    "        self.area=3.14*r*r\n",
    "        self.circumference=2*3.14*r"
   ]
  },
  {
   "cell_type": "code",
   "execution_count": 44,
   "id": "04ff5f04-6a53-4615-878a-ed7f64d313a1",
   "metadata": {},
   "outputs": [],
   "source": [
    "a=Circle(2)"
   ]
  },
  {
   "cell_type": "code",
   "execution_count": 41,
   "id": "9649df05-ebae-4347-9fd4-442ddb44b611",
   "metadata": {},
   "outputs": [
    {
     "data": {
      "text/plain": [
       "2"
      ]
     },
     "execution_count": 41,
     "metadata": {},
     "output_type": "execute_result"
    }
   ],
   "source": [
    "a.radius"
   ]
  },
  {
   "cell_type": "code",
   "execution_count": 42,
   "id": "0d003cdc-aecb-4730-843f-ce46c8d88d95",
   "metadata": {},
   "outputs": [
    {
     "data": {
      "text/plain": [
       "12.56"
      ]
     },
     "execution_count": 42,
     "metadata": {},
     "output_type": "execute_result"
    }
   ],
   "source": [
    "a.area\n"
   ]
  },
  {
   "cell_type": "code",
   "execution_count": 45,
   "id": "c7482971-ee1f-4a68-b9d0-f51c91d6d495",
   "metadata": {},
   "outputs": [
    {
     "data": {
      "text/plain": [
       "12.56"
      ]
     },
     "execution_count": 45,
     "metadata": {},
     "output_type": "execute_result"
    }
   ],
   "source": [
    "a.circumference"
   ]
  },
  {
   "cell_type": "code",
   "execution_count": 55,
   "id": "091241b6-a3ba-44cc-9786-9ae0d10f3195",
   "metadata": {},
   "outputs": [],
   "source": [
    "class Circle():\n",
    "    pi=3.14\n",
    "    def __init__(self,r):\n",
    "        self.radius=r\n",
    "        self.area=self.pi*r*r\n",
    "        self.circumference=2*self.pi*r\n",
    "    def display(self):\n",
    "        print('The circle with radius {} have an area of {} and circumference of {}'.format(self.radius,self.area,self.circumference))"
   ]
  },
  {
   "cell_type": "code",
   "execution_count": 56,
   "id": "23f3ad56-f422-43f3-b1f8-238859e709c3",
   "metadata": {},
   "outputs": [],
   "source": [
    "abc=Circle(3)"
   ]
  },
  {
   "cell_type": "code",
   "execution_count": 57,
   "id": "7de8d56e-67a7-4944-8cc7-04d59f6ab2ec",
   "metadata": {},
   "outputs": [
    {
     "data": {
      "text/plain": [
       "3.14"
      ]
     },
     "execution_count": 57,
     "metadata": {},
     "output_type": "execute_result"
    }
   ],
   "source": [
    "abc.pi"
   ]
  },
  {
   "cell_type": "code",
   "execution_count": 58,
   "id": "90c62d69-5d0a-4217-8889-7bc33790f7db",
   "metadata": {},
   "outputs": [],
   "source": [
    "efg=Circle(4)"
   ]
  },
  {
   "cell_type": "code",
   "execution_count": 60,
   "id": "9077acae-14db-463f-8cfa-660f4089809c",
   "metadata": {},
   "outputs": [
    {
     "name": "stdout",
     "output_type": "stream",
     "text": [
      "The circle with radius 4 have an area of 50.24 and circumference of 25.12\n"
     ]
    }
   ],
   "source": [
    "efg.display()"
   ]
  },
  {
   "cell_type": "code",
   "execution_count": null,
   "id": "a60aa1c6-8f1c-494e-b327-e5029a370d92",
   "metadata": {},
   "outputs": [],
   "source": []
  },
  {
   "cell_type": "code",
   "execution_count": null,
   "id": "06ba96ef-ed87-4786-9e24-f8a1a48b5885",
   "metadata": {},
   "outputs": [],
   "source": []
  },
  {
   "cell_type": "code",
   "execution_count": null,
   "id": "80d8af7a-6d2a-4349-a612-7e79001c8dfd",
   "metadata": {},
   "outputs": [],
   "source": []
  },
  {
   "cell_type": "code",
   "execution_count": null,
   "id": "9c646d59-d31a-48ca-8158-dd2d1038b8db",
   "metadata": {},
   "outputs": [],
   "source": []
  }
 ],
 "metadata": {
  "kernelspec": {
   "display_name": "Python [conda env:base] *",
   "language": "python",
   "name": "conda-base-py"
  },
  "language_info": {
   "codemirror_mode": {
    "name": "ipython",
    "version": 3
   },
   "file_extension": ".py",
   "mimetype": "text/x-python",
   "name": "python",
   "nbconvert_exporter": "python",
   "pygments_lexer": "ipython3",
   "version": "3.12.7"
  }
 },
 "nbformat": 4,
 "nbformat_minor": 5
}
