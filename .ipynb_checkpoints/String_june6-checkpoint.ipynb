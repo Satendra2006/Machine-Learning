{
 "cells": [
  {
   "cell_type": "markdown",
   "id": "75106d85-742e-4eb2-80d8-3459962a1d6d",
   "metadata": {},
   "source": [
    "## Strings are ordered sequence:It supports indexing and slicing"
   ]
  },
  {
   "cell_type": "code",
   "execution_count": 1,
   "id": "c3fbf929-7425-4577-a9ec-aaf1259b23d8",
   "metadata": {},
   "outputs": [],
   "source": [
    "mystring='Silicon'"
   ]
  },
  {
   "cell_type": "code",
   "execution_count": 2,
   "id": "f555e6fb-bd82-4dd7-8830-a1212b8db724",
   "metadata": {},
   "outputs": [
    {
     "data": {
      "text/plain": [
       "'S'"
      ]
     },
     "execution_count": 2,
     "metadata": {},
     "output_type": "execute_result"
    }
   ],
   "source": [
    "mystring[0]"
   ]
  },
  {
   "cell_type": "code",
   "execution_count": 3,
   "id": "7d904235-d076-4bdd-b0ca-d61e66b97a5b",
   "metadata": {},
   "outputs": [
    {
     "data": {
      "text/plain": [
       "'n'"
      ]
     },
     "execution_count": 3,
     "metadata": {},
     "output_type": "execute_result"
    }
   ],
   "source": [
    "mystring[-1]"
   ]
  },
  {
   "cell_type": "code",
   "execution_count": 4,
   "id": "5a32568c-ef39-457d-b339-e41c299ecea7",
   "metadata": {},
   "outputs": [
    {
     "data": {
      "text/plain": [
       "'Slcn'"
      ]
     },
     "execution_count": 4,
     "metadata": {},
     "output_type": "execute_result"
    }
   ],
   "source": [
    "#slicing\n",
    "mystring[0:7:2]"
   ]
  },
  {
   "cell_type": "markdown",
   "id": "326ff355-d69f-4ce5-898b-0d518b28cae5",
   "metadata": {},
   "source": [
    "## Reverse a string"
   ]
  },
  {
   "cell_type": "code",
   "execution_count": 5,
   "id": "712de001-a830-4fce-b2c7-9fa3d309a553",
   "metadata": {},
   "outputs": [
    {
     "data": {
      "text/plain": [
       "'nociliS'"
      ]
     },
     "execution_count": 5,
     "metadata": {},
     "output_type": "execute_result"
    }
   ],
   "source": [
    "mystring[::-1]"
   ]
  },
  {
   "cell_type": "code",
   "execution_count": 6,
   "id": "13dbc823-a930-4245-8643-401c955a2379",
   "metadata": {},
   "outputs": [
    {
     "data": {
      "text/plain": [
       "'S'"
      ]
     },
     "execution_count": 6,
     "metadata": {},
     "output_type": "execute_result"
    }
   ],
   "source": [
    "mystring[0::-1]"
   ]
  },
  {
   "cell_type": "code",
   "execution_count": 8,
   "id": "86e4f485-1bf2-478d-b820-aa383440ee6e",
   "metadata": {},
   "outputs": [
    {
     "data": {
      "text/plain": [
       "'S'"
      ]
     },
     "execution_count": 8,
     "metadata": {},
     "output_type": "execute_result"
    }
   ],
   "source": [
    "mystring[-7::-1]"
   ]
  },
  {
   "cell_type": "markdown",
   "id": "e3d69028-76bd-43f0-9b3c-b116445d8a60",
   "metadata": {},
   "source": [
    "## Properties of strings:"
   ]
  },
  {
   "cell_type": "markdown",
   "id": "90afe3a5-3a80-4fdb-80eb-b58ef76bda2c",
   "metadata": {},
   "source": [
    "### 1.Strings are immutable.Strings does not support item assignment"
   ]
  },
  {
   "cell_type": "code",
   "execution_count": 9,
   "id": "98e7effb-b07b-4c60-86ef-a6e2f66923ff",
   "metadata": {},
   "outputs": [
    {
     "data": {
      "text/plain": [
       "'Silicon'"
      ]
     },
     "execution_count": 9,
     "metadata": {},
     "output_type": "execute_result"
    }
   ],
   "source": [
    "mystring"
   ]
  },
  {
   "cell_type": "code",
   "execution_count": 10,
   "id": "c2e72aab-bf86-47e9-9eff-3e70ad298d96",
   "metadata": {},
   "outputs": [],
   "source": [
    "newstring='Ram'"
   ]
  },
  {
   "cell_type": "code",
   "execution_count": 12,
   "id": "aab537a9-9824-4479-a87e-5931eeae74f4",
   "metadata": {},
   "outputs": [
    {
     "ename": "TypeError",
     "evalue": "'str' object does not support item assignment",
     "output_type": "error",
     "traceback": [
      "\u001b[1;31m---------------------------------------------------------------------------\u001b[0m",
      "\u001b[1;31mTypeError\u001b[0m                                 Traceback (most recent call last)",
      "Cell \u001b[1;32mIn[12], line 2\u001b[0m\n\u001b[0;32m      1\u001b[0m \u001b[38;5;66;03m#Sam\u001b[39;00m\n\u001b[1;32m----> 2\u001b[0m newstring[\u001b[38;5;241m0\u001b[39m]\u001b[38;5;241m=\u001b[39m\u001b[38;5;124m'\u001b[39m\u001b[38;5;124mS\u001b[39m\u001b[38;5;124m'\u001b[39m\n",
      "\u001b[1;31mTypeError\u001b[0m: 'str' object does not support item assignment"
     ]
    }
   ],
   "source": [
    "#Sam\n",
    "newstring[0]='S'"
   ]
  },
  {
   "cell_type": "markdown",
   "id": "8caa6f81-f4e4-4a83-8f12-e3c4769b273a",
   "metadata": {},
   "source": [
    "### 2.Attributes and methods supported by string object"
   ]
  },
  {
   "cell_type": "code",
   "execution_count": 13,
   "id": "e9768a0b-3651-4a90-8a38-c5b24c5e57e7",
   "metadata": {},
   "outputs": [
    {
     "data": {
      "text/plain": [
       "'Ram'"
      ]
     },
     "execution_count": 13,
     "metadata": {},
     "output_type": "execute_result"
    }
   ],
   "source": [
    "newstring"
   ]
  },
  {
   "cell_type": "code",
   "execution_count": 14,
   "id": "892d1333-1e4a-4226-9637-51433d86bf69",
   "metadata": {},
   "outputs": [
    {
     "data": {
      "text/plain": [
       "'RAM'"
      ]
     },
     "execution_count": 14,
     "metadata": {},
     "output_type": "execute_result"
    }
   ],
   "source": [
    "newstring.upper()"
   ]
  },
  {
   "cell_type": "code",
   "execution_count": 17,
   "id": "80f9e7bb-feaf-4581-971e-a0c7db01d404",
   "metadata": {},
   "outputs": [],
   "source": [
    "b='silicon institute of technology'"
   ]
  },
  {
   "cell_type": "code",
   "execution_count": 18,
   "id": "20d1ec25-bca1-4325-99e3-51481a541c1f",
   "metadata": {},
   "outputs": [
    {
     "data": {
      "text/plain": [
       "'Silicon institute of technology'"
      ]
     },
     "execution_count": 18,
     "metadata": {},
     "output_type": "execute_result"
    }
   ],
   "source": [
    "b.capitalize()"
   ]
  },
  {
   "cell_type": "code",
   "execution_count": 19,
   "id": "40586fe7-c41d-46c4-a983-d2188df5a80b",
   "metadata": {},
   "outputs": [
    {
     "data": {
      "text/plain": [
       "['silicon', 'institute', 'of', 'technology']"
      ]
     },
     "execution_count": 19,
     "metadata": {},
     "output_type": "execute_result"
    }
   ],
   "source": [
    "b.split()"
   ]
  },
  {
   "cell_type": "code",
   "execution_count": 20,
   "id": "084c4e10-8854-401c-861f-05acd0e18288",
   "metadata": {},
   "outputs": [],
   "source": [
    "c=b.split()"
   ]
  },
  {
   "cell_type": "code",
   "execution_count": 21,
   "id": "dbd3dfa2-9a63-4dc1-a99d-ae43f4e6bda3",
   "metadata": {},
   "outputs": [
    {
     "name": "stdout",
     "output_type": "stream",
     "text": [
      "['silicon', 'institute', 'of', 'technology']\n"
     ]
    }
   ],
   "source": [
    "print(c)"
   ]
  },
  {
   "cell_type": "code",
   "execution_count": 22,
   "id": "7fcdf9f3-4d6d-46f6-9c4d-38fee8acdb0d",
   "metadata": {},
   "outputs": [
    {
     "data": {
      "text/plain": [
       "str"
      ]
     },
     "execution_count": 22,
     "metadata": {},
     "output_type": "execute_result"
    }
   ],
   "source": [
    "type(b)"
   ]
  },
  {
   "cell_type": "code",
   "execution_count": 23,
   "id": "c80289b3-aed4-4663-a0d6-9e3175a194d9",
   "metadata": {},
   "outputs": [
    {
     "data": {
      "text/plain": [
       "list"
      ]
     },
     "execution_count": 23,
     "metadata": {},
     "output_type": "execute_result"
    }
   ],
   "source": [
    "type(c)"
   ]
  },
  {
   "cell_type": "code",
   "execution_count": 24,
   "id": "786d225f-2a30-4f8b-a7cc-b8bab48446bd",
   "metadata": {},
   "outputs": [],
   "source": [
    "d='silicon'"
   ]
  },
  {
   "cell_type": "code",
   "execution_count": 26,
   "id": "8744d641-7298-4e53-be71-e4ddaa7951cc",
   "metadata": {},
   "outputs": [
    {
     "data": {
      "text/plain": [
       "['s', 'l', 'con']"
      ]
     },
     "execution_count": 26,
     "metadata": {},
     "output_type": "execute_result"
    }
   ],
   "source": [
    "d.split('i')"
   ]
  },
  {
   "cell_type": "markdown",
   "id": "98ae2c03-44a2-4abd-b244-44980dd9a537",
   "metadata": {},
   "source": [
    "### 3.Printing of a string"
   ]
  },
  {
   "cell_type": "code",
   "execution_count": 28,
   "id": "7827d6c9-3cdf-4258-bea6-45e9a2487b35",
   "metadata": {},
   "outputs": [
    {
     "name": "stdout",
     "output_type": "stream",
     "text": [
      "Myself Satendra,Student at Silicon University\n"
     ]
    }
   ],
   "source": [
    "print('Myself Satendra,Student at Silicon University')"
   ]
  },
  {
   "cell_type": "markdown",
   "id": "00682eb1-5ca0-4672-888d-d201bef33240",
   "metadata": {},
   "source": [
    "### Formatting of string"
   ]
  },
  {
   "cell_type": "markdown",
   "id": "ded2d303-74f3-4b5b-b4af-a383343f4bb9",
   "metadata": {},
   "source": [
    "#### A).format()"
   ]
  },
  {
   "cell_type": "code",
   "execution_count": 30,
   "id": "5c7ee9e2-a246-442d-a574-d05c99cc507b",
   "metadata": {},
   "outputs": [
    {
     "name": "stdout",
     "output_type": "stream",
     "text": [
      "Myself Satendra,Student at Silicon University\n"
     ]
    }
   ],
   "source": [
    "print('Myself {},{} at Silicon University'.format('Satendra','Student'))"
   ]
  },
  {
   "cell_type": "code",
   "execution_count": 32,
   "id": "da3aeb6b-bca8-429e-8896-b26e5a7d6b64",
   "metadata": {},
   "outputs": [
    {
     "name": "stdout",
     "output_type": "stream",
     "text": [
      "Myself Satendra,Student at Silicon University\n"
     ]
    }
   ],
   "source": [
    "print('Myself {1},{0} at Silicon University'.format('Student','Satendra'))"
   ]
  },
  {
   "cell_type": "code",
   "execution_count": 33,
   "id": "9b914e6c-f4ee-472a-8c7a-f401f045e66a",
   "metadata": {},
   "outputs": [
    {
     "ename": "NameError",
     "evalue": "name 'Student' is not defined",
     "output_type": "error",
     "traceback": [
      "\u001b[1;31m---------------------------------------------------------------------------\u001b[0m",
      "\u001b[1;31mNameError\u001b[0m                                 Traceback (most recent call last)",
      "Cell \u001b[1;32mIn[33], line 1\u001b[0m\n\u001b[1;32m----> 1\u001b[0m \u001b[38;5;28mprint\u001b[39m(\u001b[38;5;124m'\u001b[39m\u001b[38;5;124mMyself \u001b[39m\u001b[38;5;132;01m{}\u001b[39;00m\u001b[38;5;124m,\u001b[39m\u001b[38;5;132;01m{}\u001b[39;00m\u001b[38;5;124m at Silicon University\u001b[39m\u001b[38;5;124m'\u001b[39m\u001b[38;5;241m.\u001b[39mformat(\u001b[38;5;124m'\u001b[39m\u001b[38;5;124mSatendra\u001b[39m\u001b[38;5;124m'\u001b[39m,Student))\n",
      "\u001b[1;31mNameError\u001b[0m: name 'Student' is not defined"
     ]
    }
   ],
   "source": [
    "print('Myself {},{} at Silicon University'.format('Satendra',Student))"
   ]
  },
  {
   "cell_type": "code",
   "execution_count": 34,
   "id": "058887a5-ec6c-46c5-b3d2-8b07fdec6bf3",
   "metadata": {},
   "outputs": [
    {
     "name": "stdout",
     "output_type": "stream",
     "text": [
      "Myself Satendra,2006 at Silicon University\n"
     ]
    }
   ],
   "source": [
    "print('Myself {},{} at Silicon University'.format('Satendra',2006))"
   ]
  },
  {
   "cell_type": "markdown",
   "id": "efdf5175-bb0c-4bef-939e-a870fbd3df6a",
   "metadata": {},
   "source": [
    "#### B) f-string(formatted string literals) formatting"
   ]
  },
  {
   "cell_type": "code",
   "execution_count": 3,
   "id": "aaef2e00-0a02-499e-9805-1384da2d178b",
   "metadata": {},
   "outputs": [
    {
     "name": "stdout",
     "output_type": "stream",
     "text": [
      "Myself Satendra,Student at Silicon University\n"
     ]
    }
   ],
   "source": [
    "print('Myself {1},{0} at Silicon University'.format('Student','Satendra'))"
   ]
  },
  {
   "cell_type": "code",
   "execution_count": 4,
   "id": "f375a8c3-d4c6-4aa9-b57c-b72af13c3e96",
   "metadata": {},
   "outputs": [
    {
     "name": "stdout",
     "output_type": "stream",
     "text": [
      "Myself Satendra,Student at Silicon University\n"
     ]
    }
   ],
   "source": [
    "name='Satendra'\n",
    "desgn='Student'\n",
    "print(f'Myself {name},{desgn} at Silicon University')"
   ]
  },
  {
   "cell_type": "markdown",
   "id": "0762d44a-8469-4256-a3cc-d0431bd0e5d3",
   "metadata": {},
   "source": [
    "## LIST datatype"
   ]
  },
  {
   "cell_type": "markdown",
   "id": "a1f7d8eb-27d0-4b9d-9dff-5430891f4589",
   "metadata": {},
   "source": [
    "#### It contains elements of different datatypes separated by commas and are placed within a square bracket."
   ]
  },
  {
   "cell_type": "code",
   "execution_count": 5,
   "id": "210ea7d0-484d-4c3d-95ac-25e45ab5213f",
   "metadata": {},
   "outputs": [],
   "source": [
    "mylist=[2,'silicon',2.2,[1,2,3]]"
   ]
  },
  {
   "cell_type": "code",
   "execution_count": 6,
   "id": "f58814b5-1512-4fb7-bc8a-2943b74e870c",
   "metadata": {},
   "outputs": [
    {
     "data": {
      "text/plain": [
       "[2, 'silicon', 2.2, [1, 2, 3]]"
      ]
     },
     "execution_count": 6,
     "metadata": {},
     "output_type": "execute_result"
    }
   ],
   "source": [
    "mylist"
   ]
  },
  {
   "cell_type": "markdown",
   "id": "dbce2109-bf17-4542-8e52-a7f6575f815f",
   "metadata": {},
   "source": [
    "#### 2. It is an ordered sequence, which mean it supports indexing and slicing"
   ]
  },
  {
   "cell_type": "markdown",
   "id": "229b4208-879b-418b-aaa0-11241b4e1b13",
   "metadata": {},
   "source": [
    "#### A]Indexing"
   ]
  },
  {
   "cell_type": "code",
   "execution_count": 7,
   "id": "ce189617-8261-450f-a34f-b1adf2ca478e",
   "metadata": {},
   "outputs": [
    {
     "data": {
      "text/plain": [
       "[2, 'silicon', 2.2, [1, 2, 3]]"
      ]
     },
     "execution_count": 7,
     "metadata": {},
     "output_type": "execute_result"
    }
   ],
   "source": [
    "mylist"
   ]
  },
  {
   "cell_type": "code",
   "execution_count": 8,
   "id": "ff782db6-3a98-43a4-a178-54d42c7c46b8",
   "metadata": {},
   "outputs": [
    {
     "data": {
      "text/plain": [
       "2"
      ]
     },
     "execution_count": 8,
     "metadata": {},
     "output_type": "execute_result"
    }
   ],
   "source": [
    "mylist[0]"
   ]
  },
  {
   "cell_type": "markdown",
   "id": "af3130ea-0950-423a-871f-46af69f2a923",
   "metadata": {},
   "source": [
    "#### WAP to grab the object 3 from the list"
   ]
  },
  {
   "cell_type": "code",
   "execution_count": 9,
   "id": "01eb05d4-3ec1-4763-9e4e-2e2e6ca78d9c",
   "metadata": {},
   "outputs": [
    {
     "data": {
      "text/plain": [
       "3"
      ]
     },
     "execution_count": 9,
     "metadata": {},
     "output_type": "execute_result"
    }
   ],
   "source": [
    "mylist[3][2]"
   ]
  },
  {
   "cell_type": "markdown",
   "id": "e0871b49-67eb-42d5-b32b-e64e9861d9df",
   "metadata": {},
   "source": [
    "#### b]Slicing"
   ]
  },
  {
   "cell_type": "code",
   "execution_count": 10,
   "id": "5d9c0cd0-52d1-481d-9508-3c8ff3ad5808",
   "metadata": {},
   "outputs": [
    {
     "data": {
      "text/plain": [
       "[2, 'silicon']"
      ]
     },
     "execution_count": 10,
     "metadata": {},
     "output_type": "execute_result"
    }
   ],
   "source": [
    "mylist[:2]"
   ]
  },
  {
   "cell_type": "markdown",
   "id": "5d823fb5-7eaa-4fa2-8798-8476fd956dce",
   "metadata": {},
   "source": [
    "### 3. Properties of LIST"
   ]
  },
  {
   "cell_type": "markdown",
   "id": "d69cbb21-bf33-4676-a148-d1aa9066fcd6",
   "metadata": {},
   "source": [
    "#### A) LIST are mutable"
   ]
  },
  {
   "cell_type": "code",
   "execution_count": 11,
   "id": "2b980a99-c238-4fe5-81cf-6d9faa478f4c",
   "metadata": {},
   "outputs": [
    {
     "data": {
      "text/plain": [
       "[2, 'silicon', 2.2, [1, 2, 3]]"
      ]
     },
     "execution_count": 11,
     "metadata": {},
     "output_type": "execute_result"
    }
   ],
   "source": [
    "mylist"
   ]
  },
  {
   "cell_type": "code",
   "execution_count": 12,
   "id": "b7acfd0a-999d-4c1f-a561-75514dc08f36",
   "metadata": {},
   "outputs": [],
   "source": [
    "mystring='RAM'"
   ]
  },
  {
   "cell_type": "code",
   "execution_count": 13,
   "id": "f56b2bcf-a265-4ada-b058-d556a3b323c0",
   "metadata": {},
   "outputs": [
    {
     "ename": "TypeError",
     "evalue": "'str' object does not support item assignment",
     "output_type": "error",
     "traceback": [
      "\u001b[1;31m---------------------------------------------------------------------------\u001b[0m",
      "\u001b[1;31mTypeError\u001b[0m                                 Traceback (most recent call last)",
      "Cell \u001b[1;32mIn[13], line 1\u001b[0m\n\u001b[1;32m----> 1\u001b[0m mystring[\u001b[38;5;241m0\u001b[39m]\u001b[38;5;241m=\u001b[39m\u001b[38;5;124m'\u001b[39m\u001b[38;5;124mS\u001b[39m\u001b[38;5;124m'\u001b[39m\n",
      "\u001b[1;31mTypeError\u001b[0m: 'str' object does not support item assignment"
     ]
    }
   ],
   "source": [
    "mystring[0]='S'"
   ]
  },
  {
   "cell_type": "code",
   "execution_count": 14,
   "id": "a456e551-eeea-47d2-89e4-2763c29fa29d",
   "metadata": {},
   "outputs": [
    {
     "data": {
      "text/plain": [
       "2"
      ]
     },
     "execution_count": 14,
     "metadata": {},
     "output_type": "execute_result"
    }
   ],
   "source": [
    "mylist[0]"
   ]
  },
  {
   "cell_type": "code",
   "execution_count": 15,
   "id": "64dae685-5961-4520-bed6-4cf7bfb07658",
   "metadata": {},
   "outputs": [],
   "source": [
    "mylist[0]=10.5"
   ]
  },
  {
   "cell_type": "code",
   "execution_count": 16,
   "id": "a16ae029-4117-4f09-854f-7dbb7bb91c2c",
   "metadata": {},
   "outputs": [
    {
     "data": {
      "text/plain": [
       "[10.5, 'silicon', 2.2, [1, 2, 3]]"
      ]
     },
     "execution_count": 16,
     "metadata": {},
     "output_type": "execute_result"
    }
   ],
   "source": [
    "mylist"
   ]
  },
  {
   "cell_type": "markdown",
   "id": "389bd46b-e46c-4309-9358-c6665bd74ff6",
   "metadata": {},
   "source": [
    "#### B] Methods and attributes supported by LIST"
   ]
  },
  {
   "cell_type": "code",
   "execution_count": 17,
   "id": "e247d163-6b23-4fb4-aafc-62574b9864b8",
   "metadata": {},
   "outputs": [],
   "source": [
    "mylist.append('Institute')"
   ]
  },
  {
   "cell_type": "code",
   "execution_count": 18,
   "id": "4ad4217c-aab7-46f9-a4ac-34a24c326655",
   "metadata": {},
   "outputs": [
    {
     "data": {
      "text/plain": [
       "[10.5, 'silicon', 2.2, [1, 2, 3], 'Institute']"
      ]
     },
     "execution_count": 18,
     "metadata": {},
     "output_type": "execute_result"
    }
   ],
   "source": [
    "mylist"
   ]
  },
  {
   "cell_type": "code",
   "execution_count": 19,
   "id": "870b0c04-0816-4897-aabc-60f309e643b0",
   "metadata": {},
   "outputs": [],
   "source": [
    "mylist.insert(2,'Technology')"
   ]
  },
  {
   "cell_type": "code",
   "execution_count": 20,
   "id": "0c258c88-4199-440a-b6a9-7d41cfbd5f05",
   "metadata": {},
   "outputs": [
    {
     "data": {
      "text/plain": [
       "[10.5, 'silicon', 'Technology', 2.2, [1, 2, 3], 'Institute']"
      ]
     },
     "execution_count": 20,
     "metadata": {},
     "output_type": "execute_result"
    }
   ],
   "source": [
    "mylist"
   ]
  },
  {
   "cell_type": "markdown",
   "id": "8a2f5da9-9bae-4cad-ab2a-fce086a8cd88",
   "metadata": {},
   "source": [
    "#### WAP to grab Technology and convert all its character to upper case"
   ]
  },
  {
   "cell_type": "code",
   "execution_count": 21,
   "id": "52d4a0af-c75e-4aee-9a0d-be21fc11f297",
   "metadata": {},
   "outputs": [],
   "source": [
    "b=mylist[2]"
   ]
  },
  {
   "cell_type": "code",
   "execution_count": 22,
   "id": "39a85268-39be-43a4-888f-83d8c3a012c2",
   "metadata": {},
   "outputs": [
    {
     "data": {
      "text/plain": [
       "'Technology'"
      ]
     },
     "execution_count": 22,
     "metadata": {},
     "output_type": "execute_result"
    }
   ],
   "source": [
    "b"
   ]
  },
  {
   "cell_type": "code",
   "execution_count": 23,
   "id": "fd092120-9c07-4cc0-8d24-94e693f99c90",
   "metadata": {},
   "outputs": [
    {
     "data": {
      "text/plain": [
       "'TECHNOLOGY'"
      ]
     },
     "execution_count": 23,
     "metadata": {},
     "output_type": "execute_result"
    }
   ],
   "source": [
    "b.upper()"
   ]
  },
  {
   "cell_type": "code",
   "execution_count": 24,
   "id": "5449db75-d699-4de4-946f-de758851ac14",
   "metadata": {},
   "outputs": [
    {
     "data": {
      "text/plain": [
       "'TECHNOLOGY'"
      ]
     },
     "execution_count": 24,
     "metadata": {},
     "output_type": "execute_result"
    }
   ],
   "source": [
    "mylist[2].upper()"
   ]
  },
  {
   "cell_type": "markdown",
   "id": "db420e2c-e3e0-4ce3-ba31-798813478da8",
   "metadata": {},
   "source": [
    "#### WAP to take input as a list : L=['a','x','p','b','e'],the sort itand then print the reverse of it in form of LIST"
   ]
  },
  {
   "cell_type": "code",
   "execution_count": 25,
   "id": "f41ee29b-05ad-42b2-bfd8-5c38110c9a31",
   "metadata": {},
   "outputs": [
    {
     "data": {
      "text/plain": [
       "[10.5, 'silicon', 'Technology', 2.2, [1, 2, 3], 'Institute']"
      ]
     },
     "execution_count": 25,
     "metadata": {},
     "output_type": "execute_result"
    }
   ],
   "source": [
    "mylist"
   ]
  },
  {
   "cell_type": "code",
   "execution_count": 26,
   "id": "dbedc7eb-cb5d-4f7a-a458-452a3c12e5ac",
   "metadata": {},
   "outputs": [],
   "source": [
    "L=['a','x','p','b','e']"
   ]
  },
  {
   "cell_type": "code",
   "execution_count": 27,
   "id": "70d72101-2774-4bcc-bbfc-31cc0a92e2b1",
   "metadata": {},
   "outputs": [],
   "source": [
    "L.sort()"
   ]
  },
  {
   "cell_type": "code",
   "execution_count": 28,
   "id": "f64cc9b6-7285-4350-827c-9173efb3b650",
   "metadata": {},
   "outputs": [
    {
     "data": {
      "text/plain": [
       "['a', 'b', 'e', 'p', 'x']"
      ]
     },
     "execution_count": 28,
     "metadata": {},
     "output_type": "execute_result"
    }
   ],
   "source": [
    "L"
   ]
  },
  {
   "cell_type": "markdown",
   "id": "bc8c7c61-8963-4c43-baa3-2c0b0deb1495",
   "metadata": {},
   "source": [
    "## 3.Dictionary datatype"
   ]
  },
  {
   "cell_type": "markdown",
   "id": "194c468f-3aaa-47a4-9e31-e64153eb6bf8",
   "metadata": {},
   "source": [
    "#### 1.Unordered sequence of Key-Value pair if objects.It doesn't support indexing and slicing. It also doesn''t support sorting"
   ]
  },
  {
   "cell_type": "code",
   "execution_count": 32,
   "id": "10c047fd-6974-42fe-b84f-6e93b15bc998",
   "metadata": {},
   "outputs": [],
   "source": [
    "d={'breakfast':35,'lunch':70,'dinner':50}"
   ]
  },
  {
   "cell_type": "code",
   "execution_count": 33,
   "id": "19dcabe7-87ea-4461-8743-b0042a05e605",
   "metadata": {},
   "outputs": [
    {
     "data": {
      "text/plain": [
       "35"
      ]
     },
     "execution_count": 33,
     "metadata": {},
     "output_type": "execute_result"
    }
   ],
   "source": [
    "d['breakfast']"
   ]
  },
  {
   "cell_type": "code",
   "execution_count": 34,
   "id": "5665bd75-c04b-4346-8015-492ff858f5bd",
   "metadata": {},
   "outputs": [
    {
     "data": {
      "text/plain": [
       "70"
      ]
     },
     "execution_count": 34,
     "metadata": {},
     "output_type": "execute_result"
    }
   ],
   "source": [
    "d['lunch']"
   ]
  },
  {
   "cell_type": "code",
   "execution_count": 35,
   "id": "53272ce7-c893-47bd-967b-01a3a6918870",
   "metadata": {},
   "outputs": [
    {
     "data": {
      "text/plain": [
       "dict_keys(['breakfast', 'lunch', 'dinner'])"
      ]
     },
     "execution_count": 35,
     "metadata": {},
     "output_type": "execute_result"
    }
   ],
   "source": [
    "d.keys()"
   ]
  },
  {
   "cell_type": "code",
   "execution_count": 36,
   "id": "85e6dc30-6df6-4094-b061-26cad07908e5",
   "metadata": {},
   "outputs": [
    {
     "data": {
      "text/plain": [
       "dict_values([35, 70, 50])"
      ]
     },
     "execution_count": 36,
     "metadata": {},
     "output_type": "execute_result"
    }
   ],
   "source": [
    "d.values()"
   ]
  },
  {
   "cell_type": "code",
   "execution_count": 37,
   "id": "d6d09d56-704a-4942-a3eb-ac29a6887abf",
   "metadata": {},
   "outputs": [
    {
     "data": {
      "text/plain": [
       "dict_items([('breakfast', 35), ('lunch', 70), ('dinner', 50)])"
      ]
     },
     "execution_count": 37,
     "metadata": {},
     "output_type": "execute_result"
    }
   ],
   "source": [
    "d.items()"
   ]
  },
  {
   "cell_type": "markdown",
   "id": "cf032d28-3312-44de-8a49-6baab8f5aa73",
   "metadata": {},
   "source": [
    "#### WAP which will take dictionary as D={'k1':[1,2,3,4],'k2':{'k21':'silicon','k22':'Bhubaneswar'}}.Now grab bhubaneswar and make it all characters upper case . Similarly grab 'silicon' and then make the first character as capital"
   ]
  },
  {
   "cell_type": "code",
   "execution_count": 38,
   "id": "ed6437e8-10c9-47df-aa42-26826985cd21",
   "metadata": {},
   "outputs": [],
   "source": [
    "D={'k1':[1,2,3,4],'k2':{'k21':'silicon','k22':'Bhubanswar'}}"
   ]
  },
  {
   "cell_type": "code",
   "execution_count": 39,
   "id": "30d5fa0b-71c2-41f1-b649-99a3416c8629",
   "metadata": {},
   "outputs": [
    {
     "data": {
      "text/plain": [
       "'Bhubanswar'"
      ]
     },
     "execution_count": 39,
     "metadata": {},
     "output_type": "execute_result"
    }
   ],
   "source": [
    "D['k2']['k22']"
   ]
  },
  {
   "cell_type": "code",
   "execution_count": 42,
   "id": "156c19e4-a284-4798-b665-75b90874c7a6",
   "metadata": {},
   "outputs": [],
   "source": [
    "D['k2']['k22']=D['k2']['k22'].upper()"
   ]
  },
  {
   "cell_type": "code",
   "execution_count": 43,
   "id": "1af4e529-b99a-4a00-b149-24621b5dc600",
   "metadata": {},
   "outputs": [],
   "source": [
    "D['k2']['k21']=D['k2']['k21'].capitalize()"
   ]
  },
  {
   "cell_type": "code",
   "execution_count": 44,
   "id": "8c315c9c-cb09-430d-aa13-62386711dee9",
   "metadata": {},
   "outputs": [
    {
     "data": {
      "text/plain": [
       "{'k1': [1, 2, 3, 4], 'k2': {'k21': 'Silicon', 'k22': 'BHUBANSWAR'}}"
      ]
     },
     "execution_count": 44,
     "metadata": {},
     "output_type": "execute_result"
    }
   ],
   "source": [
    "D"
   ]
  },
  {
   "cell_type": "markdown",
   "id": "4a1d78ac-59b7-4162-970f-5a891061dded",
   "metadata": {},
   "source": [
    "#### Dictionary are mutable?"
   ]
  },
  {
   "cell_type": "code",
   "execution_count": 45,
   "id": "5938f24f-33b7-4915-a13a-c930b924e811",
   "metadata": {},
   "outputs": [],
   "source": [
    "mydict={'k1':20,'k2':30}"
   ]
  },
  {
   "cell_type": "code",
   "execution_count": 46,
   "id": "43115c6a-50b7-4f5b-ac1c-03a5c0d982c6",
   "metadata": {},
   "outputs": [],
   "source": [
    "mydict['k1']=100"
   ]
  },
  {
   "cell_type": "code",
   "execution_count": 47,
   "id": "2d1fd3a6-9412-487f-946f-987c87e35bcd",
   "metadata": {},
   "outputs": [
    {
     "data": {
      "text/plain": [
       "{'k1': 100, 'k2': 30}"
      ]
     },
     "execution_count": 47,
     "metadata": {},
     "output_type": "execute_result"
    }
   ],
   "source": [
    "mydict"
   ]
  },
  {
   "cell_type": "markdown",
   "id": "a1b28ffc-b80c-41c4-8d29-61a82928d794",
   "metadata": {},
   "source": [
    "#### from the above it is clear that Dictionaries are MUTABLE i.e., ITEM reassignment can be done"
   ]
  },
  {
   "cell_type": "markdown",
   "id": "69c245d8-1383-4d36-859a-12f6e0ef12e9",
   "metadata": {},
   "source": [
    "## 4. TUPLES DATATYPE"
   ]
  },
  {
   "cell_type": "markdown",
   "id": "7443b20d-dd2f-4844-9dea-651ac5423d4a",
   "metadata": {},
   "source": [
    "#### 1) It contains objects of different datatypes separated by commas and enclosed by paranthesis"
   ]
  },
  {
   "cell_type": "code",
   "execution_count": 48,
   "id": "5bb8a981-cea4-4815-82b4-cab80d2c0220",
   "metadata": {},
   "outputs": [],
   "source": [
    "mytuple=([1,2,3],'Silicon',{'k1':30,'k2':'Bhubaneswar'})"
   ]
  },
  {
   "cell_type": "code",
   "execution_count": 49,
   "id": "d23e50cc-a5a2-4598-a0ae-5b03b8cee92a",
   "metadata": {},
   "outputs": [
    {
     "data": {
      "text/plain": [
       "tuple"
      ]
     },
     "execution_count": 49,
     "metadata": {},
     "output_type": "execute_result"
    }
   ],
   "source": [
    "type(mytuple)"
   ]
  },
  {
   "cell_type": "code",
   "execution_count": 50,
   "id": "d7dd2d17-24b1-486a-9e78-64de72b2f83f",
   "metadata": {},
   "outputs": [
    {
     "data": {
      "text/plain": [
       "([1, 2, 3], 'Silicon', {'k1': 30, 'k2': 'Bhubaneswar'})"
      ]
     },
     "execution_count": 50,
     "metadata": {},
     "output_type": "execute_result"
    }
   ],
   "source": [
    "mytuple"
   ]
  },
  {
   "cell_type": "code",
   "execution_count": 51,
   "id": "1f25fee4-309a-4b1b-9ed7-e84320bcd6fe",
   "metadata": {},
   "outputs": [
    {
     "ename": "TypeError",
     "evalue": "'tuple' object does not support item assignment",
     "output_type": "error",
     "traceback": [
      "\u001b[1;31m---------------------------------------------------------------------------\u001b[0m",
      "\u001b[1;31mTypeError\u001b[0m                                 Traceback (most recent call last)",
      "Cell \u001b[1;32mIn[51], line 1\u001b[0m\n\u001b[1;32m----> 1\u001b[0m mytuple[\u001b[38;5;241m0\u001b[39m]\u001b[38;5;241m=\u001b[39m\u001b[38;5;241m20\u001b[39m\n",
      "\u001b[1;31mTypeError\u001b[0m: 'tuple' object does not support item assignment"
     ]
    }
   ],
   "source": [
    "mytuple[0]=20"
   ]
  },
  {
   "cell_type": "markdown",
   "id": "328561fd-8911-48ec-8c7d-c778c0119985",
   "metadata": {},
   "source": [
    "#### So from it is clear that TUPLES are not mutable"
   ]
  },
  {
   "cell_type": "code",
   "execution_count": 52,
   "id": "8d20040c-f6e8-4448-a509-ca1e0c6defca",
   "metadata": {},
   "outputs": [],
   "source": [
    "mylist=[1,2,] ## MUTABLE\n",
    "mytuple=(1,2,3) ##IMMUTABLE"
   ]
  },
  {
   "cell_type": "markdown",
   "id": "1fcab71d-f000-4e6e-87e2-9610bcf59ff6",
   "metadata": {},
   "source": [
    "#### WHEN TO USE LIST & TUPLES?"
   ]
  },
  {
   "cell_type": "markdown",
   "id": "d8f48a0e-3a32-4c23-9c3f-7003018ac7a2",
   "metadata": {},
   "source": [
    "#### When there is concerned for \"DATA INTEGRITY\" then we go for TUPLES."
   ]
  },
  {
   "cell_type": "markdown",
   "id": "55d0c750-bbe3-4116-a67e-7ebd37941ebe",
   "metadata": {},
   "source": [
    "#### 3) Tuples are ordered sequence,so it supports indexing and slicing."
   ]
  },
  {
   "cell_type": "code",
   "execution_count": 53,
   "id": "b6a75614-9590-4122-86d3-e39caeb9e0cc",
   "metadata": {},
   "outputs": [
    {
     "data": {
      "text/plain": [
       "3"
      ]
     },
     "execution_count": 53,
     "metadata": {},
     "output_type": "execute_result"
    }
   ],
   "source": [
    "## Indexing:\n",
    "mytuple[2]"
   ]
  },
  {
   "cell_type": "code",
   "execution_count": 54,
   "id": "ad47541f-b9ed-417b-84d1-7afb60a2dbd7",
   "metadata": {},
   "outputs": [
    {
     "data": {
      "text/plain": [
       "(1, 2)"
      ]
     },
     "execution_count": 54,
     "metadata": {},
     "output_type": "execute_result"
    }
   ],
   "source": [
    "###Slicing:\n",
    "mytuple[:2]"
   ]
  },
  {
   "cell_type": "code",
   "execution_count": 55,
   "id": "01e29e80-11be-441a-93d2-99ca25109d8d",
   "metadata": {},
   "outputs": [
    {
     "data": {
      "text/plain": [
       "(1, 2, 3)"
      ]
     },
     "execution_count": 55,
     "metadata": {},
     "output_type": "execute_result"
    }
   ],
   "source": [
    "mytuple"
   ]
  },
  {
   "cell_type": "markdown",
   "id": "02ef263f-6eb1-47e2-ab3a-dfb515e37c21",
   "metadata": {},
   "source": [
    "#### 4.Attributes and methods for tuples"
   ]
  },
  {
   "cell_type": "code",
   "execution_count": 56,
   "id": "6981ee6e-f80c-42cf-81ee-eab7f9852a35",
   "metadata": {},
   "outputs": [],
   "source": [
    "mytuple=('a','b','b')"
   ]
  },
  {
   "cell_type": "code",
   "execution_count": 57,
   "id": "c6e9a761-170a-42cf-8a9b-c53257f6a942",
   "metadata": {},
   "outputs": [
    {
     "data": {
      "text/plain": [
       "1"
      ]
     },
     "execution_count": 57,
     "metadata": {},
     "output_type": "execute_result"
    }
   ],
   "source": [
    "mytuple.count('a')"
   ]
  },
  {
   "cell_type": "code",
   "execution_count": 58,
   "id": "77d32932-86a3-4171-a9da-3ad97561a1d8",
   "metadata": {},
   "outputs": [
    {
     "data": {
      "text/plain": [
       "2"
      ]
     },
     "execution_count": 58,
     "metadata": {},
     "output_type": "execute_result"
    }
   ],
   "source": [
    "mytuple.count('b')"
   ]
  },
  {
   "cell_type": "code",
   "execution_count": 59,
   "id": "9fa074d5-9585-4e6c-8e72-620315dfadd8",
   "metadata": {},
   "outputs": [
    {
     "data": {
      "text/plain": [
       "1"
      ]
     },
     "execution_count": 59,
     "metadata": {},
     "output_type": "execute_result"
    }
   ],
   "source": [
    "mytuple.index('b')"
   ]
  },
  {
   "cell_type": "code",
   "execution_count": 60,
   "id": "05f7d03b-1c21-4ce2-accd-9fbbf8381825",
   "metadata": {},
   "outputs": [
    {
     "data": {
      "text/plain": [
       "0"
      ]
     },
     "execution_count": 60,
     "metadata": {},
     "output_type": "execute_result"
    }
   ],
   "source": [
    "mytuple.index('a')"
   ]
  },
  {
   "cell_type": "markdown",
   "id": "1d14835a-6eeb-44b4-9614-5e75d959b42d",
   "metadata": {},
   "source": [
    "## SET DATATYPE"
   ]
  },
  {
   "cell_type": "markdown",
   "id": "334b8ef9-0ead-439d-b092-a4cd59a3a27d",
   "metadata": {},
   "source": [
    "#### A set is an unordered collection of datatype that is iterable,mutable and has no duplicate elements."
   ]
  },
  {
   "cell_type": "code",
   "execution_count": 61,
   "id": "df418e05-e1af-4bae-a5ef-8e1292d91154",
   "metadata": {},
   "outputs": [],
   "source": [
    "set1={1,2,3,4,5}\n",
    "set2={3,4,5,6,7}"
   ]
  },
  {
   "cell_type": "code",
   "execution_count": 62,
   "id": "4402b5f4-d766-47a2-9361-f33f82d637a3",
   "metadata": {},
   "outputs": [
    {
     "data": {
      "text/plain": [
       "{1, 2, 3, 4, 5}"
      ]
     },
     "execution_count": 62,
     "metadata": {},
     "output_type": "execute_result"
    }
   ],
   "source": [
    "set1"
   ]
  },
  {
   "cell_type": "code",
   "execution_count": 63,
   "id": "1315b9a5-210c-439d-98ae-e7a6953f4c89",
   "metadata": {},
   "outputs": [
    {
     "name": "stdout",
     "output_type": "stream",
     "text": [
      "{1, 2, 3, 4, 5, 6, 7}\n"
     ]
    }
   ],
   "source": [
    "print(set1|set2)"
   ]
  },
  {
   "cell_type": "code",
   "execution_count": 64,
   "id": "778e5690-b451-4d0e-ba75-285e9779207b",
   "metadata": {},
   "outputs": [
    {
     "name": "stdout",
     "output_type": "stream",
     "text": [
      "{3, 4, 5}\n"
     ]
    }
   ],
   "source": [
    "print(set1&set2)"
   ]
  },
  {
   "cell_type": "markdown",
   "id": "249e3e13-de1f-47c2-ae3e-8c632061bc27",
   "metadata": {},
   "source": [
    "## CONTROL FLOW:"
   ]
  },
  {
   "cell_type": "markdown",
   "id": "9aa69c55-365e-4b67-989a-b71648526b26",
   "metadata": {},
   "source": [
    "#### 1. if-else-else:"
   ]
  },
  {
   "cell_type": "code",
   "execution_count": 66,
   "id": "3a4cca22-90b9-42d8-b65e-6fd9e20d2ebd",
   "metadata": {},
   "outputs": [
    {
     "name": "stdout",
     "output_type": "stream",
     "text": [
      "Word Silicon is found\n"
     ]
    }
   ],
   "source": [
    "a='Silicon'\n",
    "if a=='SILICON':\n",
    "    print(\"Word SILICON is found\")\n",
    "elif a=='silicon':\n",
    "    print(\"Word silicon is found\")\n",
    "else:\n",
    "    print(\"Word Silicon is found\")"
   ]
  },
  {
   "cell_type": "code",
   "execution_count": 67,
   "id": "17b940b6-1479-4a78-a354-3e3d9b977414",
   "metadata": {},
   "outputs": [
    {
     "ename": "SyntaxError",
     "evalue": "expected ':' (3531589063.py, line 6)",
     "output_type": "error",
     "traceback": [
      "\u001b[1;36m  Cell \u001b[1;32mIn[67], line 6\u001b[1;36m\u001b[0m\n\u001b[1;33m    else a=='Silicon':\u001b[0m\n\u001b[1;37m         ^\u001b[0m\n\u001b[1;31mSyntaxError\u001b[0m\u001b[1;31m:\u001b[0m expected ':'\n"
     ]
    }
   ],
   "source": [
    "a='Silicon'\n",
    "if a=='SILICON':\n",
    "    print(\"Word SILICON is found\")\n",
    "elif a=='silicon':\n",
    "    print(\"Word silicon is found\")\n",
    "else a=='Silicon':\n",
    "    print(\"Great,Word Silicon is found\")"
   ]
  },
  {
   "cell_type": "code",
   "execution_count": 69,
   "id": "06482a50-f656-4356-99ff-b60c8579ee10",
   "metadata": {},
   "outputs": [
    {
     "ename": "IndentationError",
     "evalue": "expected an indented block after 'else' statement on line 6 (1935727144.py, line 7)",
     "output_type": "error",
     "traceback": [
      "\u001b[1;36m  Cell \u001b[1;32mIn[69], line 7\u001b[1;36m\u001b[0m\n\u001b[1;33m    print(\"Great,Word Silicon is found\")\u001b[0m\n\u001b[1;37m    ^\u001b[0m\n\u001b[1;31mIndentationError\u001b[0m\u001b[1;31m:\u001b[0m expected an indented block after 'else' statement on line 6\n"
     ]
    }
   ],
   "source": [
    "a='Silicon'\n",
    "if a=='SILICON':\n",
    "    print(\"Word SILICON is found\")\n",
    "elif a=='silicon':\n",
    "    print(\"Word silicon is found\")\n",
    "else:\n",
    "print(\"Great,Word Silicon is found\")"
   ]
  },
  {
   "cell_type": "markdown",
   "id": "d7e18f24-d83c-4ca0-83b5-b9bf4cd8a43f",
   "metadata": {},
   "source": [
    "#### 2.For loop"
   ]
  },
  {
   "cell_type": "code",
   "execution_count": 70,
   "id": "75a87e60-a801-412e-ade2-5a001d71dd82",
   "metadata": {},
   "outputs": [],
   "source": [
    "mylist=[1,2,3,4,5]"
   ]
  },
  {
   "cell_type": "code",
   "execution_count": 71,
   "id": "e3164e0a-1787-4f52-ab07-c3a81ebfbf2c",
   "metadata": {},
   "outputs": [
    {
     "name": "stdout",
     "output_type": "stream",
     "text": [
      "1\n",
      "2\n",
      "3\n",
      "4\n",
      "5\n"
     ]
    }
   ],
   "source": [
    "for a in mylist:\n",
    "    print(a)"
   ]
  },
  {
   "cell_type": "code",
   "execution_count": 72,
   "id": "c0332905-026c-4d46-b520-523113c10592",
   "metadata": {},
   "outputs": [
    {
     "name": "stdout",
     "output_type": "stream",
     "text": [
      "Hi\n",
      "Hi\n",
      "Hi\n",
      "Hi\n",
      "Hi\n"
     ]
    }
   ],
   "source": [
    "for a in mylist:\n",
    "    print(\"Hi\")"
   ]
  },
  {
   "cell_type": "code",
   "execution_count": 73,
   "id": "707998dd-1184-4b11-a004-97b04b46aca4",
   "metadata": {},
   "outputs": [
    {
     "name": "stdout",
     "output_type": "stream",
     "text": [
      "a\n",
      "b\n",
      "c\n"
     ]
    }
   ],
   "source": [
    "for a in ['a','b','c']:\n",
    "    print(a)"
   ]
  },
  {
   "cell_type": "code",
   "execution_count": null,
   "id": "5306d745-f1d9-4748-b3e6-d882c72b056d",
   "metadata": {},
   "outputs": [],
   "source": []
  }
 ],
 "metadata": {
  "kernelspec": {
   "display_name": "Python [conda env:base] *",
   "language": "python",
   "name": "conda-base-py"
  },
  "language_info": {
   "codemirror_mode": {
    "name": "ipython",
    "version": 3
   },
   "file_extension": ".py",
   "mimetype": "text/x-python",
   "name": "python",
   "nbconvert_exporter": "python",
   "pygments_lexer": "ipython3",
   "version": "3.12.7"
  }
 },
 "nbformat": 4,
 "nbformat_minor": 5
}
