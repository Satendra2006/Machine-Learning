{
 "cells": [
  {
   "cell_type": "code",
   "execution_count": null,
   "id": "621e0f3b-8e20-4ac0-8ba8-7dec1d96cf5e",
   "metadata": {},
   "outputs": [],
   "source": []
  }
 ],
 "metadata": {
  "kernelspec": {
   "display_name": "",
   "name": ""
  },
  "language_info": {
   "name": ""
  }
 },
 "nbformat": 4,
 "nbformat_minor": 5
}
