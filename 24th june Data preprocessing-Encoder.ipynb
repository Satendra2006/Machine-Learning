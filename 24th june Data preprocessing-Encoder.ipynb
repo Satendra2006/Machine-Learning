{
 "cells": [
  {
   "cell_type": "markdown",
   "id": "f46ab0c5-4a31-4041-94c4-d4ab768de75b",
   "metadata": {},
   "source": [
    "#### Conversion from categorical data"
   ]
  },
  {
   "cell_type": "markdown",
   "id": "8a09db54-f8b9-4f65-830e-47bd71ad2364",
   "metadata": {},
   "source": [
    "#### 1] class OrdinalEncoder: converts the categorical data into integers,which have ordinal relationship"
   ]
  },
  {
   "cell_type": "code",
   "execution_count": 1,
   "id": "be93e12c-cb24-4305-8a9b-8e251617f04e",
   "metadata": {},
   "outputs": [],
   "source": [
    "from sklearn.preprocessing import OrdinalEncoder"
   ]
  },
  {
   "cell_type": "code",
   "execution_count": 2,
   "id": "53f2a798-1711-479d-a297-7089a1ba6b9e",
   "metadata": {},
   "outputs": [],
   "source": [
    "data=[['low'],['medium'],['high']]"
   ]
  },
  {
   "cell_type": "code",
   "execution_count": 3,
   "id": "5cdad8ea-dd17-4857-9651-6c0f5d9aff52",
   "metadata": {},
   "outputs": [
    {
     "data": {
      "text/plain": [
       "[['low'], ['medium'], ['high']]"
      ]
     },
     "execution_count": 3,
     "metadata": {},
     "output_type": "execute_result"
    }
   ],
   "source": [
    "data"
   ]
  },
  {
   "cell_type": "code",
   "execution_count": 4,
   "id": "9808da95-cb33-49e2-9108-4b2044b75b36",
   "metadata": {},
   "outputs": [],
   "source": [
    "OE=OrdinalEncoder()"
   ]
  },
  {
   "cell_type": "code",
   "execution_count": 5,
   "id": "456150db-c42b-4718-83aa-51eeee57f3a5",
   "metadata": {},
   "outputs": [
    {
     "data": {
      "text/plain": [
       "array([[1.],\n",
       "       [2.],\n",
       "       [0.]])"
      ]
     },
     "execution_count": 5,
     "metadata": {},
     "output_type": "execute_result"
    }
   ],
   "source": [
    "OE.fit_transform(data)"
   ]
  },
  {
   "cell_type": "markdown",
   "id": "3ab5a6f7-d3ca-4b3b-b183-75b613b89bae",
   "metadata": {},
   "source": [
    "#### 2] class OneHotEncoder : converts categorical data into binary(0/1) vectors"
   ]
  },
  {
   "cell_type": "code",
   "execution_count": 6,
   "id": "1479e973-3d32-49a4-bc0f-0b7484c19ada",
   "metadata": {},
   "outputs": [],
   "source": [
    "from sklearn.preprocessing import OneHotEncoder"
   ]
  },
  {
   "cell_type": "code",
   "execution_count": 7,
   "id": "449687cd-505f-4a59-8bf3-f9542dbc101f",
   "metadata": {},
   "outputs": [
    {
     "data": {
      "text/plain": [
       "[['red'], ['green'], ['orange']]"
      ]
     },
     "execution_count": 7,
     "metadata": {},
     "output_type": "execute_result"
    }
   ],
   "source": [
    "data=[['red'],['green'],['orange']]\n",
    "data"
   ]
  },
  {
   "cell_type": "code",
   "execution_count": 8,
   "id": "6d7b4275-130c-4c0c-9055-d4e286ecc114",
   "metadata": {},
   "outputs": [],
   "source": [
    "OHE=OneHotEncoder()"
   ]
  },
  {
   "cell_type": "code",
   "execution_count": 9,
   "id": "9a09d80d-63ea-4c56-89ab-8d8329cb336b",
   "metadata": {},
   "outputs": [
    {
     "data": {
      "text/plain": [
       "array([[0., 0., 1.],\n",
       "       [1., 0., 0.],\n",
       "       [0., 1., 0.]])"
      ]
     },
     "execution_count": 9,
     "metadata": {},
     "output_type": "execute_result"
    }
   ],
   "source": [
    "OHE.fit_transform(data).toarray()"
   ]
  },
  {
   "cell_type": "markdown",
   "id": "bab47fe2-b2f6-4717-bca2-d30e58d7e21d",
   "metadata": {},
   "source": [
    "#### 3] LabelEncoder: Converts targets labels into integers"
   ]
  },
  {
   "cell_type": "code",
   "execution_count": 10,
   "id": "5df8a750-cea7-4121-b842-0e7e99f8394f",
   "metadata": {},
   "outputs": [],
   "source": [
    "from sklearn.preprocessing import LabelEncoder"
   ]
  },
  {
   "cell_type": "code",
   "execution_count": 11,
   "id": "a685e2f5-ff8c-4237-a39f-1988bf199a3f",
   "metadata": {},
   "outputs": [],
   "source": [
    "data=['Yes','No']"
   ]
  },
  {
   "cell_type": "code",
   "execution_count": 12,
   "id": "b877201a-115d-452b-b361-19257f995c62",
   "metadata": {},
   "outputs": [],
   "source": [
    "LE=LabelEncoder()"
   ]
  },
  {
   "cell_type": "code",
   "execution_count": 13,
   "id": "acc02eba-ba70-416e-8103-ca663b6d6873",
   "metadata": {},
   "outputs": [
    {
     "data": {
      "text/plain": [
       "array([1, 0], dtype=int64)"
      ]
     },
     "execution_count": 13,
     "metadata": {},
     "output_type": "execute_result"
    }
   ],
   "source": [
    "LE.fit_transform(data)"
   ]
  },
  {
   "cell_type": "code",
   "execution_count": 14,
   "id": "81f6ec47-f099-423d-bb38-35cacc739f0b",
   "metadata": {},
   "outputs": [],
   "source": [
    "data1=['unacc','acc','good','vgood']"
   ]
  },
  {
   "cell_type": "code",
   "execution_count": 15,
   "id": "13936e46-5525-43b0-9eab-5ac819208ccf",
   "metadata": {},
   "outputs": [
    {
     "data": {
      "text/plain": [
       "array([2, 0, 1, 3], dtype=int64)"
      ]
     },
     "execution_count": 15,
     "metadata": {},
     "output_type": "execute_result"
    }
   ],
   "source": [
    "LE.fit_transform(data1)"
   ]
  },
  {
   "cell_type": "code",
   "execution_count": null,
   "id": "6c5b880f-e803-4a6a-abb7-a38e714171b5",
   "metadata": {},
   "outputs": [],
   "source": []
  }
 ],
 "metadata": {
  "kernelspec": {
   "display_name": "Python [conda env:base] *",
   "language": "python",
   "name": "conda-base-py"
  },
  "language_info": {
   "codemirror_mode": {
    "name": "ipython",
    "version": 3
   },
   "file_extension": ".py",
   "mimetype": "text/x-python",
   "name": "python",
   "nbconvert_exporter": "python",
   "pygments_lexer": "ipython3",
   "version": "3.12.7"
  }
 },
 "nbformat": 4,
 "nbformat_minor": 5
}
